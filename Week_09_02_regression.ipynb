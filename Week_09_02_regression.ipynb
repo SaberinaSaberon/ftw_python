{
  "cells": [
    {
      "cell_type": "markdown",
      "metadata": {
        "id": "view-in-github",
        "colab_type": "text"
      },
      "source": [
        "<a href=\"https://colab.research.google.com/github/angelaaaateng/ftw_python/blob/main/Week_09_02_regression.ipynb\" target=\"_parent\"><img src=\"https://colab.research.google.com/assets/colab-badge.svg\" alt=\"Open In Colab\"/></a>"
      ]
    },
    {
      "cell_type": "markdown",
      "metadata": {
        "id": "GabGCh19zLvS"
      },
      "source": [
        "02 Regression\n",
        "===\n",
        "if the desired output consists of one or more continuous variables, then the task is called regression. An example of a regression problem would be the prediction of the length of a salmon as a function of its age and weight."
      ]
    },
    {
      "cell_type": "code",
      "execution_count": null,
      "metadata": {
        "id": "xGF6ZR_DzLva"
      },
      "outputs": [],
      "source": [
        "%matplotlib inline\n",
        "import matplotlib.pyplot as plt\n",
        "import seaborn as sns; sns.set()\n",
        "import numpy as np\n",
        "import pandas as pd"
      ]
    },
    {
      "cell_type": "markdown",
      "metadata": {
        "id": "00k8Ag6QzLve"
      },
      "source": [
        "# Simple Linear Regression\n",
        "We will start with the most familiar linear regression, a straight-line fit to data. A straight-line fit is a model of the form\n",
        ">y=ax+b\n",
        "\n",
        "where **a** is commonly known as the slope, and **b** is commonly known as the intercept while **y** is the dependent (target) and **x** is the independent(feature) variable/s\n",
        "\n",
        "Consider the following data, which is scattered about a line with a slope of 2 and an intercept of -5:"
      ]
    },
    {
      "cell_type": "code",
      "execution_count": null,
      "metadata": {
        "id": "wZy0ZF6ezLvf",
        "outputId": "fec8f005-6dad-4b38-c9b4-8292ca06d238"
      },
      "outputs": [
        {
          "name": "stdout",
          "output_type": "stream",
          "text": [
            "          x         y\n",
            "0  4.170220  2.653267\n",
            "1  7.203245  8.561284\n",
            "2  0.001144 -5.668959\n",
            "3  3.023326  1.033987\n",
            "4  1.467559 -3.182193\n"
          ]
        }
      ],
      "source": [
        "rng = np.random.RandomState(1)\n",
        "x = 10 * rng.rand(50) #let's generate some random numbers of x\n",
        "y = 2 * x - 5 + rng.randn(50) #let's plug the y=ax+b values with x to get\n",
        "\n",
        "#let's create a dataframe to display this dataset\n",
        "tmp_df = {}\n",
        "tmp_df['x'] = x\n",
        "tmp_df['y'] = y\n",
        "print(pd.DataFrame(tmp_df).head())"
      ]
    },
    {
      "cell_type": "code",
      "execution_count": null,
      "metadata": {
        "id": "vqVPJB0mzLvg",
        "outputId": "539f5f4f-bd16-418a-dc96-d5a08301ba46"
      },
      "outputs": [
        {
          "data": {
            "image/png": "[encoded data removed]",
            "text/plain": [
              "<Figure size 432x288 with 1 Axes>"
            ]
          },
          "metadata": {},
          "output_type": "display_data"
        }
      ],
      "source": [
        "plt.scatter(tmp_df['x'],tmp_df['y']); #let's plot what it looks like (clue: it looks linear!)"
      ]
    },
    {
      "cell_type": "markdown",
      "metadata": {
        "id": "fzthSA4VzLvh"
      },
      "source": [
        "# Scikit-Learn's Estimator API"
      ]
    },
    {
      "cell_type": "markdown",
      "metadata": {
        "id": "0dh8rHmOzLvh"
      },
      "source": [
        "The Scikit-Learn API is designed with the following guiding principles in mind, as outlined in the  [Scikit-Learn API paper](http://arxiv.org/abs/1309.0238):\n",
        "\n",
        "-   _Consistency_: All objects share a common interface drawn from a limited set of methods, with consistent documentation.\n",
        "    \n",
        "-   _Inspection_: All specified parameter values are exposed as public attributes.\n",
        "    \n",
        "-   _Limited object hierarchy_: Only algorithms are represented by Python classes; datasets are represented in standard formats (NumPy arrays, Pandas  `DataFrame`s, SciPy sparse matrices) and parameter names use standard Python strings.\n",
        "    \n",
        "-   _Composition_: Many machine learning tasks can be expressed as sequences of more fundamental algorithms, and Scikit-Learn makes use of this wherever possible.\n",
        "    \n",
        "-   _Sensible defaults_: When models require user-specified parameters, the library defines an appropriate default value.\n",
        "    \n",
        "\n",
        "In practice, these principles make Scikit-Learn very easy to use, once the basic principles are understood. Every machine learning algorithm in Scikit-Learn is implemented via the Estimator API, which provides a consistent interface for a wide range of machine learning applications."
      ]
    },
    {
      "cell_type": "markdown",
      "metadata": {
        "id": "RXAR8PqfzLvj"
      },
      "source": [
        "\n",
        "### Basics of the API[](https://jakevdp.github.io/PythonDataScienceHandbook/05.02-introducing-scikit-learn.html#Basics-of-the-API)\n",
        "\n",
        "Most commonly, the steps in using the Scikit-Learn estimator API are as follows (we will step through a handful of detailed examples in the sections that follow).\n",
        "\n",
        "1.  Choose a class of model by importing the appropriate estimator class from Scikit-Learn.\n",
        "\n",
        "> from sklearn.linear_model import LinearRegression\n",
        "\n",
        "2.  Choose model hyperparameters by instantiating this class with desired values.\n",
        "\n",
        "> model = LinearRegression(fit_intercept=True)\n",
        "\n",
        "3.  Arrange data into a features matrix and target vector following the discussion above.\n",
        "4.  Fit the model to your data by calling the  `fit()`  method of the model instance.\n",
        "5.  Apply the Model to new data:\n",
        "    -   For supervised learning, often we predict labels for unknown data using the  `predict()`  method.\n",
        "    -   For unsupervised learning, we often transform or infer properties of the data using the  `transform()`  or  `predict()`  method."
      ]
    },
    {
      "cell_type": "markdown",
      "metadata": {
        "id": "G3uE5DOjzLvl"
      },
      "source": [
        "## Let's try it!\n",
        "We can use Scikit-Learn's LinearRegression estimator to fit this data and construct the best-fit line:"
      ]
    },
    {
      "cell_type": "code",
      "execution_count": null,
      "metadata": {
        "id": "QseSAGrVzLvm",
        "outputId": "d9c06c56-6d25-4f58-85bb-61ebd1ae6d23"
      },
      "outputs": [
        {
          "name": "stdout",
          "output_type": "stream",
          "text": [
            "before:  [4.17022005e+00 7.20324493e+00 1.14374817e-03 3.02332573e+00\n",
            " 1.46755891e+00]\n",
            "after:  [[4.17022005e+00]\n",
            " [7.20324493e+00]\n",
            " [1.14374817e-03]\n",
            " [3.02332573e+00]\n",
            " [1.46755891e+00]]\n"
          ]
        },
        {
          "data": {
            "text/plain": [
              "LinearRegression()"
            ]
          },
          "execution_count": 4,
          "metadata": {},
          "output_type": "execute_result"
        }
      ],
      "source": [
        "from sklearn.linear_model import LinearRegression #implements ordinary least squares\n",
        "model = LinearRegression(fit_intercept=True)\n",
        "\n",
        "x = tmp_df['x'].reshape(50,-1) # reshape the input x so that it is acceptable by the model (a matrix of 50 samples of 1 feature)\n",
        "y = tmp_df['y']\n",
        "\n",
        "print(\"before: \",tmp_df['x'][0:5])\n",
        "print(\"after: \",tmp_df['x'].reshape(50,-1)[0:5])\n",
        "\n",
        "model.fit( x,y ) #fit the model"
      ]
    },
    {
      "cell_type": "code",
      "execution_count": null,
      "metadata": {
        "id": "SPNeNBN9zLvn",
        "outputId": "67ee4739-3c31-49c8-9d32-b5930a341919"
      },
      "outputs": [
        {
          "data": {
            "text/plain": [
              "array([-4.99857709])"
            ]
          },
          "execution_count": 5,
          "metadata": {},
          "output_type": "execute_result"
        }
      ],
      "source": [
        "# How does prediction work?\n",
        "\n",
        "model.predict([[0]]) #pass 1 sample with 1 feature"
      ]
    },
    {
      "cell_type": "code",
      "execution_count": null,
      "metadata": {
        "scrolled": true,
        "id": "39Di98-XzLvn",
        "outputId": "bc91a2dc-a98c-476b-b716-69e5c63584d1"
      },
      "outputs": [
        {
          "data": {
            "image/png": "[encoded data removed]",
            "text/plain": [
              "<Figure size 432x288 with 1 Axes>"
            ]
          },
          "metadata": {},
          "output_type": "display_data"
        }
      ],
      "source": [
        "# Let's test this model\n",
        "\n",
        "xnew = np.linspace(0, 10, 50) #generate 50 numbers between 0 and 10 that are evenly spaced\n",
        "ypred = model.predict(xnew.reshape(50,-1))\n",
        "\n",
        "plt.scatter(x, y) #let's do a scatter plot of the original dataset\n",
        "plt.plot(xnew, ypred); #plot new xs and predicted ys to see how it fits the scatterplot of the original dataset"
      ]
    },
    {
      "cell_type": "code",
      "execution_count": null,
      "metadata": {
        "id": "ReqaZ_eGzLvo",
        "outputId": "a3c4b54c-585b-4f18-8e08-ee2a2ad96c63"
      },
      "outputs": [
        {
          "name": "stdout",
          "output_type": "stream",
          "text": [
            "Model slope:     2.0272088103606953\n",
            "Model intercept: -4.998577085553204\n"
          ]
        }
      ],
      "source": [
        "# Let's get some regression information\n",
        "\n",
        "print(\"Model slope:    \", model.coef_[0])\n",
        "print(\"Model intercept:\", model.intercept_)\n",
        "\n",
        "# Note not all regression models would be able to provide this information"
      ]
    },
    {
      "cell_type": "markdown",
      "metadata": {
        "id": "W6GqKVP8zLvp"
      },
      "source": [
        "# Model Evaluation\n",
        "\n",
        "## R - Squared\n",
        "is a statistical measure of how close the data are to the fitted regression line. It is also\n",
        "known as the coefficient of determination, or the coefficient of multiple determination for multiple\n",
        "regression. \n",
        "\n",
        "http://guessthecorrelation.com/\n",
        "\n",
        "## MAE \n",
        "The mean_absolute_error function computes mean absolute error, a risk metric corresponding to the expected value of the absolute error loss\n",
        "\n",
        "### What other evaluation metrics for regression exist?"
      ]
    },
    {
      "cell_type": "code",
      "execution_count": null,
      "metadata": {
        "id": "Mb9v6yCBzLvp",
        "outputId": "0eafcbff-be0a-4a48-f188-0207433ea82a"
      },
      "outputs": [
        {
          "name": "stdout",
          "output_type": "stream",
          "text": [
            "r2:  0.9992702371163403\n",
            "MAE:  0.1374669662502729\n"
          ]
        }
      ],
      "source": [
        "from sklearn.metrics import r2_score,mean_absolute_error\n",
        "\n",
        "yactual = 2 * xnew - 5 # let's compute our actual y based on the provided formula and compare to ypred\n",
        "\n",
        "print(\"r2: \", r2_score(yactual, ypred)) # closer to 1 is good. that means the model is able to fit \n",
        "print(\"MAE: \", mean_absolute_error(yactual, ypred)) # closer to 0 is good. that means the predicted value from the actual value is not far off\n"
      ]
    },
    {
      "cell_type": "markdown",
      "metadata": {
        "id": "6T_BCUOazLvq"
      },
      "source": [
        "# Congrats! It's your first model. Notice anything?\n",
        "\n",
        "Sklearn makes it so easy for anyone to do any type of prediction! (specially from a bunch of random numbers!).\n",
        "\n",
        "How do we ensure that as **data scientists**, the models we are developing are valid? \n",
        "\n",
        "**CLUE**: some of these have already been discussed:\n",
        "* Goodness of fit - is the model underfit/ overfit?\n",
        "* Prediction accuracy - is the model able to predict accurately from unknown data?\n",
        "* Usability - is the model designed in such a way that it is not too complex that it cannot be used"
      ]
    },
    {
      "cell_type": "markdown",
      "metadata": {
        "id": "TQdyk6rGzLvq"
      },
      "source": [
        "# Multiple Linear Regression\n",
        "\n",
        "Multiple linear regression (MLR), also known simply as multiple regression, is a statistical technique that uses several explanatory variables to predict the outcome of a response variable.\n",
        "\n",
        "The method is broadly used to predict the behavior of the response variables associated to changes in the predictor variables, once a desired degree of relation has been established.\n"
      ]
    },
    {
      "cell_type": "markdown",
      "metadata": {
        "id": "3rsjrepMzLvr"
      },
      "source": [
        "# height, hand and foot dataset\n",
        "Let's do some playing around with a body length data set and see if there is any relationship between the length of hands and feet to one's height\n"
      ]
    },
    {
      "cell_type": "code",
      "execution_count": null,
      "metadata": {
        "id": "ImbTGc1kzLvr"
      },
      "outputs": [],
      "source": [
        "# Let's do a quick analysis of an old NYC housing sale prices\n",
        "\n",
        "height_df = pd.read_csv(\"../data/stature_hand_foot.csv\")"
      ]
    },
    {
      "cell_type": "code",
      "execution_count": null,
      "metadata": {
        "id": "gVe6W-JazLvr",
        "outputId": "35544c0f-8901-4e5e-d34e-74c4a59be6a8"
      },
      "outputs": [
        {
          "data": {
            "text/html": [
              "<div>\n",
              "<style scoped>\n",
              "    .dataframe tbody tr th:only-of-type {\n",
              "        vertical-align: middle;\n",
              "    }\n",
              "\n",
              "    .dataframe tbody tr th {\n",
              "        vertical-align: top;\n",
              "    }\n",
              "\n",
              "    .dataframe thead th {\n",
              "        text-align: right;\n",
              "    }\n",
              "</style>\n",
              "<table border=\"1\" class=\"dataframe\">\n",
              "  <thead>\n",
              "    <tr style=\"text-align: right;\">\n",
              "      <th></th>\n",
              "      <th>gender</th>\n",
              "      <th>height</th>\n",
              "      <th>handLen</th>\n",
              "      <th>footLen</th>\n",
              "    </tr>\n",
              "  </thead>\n",
              "  <tbody>\n",
              "    <tr>\n",
              "      <th>0</th>\n",
              "      <td>1</td>\n",
              "      <td>1829.356</td>\n",
              "      <td>205.7455</td>\n",
              "      <td>294.1762</td>\n",
              "    </tr>\n",
              "    <tr>\n",
              "      <th>1</th>\n",
              "      <td>1</td>\n",
              "      <td>1730.262</td>\n",
              "      <td>197.5946</td>\n",
              "      <td>283.2275</td>\n",
              "    </tr>\n",
              "    <tr>\n",
              "      <th>2</th>\n",
              "      <td>1</td>\n",
              "      <td>1723.990</td>\n",
              "      <td>193.6019</td>\n",
              "      <td>238.9127</td>\n",
              "    </tr>\n",
              "    <tr>\n",
              "      <th>3</th>\n",
              "      <td>1</td>\n",
              "      <td>1748.885</td>\n",
              "      <td>224.5994</td>\n",
              "      <td>289.4070</td>\n",
              "    </tr>\n",
              "    <tr>\n",
              "      <th>4</th>\n",
              "      <td>1</td>\n",
              "      <td>1697.573</td>\n",
              "      <td>200.8021</td>\n",
              "      <td>247.0631</td>\n",
              "    </tr>\n",
              "  </tbody>\n",
              "</table>\n",
              "</div>"
            ],
            "text/plain": [
              "   gender    height   handLen   footLen\n",
              "0       1  1829.356  205.7455  294.1762\n",
              "1       1  1730.262  197.5946  283.2275\n",
              "2       1  1723.990  193.6019  238.9127\n",
              "3       1  1748.885  224.5994  289.4070\n",
              "4       1  1697.573  200.8021  247.0631"
            ]
          },
          "execution_count": 10,
          "metadata": {},
          "output_type": "execute_result"
        }
      ],
      "source": [
        "del height_df['idGen']\n",
        "height_df.head()"
      ]
    },
    {
      "cell_type": "code",
      "execution_count": null,
      "metadata": {
        "id": "FR9D6_MVzLvs",
        "outputId": "21dea7cc-905f-4bb3-91fc-7558cbba4396"
      },
      "outputs": [
        {
          "data": {
            "text/html": [
              "<div>\n",
              "<style scoped>\n",
              "    .dataframe tbody tr th:only-of-type {\n",
              "        vertical-align: middle;\n",
              "    }\n",
              "\n",
              "    .dataframe tbody tr th {\n",
              "        vertical-align: top;\n",
              "    }\n",
              "\n",
              "    .dataframe thead th {\n",
              "        text-align: right;\n",
              "    }\n",
              "</style>\n",
              "<table border=\"1\" class=\"dataframe\">\n",
              "  <thead>\n",
              "    <tr style=\"text-align: right;\">\n",
              "      <th></th>\n",
              "      <th>gender</th>\n",
              "      <th>height</th>\n",
              "      <th>handLen</th>\n",
              "      <th>footLen</th>\n",
              "    </tr>\n",
              "  </thead>\n",
              "  <tbody>\n",
              "    <tr>\n",
              "      <th>count</th>\n",
              "      <td>155.000000</td>\n",
              "      <td>155.000000</td>\n",
              "      <td>155.000000</td>\n",
              "      <td>155.00000</td>\n",
              "    </tr>\n",
              "    <tr>\n",
              "      <th>mean</th>\n",
              "      <td>1.483871</td>\n",
              "      <td>1677.514852</td>\n",
              "      <td>199.489678</td>\n",
              "      <td>249.10355</td>\n",
              "    </tr>\n",
              "    <tr>\n",
              "      <th>std</th>\n",
              "      <td>0.501360</td>\n",
              "      <td>93.913266</td>\n",
              "      <td>13.341823</td>\n",
              "      <td>18.54731</td>\n",
              "    </tr>\n",
              "    <tr>\n",
              "      <th>min</th>\n",
              "      <td>1.000000</td>\n",
              "      <td>1478.364000</td>\n",
              "      <td>167.634800</td>\n",
              "      <td>205.04120</td>\n",
              "    </tr>\n",
              "    <tr>\n",
              "      <th>25%</th>\n",
              "      <td>1.000000</td>\n",
              "      <td>1603.108000</td>\n",
              "      <td>189.516600</td>\n",
              "      <td>236.43255</td>\n",
              "    </tr>\n",
              "    <tr>\n",
              "      <th>50%</th>\n",
              "      <td>1.000000</td>\n",
              "      <td>1670.996000</td>\n",
              "      <td>199.565100</td>\n",
              "      <td>250.27810</td>\n",
              "    </tr>\n",
              "    <tr>\n",
              "      <th>75%</th>\n",
              "      <td>2.000000</td>\n",
              "      <td>1750.701500</td>\n",
              "      <td>209.265850</td>\n",
              "      <td>262.70260</td>\n",
              "    </tr>\n",
              "    <tr>\n",
              "      <th>max</th>\n",
              "      <td>2.000000</td>\n",
              "      <td>1916.381000</td>\n",
              "      <td>228.851200</td>\n",
              "      <td>306.55980</td>\n",
              "    </tr>\n",
              "  </tbody>\n",
              "</table>\n",
              "</div>"
            ],
            "text/plain": [
              "           gender       height     handLen    footLen\n",
              "count  155.000000   155.000000  155.000000  155.00000\n",
              "mean     1.483871  1677.514852  199.489678  249.10355\n",
              "std      0.501360    93.913266   13.341823   18.54731\n",
              "min      1.000000  1478.364000  167.634800  205.04120\n",
              "25%      1.000000  1603.108000  189.516600  236.43255\n",
              "50%      1.000000  1670.996000  199.565100  250.27810\n",
              "75%      2.000000  1750.701500  209.265850  262.70260\n",
              "max      2.000000  1916.381000  228.851200  306.55980"
            ]
          },
          "execution_count": 11,
          "metadata": {},
          "output_type": "execute_result"
        }
      ],
      "source": [
        "height_df.describe() # check if there are any missing values"
      ]
    },
    {
      "cell_type": "markdown",
      "metadata": {
        "id": "F5m2NUvUzLvt"
      },
      "source": [
        "# Let's quickly build a baseline model"
      ]
    },
    {
      "cell_type": "code",
      "execution_count": null,
      "metadata": {
        "id": "nyAZ-UxjzLvt"
      },
      "outputs": [],
      "source": [
        "from sklearn.linear_model import LinearRegression #implements ordinary least squares\n",
        "model = LinearRegression(fit_intercept=True)\n",
        "\n",
        "x = height_df[['handLen','footLen']].to_numpy()\n",
        "y = height_df['height']\n",
        "\n"
      ]
    },
    {
      "cell_type": "markdown",
      "metadata": {
        "id": "_xzzPm0VzLvt"
      },
      "source": [
        "### Hold out method\n",
        "how do we ensure that our model would be able to generalize where it can handle unknown data? aka prevent overfitting"
      ]
    },
    {
      "cell_type": "code",
      "execution_count": null,
      "metadata": {
        "id": "enJf_GM6zLvv",
        "outputId": "2b7e35cd-8be8-4cb4-df20-2d2a5d6b46ef"
      },
      "outputs": [
        {
          "name": "stdout",
          "output_type": "stream",
          "text": [
            "X_train data: (103, 2)\n",
            "y_train data: (103,)\n",
            "X_test data: (52, 2)\n",
            "y_test data: (52,)\n"
          ]
        }
      ],
      "source": [
        "from sklearn.model_selection import train_test_split\n",
        "\n",
        "X_train, X_test, y_train, y_test = train_test_split(x, y, test_size=0.33, random_state=42)\n",
        "\n",
        "print(\"X_train data:\",X_train.shape)\n",
        "print(\"y_train data:\",y_train.shape)\n",
        "print(\"X_test data:\",X_test.shape)\n",
        "print(\"y_test data:\",y_test.shape)\n",
        "\n",
        "# now we have a test data that is \"unknown\" to the model that we can later use to compare if it was able to predict accurately"
      ]
    },
    {
      "cell_type": "code",
      "execution_count": null,
      "metadata": {
        "id": "UHAYjEBCzLvv",
        "outputId": "fd779240-a536-427d-ac32-a90dc45b0f11"
      },
      "outputs": [
        {
          "name": "stdout",
          "output_type": "stream",
          "text": [
            "before:      handLen   footLen\n",
            "0  205.7455  294.1762\n",
            "1  197.5946  283.2275\n",
            "2  193.6019  238.9127\n",
            "3  224.5994  289.4070\n",
            "4  200.8021  247.0631\n",
            "after:  [[205.7455 294.1762]\n",
            " [197.5946 283.2275]\n",
            " [193.6019 238.9127]\n",
            " [224.5994 289.407 ]\n",
            " [200.8021 247.0631]]\n"
          ]
        },
        {
          "data": {
            "text/plain": [
              "LinearRegression()"
            ]
          },
          "execution_count": 14,
          "metadata": {},
          "output_type": "execute_result"
        }
      ],
      "source": [
        "print(\"before: \",height_df[['handLen','footLen']].head())\n",
        "print(\"after: \",height_df[['handLen','footLen']].to_numpy()[0:5])\n",
        "\n",
        "model.fit( X_train,y_train ) #fit the model"
      ]
    },
    {
      "cell_type": "code",
      "execution_count": null,
      "metadata": {
        "id": "xiKMvFDezLvv",
        "outputId": "06ff6021-0ee9-484b-f6d3-8a7e5e01d70f"
      },
      "outputs": [
        {
          "data": {
            "text/plain": [
              "array([1556.1192721])"
            ]
          },
          "execution_count": 15,
          "metadata": {},
          "output_type": "execute_result"
        }
      ],
      "source": [
        "# Let's do a sample prediction\n",
        "\n",
        "model.predict([[200,200]]) # if you hands and feet are both 200 in length, then your height is..."
      ]
    },
    {
      "cell_type": "code",
      "execution_count": null,
      "metadata": {
        "id": "Jo-Zlw1tzLvw",
        "outputId": "c5a06a62-89ba-427b-e5ff-446e2646c215"
      },
      "outputs": [
        {
          "name": "stdout",
          "output_type": "stream",
          "text": [
            "y_pred data: (52,)\n"
          ]
        }
      ],
      "source": [
        "y_pred = model.predict(X_test)\n",
        "print(\"y_pred data:\", y_pred.shape)"
      ]
    },
    {
      "cell_type": "code",
      "execution_count": null,
      "metadata": {
        "id": "5I5xBTb0zLvw",
        "outputId": "334dccd7-7e6e-49a2-f15d-cfb690207e35"
      },
      "outputs": [
        {
          "name": "stdout",
          "output_type": "stream",
          "text": [
            "r2:  0.8079974317396731\n",
            "MAE:  26.309969822149824\n"
          ]
        }
      ],
      "source": [
        "# let's quickly look at some metrics\n",
        "\n",
        "print(\"r2: \", r2_score(y_test , y_pred )) # closer to 1 is good. that means the model is able to fit \n",
        "print(\"MAE: \", mean_absolute_error(y_test, y_pred)) # closer to 0 is good. that means the predicted value from the actual value i"
      ]
    },
    {
      "cell_type": "markdown",
      "metadata": {
        "id": "0Rmak7GCzLvx"
      },
      "source": [
        "### What assumptions are required for a Linear Regression to be valid?\n",
        "\n",
        "- **Linear relationship** - First, linear regression needs the relationship between the independent and dependent variables to be linear.  It is also important to check for outliers since linear regression is sensitive to outlier effects.  The linearity assumption can best be tested with scatter plots, the following two examples depict two cases, where no and little linearity is present.\n",
        "- **Multivariate normality** - Here we will use a histogram to check if the variables have normal distribution. If not, we might need to apply feature engineering ie. log transform to see if it will adjust.\n",
        "- **No or little multicollinearity** - linear regression assumes that there is little or no multicollinearity in the data.  Multicollinearity occurs when the independent variables are too highly correlated with each other.\n",
        "- **No auto-correlation** - Autocorrelation occurs when the residuals are not independent from each other.  For instance, this typically occurs in stock prices, where the price is not independent from the previous price. CLUE: is this a timeseries dataset?\n",
        "- **Homoscedasticity** is present when the noise of your model can be described as random and the same throughout all independent variables. If by looking at the scatterplot of the residuals from your linear regression analysis you notice a pattern, this is a clear sign that this assumption is being violated. \n",
        "\n",
        "-- WARNING - if any of the above items are violated, it would be hard to trust your LR results!"
      ]
    },
    {
      "cell_type": "markdown",
      "metadata": {
        "id": "OMZIQ7E1zLvx"
      },
      "source": [
        "### Linear relationship check"
      ]
    },
    {
      "cell_type": "code",
      "execution_count": null,
      "metadata": {
        "id": "OK8AhldGzLvx",
        "outputId": "bc98d45d-6912-400c-9bec-7faa8921ac09"
      },
      "outputs": [
        {
          "data": {
            "text/plain": [
              "<matplotlib.collections.PathCollection at 0x187377ca370>"
            ]
          },
          "execution_count": 18,
          "metadata": {},
          "output_type": "execute_result"
        },
        {
          "data": {
            "image/png": "[encoded data removed]",
            "text/plain": [
              "<Figure size 432x288 with 1 Axes>"
            ]
          },
          "metadata": {},
          "output_type": "display_data"
        }
      ],
      "source": [
        "plt.scatter(height_df['height'],height_df['handLen']) # looks like there is a linear relationship between height and hand"
      ]
    },
    {
      "cell_type": "code",
      "execution_count": null,
      "metadata": {
        "id": "7mSyc8DEzLvy",
        "outputId": "16566010-775a-4fc4-e16a-83e1d8df70d0"
      },
      "outputs": [
        {
          "data": {
            "text/plain": [
              "<matplotlib.collections.PathCollection at 0x18737818ac0>"
            ]
          },
          "execution_count": 19,
          "metadata": {},
          "output_type": "execute_result"
        },
        {
          "data": {
            "image/png": "[encoded data removed]",
            "text/plain": [
              "<Figure size 432x288 with 1 Axes>"
            ]
          },
          "metadata": {},
          "output_type": "display_data"
        }
      ],
      "source": [
        "plt.scatter(height_df['height'],height_df['footLen']) # looks like there is a linear relationship between height and hand"
      ]
    },
    {
      "cell_type": "markdown",
      "metadata": {
        "id": "gdIcbV-8zLvy"
      },
      "source": [
        "### Normality Check"
      ]
    },
    {
      "cell_type": "code",
      "execution_count": null,
      "metadata": {
        "id": "pQG5ylo2zLvy",
        "outputId": "aee5d3fc-085b-42a7-c513-a56634f845c1"
      },
      "outputs": [
        {
          "data": {
            "text/plain": [
              "<matplotlib.axes._subplots.AxesSubplot at 0x1873783ab50>"
            ]
          },
          "execution_count": 20,
          "metadata": {},
          "output_type": "execute_result"
        },
        {
          "data": {
            "image/png": "[encoded data removed]",
            "text/plain": [
              "<Figure size 432x288 with 1 Axes>"
            ]
          },
          "metadata": {},
          "output_type": "display_data"
        }
      ],
      "source": [
        "height_df['handLen'].hist()"
      ]
    },
    {
      "cell_type": "code",
      "execution_count": null,
      "metadata": {
        "id": "iRFJ5b0nzLvz",
        "outputId": "487488b0-961e-44c2-ca8d-6cede092fed0"
      },
      "outputs": [
        {
          "data": {
            "text/plain": [
              "<matplotlib.axes._subplots.AxesSubplot at 0x187378eac40>"
            ]
          },
          "execution_count": 21,
          "metadata": {},
          "output_type": "execute_result"
        },
        {
          "data": {
            "image/png": "[encoded data removed]",
            "text/plain": [
              "<Figure size 432x288 with 1 Axes>"
            ]
          },
          "metadata": {},
          "output_type": "display_data"
        }
      ],
      "source": [
        "height_df['footLen'].hist()"
      ]
    },
    {
      "cell_type": "markdown",
      "metadata": {
        "id": "3_C-qFkuzLv0"
      },
      "source": [
        "### Multicollinearity Check"
      ]
    },
    {
      "cell_type": "code",
      "execution_count": null,
      "metadata": {
        "id": "KG6nbzGBzLv0",
        "outputId": "64908228-0909-43ec-8e6c-eb2bb8c87b5c"
      },
      "outputs": [
        {
          "data": {
            "text/html": [
              "<div>\n",
              "<style scoped>\n",
              "    .dataframe tbody tr th:only-of-type {\n",
              "        vertical-align: middle;\n",
              "    }\n",
              "\n",
              "    .dataframe tbody tr th {\n",
              "        vertical-align: top;\n",
              "    }\n",
              "\n",
              "    .dataframe thead th {\n",
              "        text-align: right;\n",
              "    }\n",
              "</style>\n",
              "<table border=\"1\" class=\"dataframe\">\n",
              "  <thead>\n",
              "    <tr style=\"text-align: right;\">\n",
              "      <th></th>\n",
              "      <th>height</th>\n",
              "      <th>footLen</th>\n",
              "    </tr>\n",
              "  </thead>\n",
              "  <tbody>\n",
              "    <tr>\n",
              "      <th>height</th>\n",
              "      <td>1.000000</td>\n",
              "      <td>0.881311</td>\n",
              "    </tr>\n",
              "    <tr>\n",
              "      <th>footLen</th>\n",
              "      <td>0.881311</td>\n",
              "      <td>1.000000</td>\n",
              "    </tr>\n",
              "  </tbody>\n",
              "</table>\n",
              "</div>"
            ],
            "text/plain": [
              "           height   footLen\n",
              "height   1.000000  0.881311\n",
              "footLen  0.881311  1.000000"
            ]
          },
          "execution_count": 22,
          "metadata": {},
          "output_type": "execute_result"
        }
      ],
      "source": [
        "height_df[['height','footLen']].corr() # since correlation coefficients are less than 1, we are ok. \n",
        "# note: there are other ways to also check for multicolllinearity besides correlation matrix"
      ]
    },
    {
      "cell_type": "markdown",
      "metadata": {
        "id": "nsN11yVuzLv0"
      },
      "source": [
        "### Auto correlation Check\n",
        "not a timeseries dataset! :)"
      ]
    },
    {
      "cell_type": "markdown",
      "metadata": {
        "id": "DbxRSl7gzLv1"
      },
      "source": [
        "### Homoscedasticity Check\n",
        "Let's compute the residuals and plot to a scatter graph and lets see if it looks random or not! #we want it to look random"
      ]
    },
    {
      "cell_type": "code",
      "execution_count": null,
      "metadata": {
        "id": "4i3Mj835zLv1",
        "outputId": "83b458a4-f7a4-4576-d8b4-39e188c38216"
      },
      "outputs": [
        {
          "data": {
            "text/plain": [
              "<matplotlib.collections.PathCollection at 0x187379c8910>"
            ]
          },
          "execution_count": 23,
          "metadata": {},
          "output_type": "execute_result"
        },
        {
          "data": {
            "image/png": "[encoded data removed]",
            "text/plain": [
              "<Figure size 432x288 with 1 Axes>"
            ]
          },
          "metadata": {},
          "output_type": "display_data"
        }
      ],
      "source": [
        "residuals = y_test-y_pred\n",
        "\n",
        "plt.scatter(x=y_pred,y=residuals) #looks sort of random !"
      ]
    },
    {
      "cell_type": "markdown",
      "metadata": {
        "id": "BovO_6zAzLv2"
      },
      "source": [
        "# Non Linear Regression\n",
        "\n",
        "In statistics, nonlinear regression is a form of regression analysis in which observational data are modeled by a function which is a nonlinear combination of the model parameters and depends on one or more independent variables."
      ]
    },
    {
      "cell_type": "code",
      "execution_count": null,
      "metadata": {
        "id": "tUZY9N2QzLv2",
        "outputId": "1665d8b9-a493-46a5-b8a0-d8faaa83c0ab"
      },
      "outputs": [
        {
          "data": {
            "text/html": [
              "<div>\n",
              "<style scoped>\n",
              "    .dataframe tbody tr th:only-of-type {\n",
              "        vertical-align: middle;\n",
              "    }\n",
              "\n",
              "    .dataframe tbody tr th {\n",
              "        vertical-align: top;\n",
              "    }\n",
              "\n",
              "    .dataframe thead th {\n",
              "        text-align: right;\n",
              "    }\n",
              "</style>\n",
              "<table border=\"1\" class=\"dataframe\">\n",
              "  <thead>\n",
              "    <tr style=\"text-align: right;\">\n",
              "      <th></th>\n",
              "      <th>longitude</th>\n",
              "      <th>latitude</th>\n",
              "      <th>housing_median_age</th>\n",
              "      <th>total_rooms</th>\n",
              "      <th>total_bedrooms</th>\n",
              "      <th>population</th>\n",
              "      <th>households</th>\n",
              "      <th>median_income</th>\n",
              "      <th>median_house_value</th>\n",
              "      <th>ocean_proximity</th>\n",
              "    </tr>\n",
              "  </thead>\n",
              "  <tbody>\n",
              "    <tr>\n",
              "      <th>0</th>\n",
              "      <td>-122.23</td>\n",
              "      <td>37.88</td>\n",
              "      <td>41.0</td>\n",
              "      <td>880.0</td>\n",
              "      <td>129.0</td>\n",
              "      <td>322.0</td>\n",
              "      <td>126.0</td>\n",
              "      <td>8.3252</td>\n",
              "      <td>452600.0</td>\n",
              "      <td>NEAR BAY</td>\n",
              "    </tr>\n",
              "    <tr>\n",
              "      <th>1</th>\n",
              "      <td>-122.22</td>\n",
              "      <td>37.86</td>\n",
              "      <td>21.0</td>\n",
              "      <td>7099.0</td>\n",
              "      <td>1106.0</td>\n",
              "      <td>2401.0</td>\n",
              "      <td>1138.0</td>\n",
              "      <td>8.3014</td>\n",
              "      <td>358500.0</td>\n",
              "      <td>NEAR BAY</td>\n",
              "    </tr>\n",
              "    <tr>\n",
              "      <th>2</th>\n",
              "      <td>-122.24</td>\n",
              "      <td>37.85</td>\n",
              "      <td>52.0</td>\n",
              "      <td>1467.0</td>\n",
              "      <td>190.0</td>\n",
              "      <td>496.0</td>\n",
              "      <td>177.0</td>\n",
              "      <td>7.2574</td>\n",
              "      <td>352100.0</td>\n",
              "      <td>NEAR BAY</td>\n",
              "    </tr>\n",
              "    <tr>\n",
              "      <th>3</th>\n",
              "      <td>-122.25</td>\n",
              "      <td>37.85</td>\n",
              "      <td>52.0</td>\n",
              "      <td>1274.0</td>\n",
              "      <td>235.0</td>\n",
              "      <td>558.0</td>\n",
              "      <td>219.0</td>\n",
              "      <td>5.6431</td>\n",
              "      <td>341300.0</td>\n",
              "      <td>NEAR BAY</td>\n",
              "    </tr>\n",
              "    <tr>\n",
              "      <th>4</th>\n",
              "      <td>-122.25</td>\n",
              "      <td>37.85</td>\n",
              "      <td>52.0</td>\n",
              "      <td>1627.0</td>\n",
              "      <td>280.0</td>\n",
              "      <td>565.0</td>\n",
              "      <td>259.0</td>\n",
              "      <td>3.8462</td>\n",
              "      <td>342200.0</td>\n",
              "      <td>NEAR BAY</td>\n",
              "    </tr>\n",
              "  </tbody>\n",
              "</table>\n",
              "</div>"
            ],
            "text/plain": [
              "   longitude  latitude  housing_median_age  total_rooms  total_bedrooms  \\\n",
              "0    -122.23     37.88                41.0        880.0           129.0   \n",
              "1    -122.22     37.86                21.0       7099.0          1106.0   \n",
              "2    -122.24     37.85                52.0       1467.0           190.0   \n",
              "3    -122.25     37.85                52.0       1274.0           235.0   \n",
              "4    -122.25     37.85                52.0       1627.0           280.0   \n",
              "\n",
              "   population  households  median_income  median_house_value ocean_proximity  \n",
              "0       322.0       126.0         8.3252            452600.0        NEAR BAY  \n",
              "1      2401.0      1138.0         8.3014            358500.0        NEAR BAY  \n",
              "2       496.0       177.0         7.2574            352100.0        NEAR BAY  \n",
              "3       558.0       219.0         5.6431            341300.0        NEAR BAY  \n",
              "4       565.0       259.0         3.8462            342200.0        NEAR BAY  "
            ]
          },
          "execution_count": 24,
          "metadata": {},
          "output_type": "execute_result"
        }
      ],
      "source": [
        "housing_df = pd.read_csv(\"../data/housing.csv\")\n",
        "housing_df.head()"
      ]
    },
    {
      "cell_type": "code",
      "execution_count": null,
      "metadata": {
        "id": "qejZE8REzLv2",
        "outputId": "d66c89ad-7b81-47c2-8c38-b970452afee7"
      },
      "outputs": [
        {
          "data": {
            "text/html": [
              "<div>\n",
              "<style scoped>\n",
              "    .dataframe tbody tr th:only-of-type {\n",
              "        vertical-align: middle;\n",
              "    }\n",
              "\n",
              "    .dataframe tbody tr th {\n",
              "        vertical-align: top;\n",
              "    }\n",
              "\n",
              "    .dataframe thead th {\n",
              "        text-align: right;\n",
              "    }\n",
              "</style>\n",
              "<table border=\"1\" class=\"dataframe\">\n",
              "  <thead>\n",
              "    <tr style=\"text-align: right;\">\n",
              "      <th></th>\n",
              "      <th>longitude</th>\n",
              "      <th>latitude</th>\n",
              "      <th>housing_median_age</th>\n",
              "      <th>total_rooms</th>\n",
              "      <th>total_bedrooms</th>\n",
              "      <th>population</th>\n",
              "      <th>households</th>\n",
              "      <th>median_income</th>\n",
              "      <th>median_house_value</th>\n",
              "    </tr>\n",
              "  </thead>\n",
              "  <tbody>\n",
              "    <tr>\n",
              "      <th>count</th>\n",
              "      <td>20640.000000</td>\n",
              "      <td>20640.000000</td>\n",
              "      <td>20640.000000</td>\n",
              "      <td>20640.000000</td>\n",
              "      <td>20433.000000</td>\n",
              "      <td>20640.000000</td>\n",
              "      <td>20640.000000</td>\n",
              "      <td>20640.000000</td>\n",
              "      <td>20640.000000</td>\n",
              "    </tr>\n",
              "    <tr>\n",
              "      <th>mean</th>\n",
              "      <td>-119.569704</td>\n",
              "      <td>35.631861</td>\n",
              "      <td>28.639486</td>\n",
              "      <td>2635.763081</td>\n",
              "      <td>537.870553</td>\n",
              "      <td>1425.476744</td>\n",
              "      <td>499.539680</td>\n",
              "      <td>3.870671</td>\n",
              "      <td>206855.816909</td>\n",
              "    </tr>\n",
              "    <tr>\n",
              "      <th>std</th>\n",
              "      <td>2.003532</td>\n",
              "      <td>2.135952</td>\n",
              "      <td>12.585558</td>\n",
              "      <td>2181.615252</td>\n",
              "      <td>421.385070</td>\n",
              "      <td>1132.462122</td>\n",
              "      <td>382.329753</td>\n",
              "      <td>1.899822</td>\n",
              "      <td>115395.615874</td>\n",
              "    </tr>\n",
              "    <tr>\n",
              "      <th>min</th>\n",
              "      <td>-124.350000</td>\n",
              "      <td>32.540000</td>\n",
              "      <td>1.000000</td>\n",
              "      <td>2.000000</td>\n",
              "      <td>1.000000</td>\n",
              "      <td>3.000000</td>\n",
              "      <td>1.000000</td>\n",
              "      <td>0.499900</td>\n",
              "      <td>14999.000000</td>\n",
              "    </tr>\n",
              "    <tr>\n",
              "      <th>25%</th>\n",
              "      <td>-121.800000</td>\n",
              "      <td>33.930000</td>\n",
              "      <td>18.000000</td>\n",
              "      <td>1447.750000</td>\n",
              "      <td>296.000000</td>\n",
              "      <td>787.000000</td>\n",
              "      <td>280.000000</td>\n",
              "      <td>2.563400</td>\n",
              "      <td>119600.000000</td>\n",
              "    </tr>\n",
              "    <tr>\n",
              "      <th>50%</th>\n",
              "      <td>-118.490000</td>\n",
              "      <td>34.260000</td>\n",
              "      <td>29.000000</td>\n",
              "      <td>2127.000000</td>\n",
              "      <td>435.000000</td>\n",
              "      <td>1166.000000</td>\n",
              "      <td>409.000000</td>\n",
              "      <td>3.534800</td>\n",
              "      <td>179700.000000</td>\n",
              "    </tr>\n",
              "    <tr>\n",
              "      <th>75%</th>\n",
              "      <td>-118.010000</td>\n",
              "      <td>37.710000</td>\n",
              "      <td>37.000000</td>\n",
              "      <td>3148.000000</td>\n",
              "      <td>647.000000</td>\n",
              "      <td>1725.000000</td>\n",
              "      <td>605.000000</td>\n",
              "      <td>4.743250</td>\n",
              "      <td>264725.000000</td>\n",
              "    </tr>\n",
              "    <tr>\n",
              "      <th>max</th>\n",
              "      <td>-114.310000</td>\n",
              "      <td>41.950000</td>\n",
              "      <td>52.000000</td>\n",
              "      <td>39320.000000</td>\n",
              "      <td>6445.000000</td>\n",
              "      <td>35682.000000</td>\n",
              "      <td>6082.000000</td>\n",
              "      <td>15.000100</td>\n",
              "      <td>500001.000000</td>\n",
              "    </tr>\n",
              "  </tbody>\n",
              "</table>\n",
              "</div>"
            ],
            "text/plain": [
              "          longitude      latitude  housing_median_age   total_rooms  \\\n",
              "count  20640.000000  20640.000000        20640.000000  20640.000000   \n",
              "mean    -119.569704     35.631861           28.639486   2635.763081   \n",
              "std        2.003532      2.135952           12.585558   2181.615252   \n",
              "min     -124.350000     32.540000            1.000000      2.000000   \n",
              "25%     -121.800000     33.930000           18.000000   1447.750000   \n",
              "50%     -118.490000     34.260000           29.000000   2127.000000   \n",
              "75%     -118.010000     37.710000           37.000000   3148.000000   \n",
              "max     -114.310000     41.950000           52.000000  39320.000000   \n",
              "\n",
              "       total_bedrooms    population    households  median_income  \\\n",
              "count    20433.000000  20640.000000  20640.000000   20640.000000   \n",
              "mean       537.870553   1425.476744    499.539680       3.870671   \n",
              "std        421.385070   1132.462122    382.329753       1.899822   \n",
              "min          1.000000      3.000000      1.000000       0.499900   \n",
              "25%        296.000000    787.000000    280.000000       2.563400   \n",
              "50%        435.000000   1166.000000    409.000000       3.534800   \n",
              "75%        647.000000   1725.000000    605.000000       4.743250   \n",
              "max       6445.000000  35682.000000   6082.000000      15.000100   \n",
              "\n",
              "       median_house_value  \n",
              "count        20640.000000  \n",
              "mean        206855.816909  \n",
              "std         115395.615874  \n",
              "min          14999.000000  \n",
              "25%         119600.000000  \n",
              "50%         179700.000000  \n",
              "75%         264725.000000  \n",
              "max         500001.000000  "
            ]
          },
          "execution_count": 25,
          "metadata": {},
          "output_type": "execute_result"
        }
      ],
      "source": [
        "housing_df.describe()"
      ]
    },
    {
      "cell_type": "code",
      "execution_count": null,
      "metadata": {
        "id": "yVUiSXjnzLv3",
        "outputId": "73665f83-e015-407d-c82d-671f6bd9d8ce"
      },
      "outputs": [
        {
          "data": {
            "text/html": [
              "<div>\n",
              "<style scoped>\n",
              "    .dataframe tbody tr th:only-of-type {\n",
              "        vertical-align: middle;\n",
              "    }\n",
              "\n",
              "    .dataframe tbody tr th {\n",
              "        vertical-align: top;\n",
              "    }\n",
              "\n",
              "    .dataframe thead th {\n",
              "        text-align: right;\n",
              "    }\n",
              "</style>\n",
              "<table border=\"1\" class=\"dataframe\">\n",
              "  <thead>\n",
              "    <tr style=\"text-align: right;\">\n",
              "      <th></th>\n",
              "      <th>longitude</th>\n",
              "      <th>latitude</th>\n",
              "      <th>housing_median_age</th>\n",
              "      <th>total_rooms</th>\n",
              "      <th>total_bedrooms</th>\n",
              "      <th>population</th>\n",
              "      <th>households</th>\n",
              "      <th>median_income</th>\n",
              "      <th>median_house_value</th>\n",
              "    </tr>\n",
              "  </thead>\n",
              "  <tbody>\n",
              "    <tr>\n",
              "      <th>longitude</th>\n",
              "      <td>1.000000</td>\n",
              "      <td>-0.924664</td>\n",
              "      <td>-0.108197</td>\n",
              "      <td>0.044568</td>\n",
              "      <td>0.069608</td>\n",
              "      <td>0.099773</td>\n",
              "      <td>0.055310</td>\n",
              "      <td>-0.015176</td>\n",
              "      <td>-0.045967</td>\n",
              "    </tr>\n",
              "    <tr>\n",
              "      <th>latitude</th>\n",
              "      <td>-0.924664</td>\n",
              "      <td>1.000000</td>\n",
              "      <td>0.011173</td>\n",
              "      <td>-0.036100</td>\n",
              "      <td>-0.066983</td>\n",
              "      <td>-0.108785</td>\n",
              "      <td>-0.071035</td>\n",
              "      <td>-0.079809</td>\n",
              "      <td>-0.144160</td>\n",
              "    </tr>\n",
              "    <tr>\n",
              "      <th>housing_median_age</th>\n",
              "      <td>-0.108197</td>\n",
              "      <td>0.011173</td>\n",
              "      <td>1.000000</td>\n",
              "      <td>-0.361262</td>\n",
              "      <td>-0.320451</td>\n",
              "      <td>-0.296244</td>\n",
              "      <td>-0.302916</td>\n",
              "      <td>-0.119034</td>\n",
              "      <td>0.105623</td>\n",
              "    </tr>\n",
              "    <tr>\n",
              "      <th>total_rooms</th>\n",
              "      <td>0.044568</td>\n",
              "      <td>-0.036100</td>\n",
              "      <td>-0.361262</td>\n",
              "      <td>1.000000</td>\n",
              "      <td>0.930380</td>\n",
              "      <td>0.857126</td>\n",
              "      <td>0.918484</td>\n",
              "      <td>0.198050</td>\n",
              "      <td>0.134153</td>\n",
              "    </tr>\n",
              "    <tr>\n",
              "      <th>total_bedrooms</th>\n",
              "      <td>0.069608</td>\n",
              "      <td>-0.066983</td>\n",
              "      <td>-0.320451</td>\n",
              "      <td>0.930380</td>\n",
              "      <td>1.000000</td>\n",
              "      <td>0.877747</td>\n",
              "      <td>0.979728</td>\n",
              "      <td>-0.007723</td>\n",
              "      <td>0.049686</td>\n",
              "    </tr>\n",
              "    <tr>\n",
              "      <th>population</th>\n",
              "      <td>0.099773</td>\n",
              "      <td>-0.108785</td>\n",
              "      <td>-0.296244</td>\n",
              "      <td>0.857126</td>\n",
              "      <td>0.877747</td>\n",
              "      <td>1.000000</td>\n",
              "      <td>0.907222</td>\n",
              "      <td>0.004834</td>\n",
              "      <td>-0.024650</td>\n",
              "    </tr>\n",
              "    <tr>\n",
              "      <th>households</th>\n",
              "      <td>0.055310</td>\n",
              "      <td>-0.071035</td>\n",
              "      <td>-0.302916</td>\n",
              "      <td>0.918484</td>\n",
              "      <td>0.979728</td>\n",
              "      <td>0.907222</td>\n",
              "      <td>1.000000</td>\n",
              "      <td>0.013033</td>\n",
              "      <td>0.065843</td>\n",
              "    </tr>\n",
              "    <tr>\n",
              "      <th>median_income</th>\n",
              "      <td>-0.015176</td>\n",
              "      <td>-0.079809</td>\n",
              "      <td>-0.119034</td>\n",
              "      <td>0.198050</td>\n",
              "      <td>-0.007723</td>\n",
              "      <td>0.004834</td>\n",
              "      <td>0.013033</td>\n",
              "      <td>1.000000</td>\n",
              "      <td>0.688075</td>\n",
              "    </tr>\n",
              "    <tr>\n",
              "      <th>median_house_value</th>\n",
              "      <td>-0.045967</td>\n",
              "      <td>-0.144160</td>\n",
              "      <td>0.105623</td>\n",
              "      <td>0.134153</td>\n",
              "      <td>0.049686</td>\n",
              "      <td>-0.024650</td>\n",
              "      <td>0.065843</td>\n",
              "      <td>0.688075</td>\n",
              "      <td>1.000000</td>\n",
              "    </tr>\n",
              "  </tbody>\n",
              "</table>\n",
              "</div>"
            ],
            "text/plain": [
              "                    longitude  latitude  housing_median_age  total_rooms  \\\n",
              "longitude            1.000000 -0.924664           -0.108197     0.044568   \n",
              "latitude            -0.924664  1.000000            0.011173    -0.036100   \n",
              "housing_median_age  -0.108197  0.011173            1.000000    -0.361262   \n",
              "total_rooms          0.044568 -0.036100           -0.361262     1.000000   \n",
              "total_bedrooms       0.069608 -0.066983           -0.320451     0.930380   \n",
              "population           0.099773 -0.108785           -0.296244     0.857126   \n",
              "households           0.055310 -0.071035           -0.302916     0.918484   \n",
              "median_income       -0.015176 -0.079809           -0.119034     0.198050   \n",
              "median_house_value  -0.045967 -0.144160            0.105623     0.134153   \n",
              "\n",
              "                    total_bedrooms  population  households  median_income  \\\n",
              "longitude                 0.069608    0.099773    0.055310      -0.015176   \n",
              "latitude                 -0.066983   -0.108785   -0.071035      -0.079809   \n",
              "housing_median_age       -0.320451   -0.296244   -0.302916      -0.119034   \n",
              "total_rooms               0.930380    0.857126    0.918484       0.198050   \n",
              "total_bedrooms            1.000000    0.877747    0.979728      -0.007723   \n",
              "population                0.877747    1.000000    0.907222       0.004834   \n",
              "households                0.979728    0.907222    1.000000       0.013033   \n",
              "median_income            -0.007723    0.004834    0.013033       1.000000   \n",
              "median_house_value        0.049686   -0.024650    0.065843       0.688075   \n",
              "\n",
              "                    median_house_value  \n",
              "longitude                    -0.045967  \n",
              "latitude                     -0.144160  \n",
              "housing_median_age            0.105623  \n",
              "total_rooms                   0.134153  \n",
              "total_bedrooms                0.049686  \n",
              "population                   -0.024650  \n",
              "households                    0.065843  \n",
              "median_income                 0.688075  \n",
              "median_house_value            1.000000  "
            ]
          },
          "execution_count": 26,
          "metadata": {},
          "output_type": "execute_result"
        }
      ],
      "source": [
        "housing_df.corr()"
      ]
    },
    {
      "cell_type": "code",
      "execution_count": null,
      "metadata": {
        "id": "1DaxGs2hzLv3",
        "outputId": "e0283602-a6ac-4ee8-ed03-f206639657fc"
      },
      "outputs": [
        {
          "data": {
            "text/html": [
              "<div>\n",
              "<style scoped>\n",
              "    .dataframe tbody tr th:only-of-type {\n",
              "        vertical-align: middle;\n",
              "    }\n",
              "\n",
              "    .dataframe tbody tr th {\n",
              "        vertical-align: top;\n",
              "    }\n",
              "\n",
              "    .dataframe thead th {\n",
              "        text-align: right;\n",
              "    }\n",
              "</style>\n",
              "<table border=\"1\" class=\"dataframe\">\n",
              "  <thead>\n",
              "    <tr style=\"text-align: right;\">\n",
              "      <th></th>\n",
              "      <th>total_rooms</th>\n",
              "      <th>median_income</th>\n",
              "      <th>median_house_value</th>\n",
              "    </tr>\n",
              "  </thead>\n",
              "  <tbody>\n",
              "    <tr>\n",
              "      <th>0</th>\n",
              "      <td>880.0</td>\n",
              "      <td>8.3252</td>\n",
              "      <td>452600.0</td>\n",
              "    </tr>\n",
              "    <tr>\n",
              "      <th>1</th>\n",
              "      <td>7099.0</td>\n",
              "      <td>8.3014</td>\n",
              "      <td>358500.0</td>\n",
              "    </tr>\n",
              "    <tr>\n",
              "      <th>2</th>\n",
              "      <td>1467.0</td>\n",
              "      <td>7.2574</td>\n",
              "      <td>352100.0</td>\n",
              "    </tr>\n",
              "    <tr>\n",
              "      <th>3</th>\n",
              "      <td>1274.0</td>\n",
              "      <td>5.6431</td>\n",
              "      <td>341300.0</td>\n",
              "    </tr>\n",
              "    <tr>\n",
              "      <th>4</th>\n",
              "      <td>1627.0</td>\n",
              "      <td>3.8462</td>\n",
              "      <td>342200.0</td>\n",
              "    </tr>\n",
              "    <tr>\n",
              "      <th>...</th>\n",
              "      <td>...</td>\n",
              "      <td>...</td>\n",
              "      <td>...</td>\n",
              "    </tr>\n",
              "    <tr>\n",
              "      <th>20635</th>\n",
              "      <td>1665.0</td>\n",
              "      <td>1.5603</td>\n",
              "      <td>78100.0</td>\n",
              "    </tr>\n",
              "    <tr>\n",
              "      <th>20636</th>\n",
              "      <td>697.0</td>\n",
              "      <td>2.5568</td>\n",
              "      <td>77100.0</td>\n",
              "    </tr>\n",
              "    <tr>\n",
              "      <th>20637</th>\n",
              "      <td>2254.0</td>\n",
              "      <td>1.7000</td>\n",
              "      <td>92300.0</td>\n",
              "    </tr>\n",
              "    <tr>\n",
              "      <th>20638</th>\n",
              "      <td>1860.0</td>\n",
              "      <td>1.8672</td>\n",
              "      <td>84700.0</td>\n",
              "    </tr>\n",
              "    <tr>\n",
              "      <th>20639</th>\n",
              "      <td>2785.0</td>\n",
              "      <td>2.3886</td>\n",
              "      <td>89400.0</td>\n",
              "    </tr>\n",
              "  </tbody>\n",
              "</table>\n",
              "<p>20640 rows × 3 columns</p>\n",
              "</div>"
            ],
            "text/plain": [
              "       total_rooms  median_income  median_house_value\n",
              "0            880.0         8.3252            452600.0\n",
              "1           7099.0         8.3014            358500.0\n",
              "2           1467.0         7.2574            352100.0\n",
              "3           1274.0         5.6431            341300.0\n",
              "4           1627.0         3.8462            342200.0\n",
              "...            ...            ...                 ...\n",
              "20635       1665.0         1.5603             78100.0\n",
              "20636        697.0         2.5568             77100.0\n",
              "20637       2254.0         1.7000             92300.0\n",
              "20638       1860.0         1.8672             84700.0\n",
              "20639       2785.0         2.3886             89400.0\n",
              "\n",
              "[20640 rows x 3 columns]"
            ]
          },
          "execution_count": 27,
          "metadata": {},
          "output_type": "execute_result"
        }
      ],
      "source": [
        "housing_df[['total_rooms','median_income','median_house_value']]"
      ]
    },
    {
      "cell_type": "code",
      "execution_count": null,
      "metadata": {
        "id": "NMBsOoO3zLv3",
        "outputId": "e0af6cde-3ad3-4208-d648-c1e0377310f2"
      },
      "outputs": [
        {
          "name": "stderr",
          "output_type": "stream",
          "text": [
            "*c* argument looks like a single numeric RGB or RGBA sequence, which should be avoided as value-mapping will have precedence in case its length matches with *x* & *y*.  Please use the *color* keyword-argument or provide a 2-D array with a single row if you intend to specify the same RGB or RGBA value for all points.\n"
          ]
        },
        {
          "data": {
            "text/plain": [
              "<matplotlib.axes._subplots.AxesSubplot at 0x18737758520>"
            ]
          },
          "execution_count": 28,
          "metadata": {},
          "output_type": "execute_result"
        },
        {
          "data": {
            "image/png": "[encoded data removed]",
            "text/plain": [
              "<Figure size 432x288 with 1 Axes>"
            ]
          },
          "metadata": {},
          "output_type": "display_data"
        }
      ],
      "source": [
        "housing_df[['total_rooms','median_house_value']].plot.scatter(x='total_rooms',y='median_house_value')"
      ]
    },
    {
      "cell_type": "code",
      "execution_count": null,
      "metadata": {
        "id": "Qtntz3-MzLv4",
        "outputId": "0a7f72c4-0d76-45b9-ab45-09abf3e5dd02"
      },
      "outputs": [
        {
          "name": "stderr",
          "output_type": "stream",
          "text": [
            "*c* argument looks like a single numeric RGB or RGBA sequence, which should be avoided as value-mapping will have precedence in case its length matches with *x* & *y*.  Please use the *color* keyword-argument or provide a 2-D array with a single row if you intend to specify the same RGB or RGBA value for all points.\n"
          ]
        },
        {
          "data": {
            "text/plain": [
              "<matplotlib.axes._subplots.AxesSubplot at 0x187376f7d30>"
            ]
          },
          "execution_count": 29,
          "metadata": {},
          "output_type": "execute_result"
        },
        {
          "data": {
            "image/png": "[encoded data removed]",
            "text/plain": [
              "<Figure size 432x288 with 1 Axes>"
            ]
          },
          "metadata": {},
          "output_type": "display_data"
        }
      ],
      "source": [
        "housing_df[['median_income','median_house_value']].plot.scatter(x='median_income',y='median_house_value')"
      ]
    },
    {
      "cell_type": "code",
      "execution_count": null,
      "metadata": {
        "id": "rImDN8xZzLv4"
      },
      "outputs": [],
      "source": [
        "X = housing_df[['median_income','total_rooms']].to_numpy()\n",
        "y = housing_df['median_house_value']\n",
        "\n",
        "X_train, X_test, y_train, y_test = train_test_split(X, y, test_size = 0.33, random_state = 42)"
      ]
    },
    {
      "cell_type": "markdown",
      "metadata": {
        "id": "GebiwZZxzLv5"
      },
      "source": [
        "## Polynomial regression: extending linear models with basis functions\n",
        "\n",
        "One common pattern within machine learning is to use linear models trained on nonlinear functions of the data. This approach maintains the generally fast performance of linear methods, while allowing them to fit a much wider range of data.\n",
        "\n",
        "For example, a simple linear regression can be extended by constructing polynomial features from the coefficients."
      ]
    },
    {
      "cell_type": "code",
      "execution_count": null,
      "metadata": {
        "id": "_LJab9MszLv5"
      },
      "outputs": [],
      "source": [
        "from sklearn.preprocessing import PolynomialFeatures\n",
        "\n",
        "poly_reg = PolynomialFeatures(degree=2) # example of feature processing\n",
        "X_poly = poly_reg.fit_transform(X_train)\n",
        "\n",
        "pol_reg = LinearRegression(normalize = True)\n",
        "\n",
        "pol_reg.fit(X_poly, y_train)\n",
        "\n",
        "\n",
        "# Predict\n",
        "X_p = poly_reg.fit_transform(X_test)\n",
        "y_predicted = pol_reg.predict(X_p)"
      ]
    },
    {
      "cell_type": "code",
      "execution_count": null,
      "metadata": {
        "id": "QOBn7xLHzLv5",
        "outputId": "bf75b556-05d0-4a04-cec2-837c580d8be4"
      },
      "outputs": [
        {
          "data": {
            "image/png": "[encoded data removed]",
            "text/plain": [
              "<Figure size 432x288 with 1 Axes>"
            ]
          },
          "metadata": {},
          "output_type": "display_data"
        }
      ],
      "source": [
        "plt.scatter( X_train[:,0], y_train,color=\"black\")\n",
        "plt.plot( X_test[:,0], y_predicted)\n",
        "plt.xlabel('median_income')\n",
        "plt.ylabel('median_house_value')\n",
        "plt.show()"
      ]
    },
    {
      "cell_type": "code",
      "execution_count": null,
      "metadata": {
        "scrolled": true,
        "id": "FkrplQryzLv6",
        "outputId": "16d3b764-3a21-49a9-f9bf-ddfe5273d09a"
      },
      "outputs": [
        {
          "data": {
            "image/png": "[encoded data removed]",
            "text/plain": [
              "<Figure size 432x288 with 1 Axes>"
            ]
          },
          "metadata": {},
          "output_type": "display_data"
        }
      ],
      "source": [
        "plt.scatter( X_train[:,1], y_train,color=\"black\")\n",
        "plt.plot( X_test[:,1], y_predicted)\n",
        "plt.xlabel('total_rooms')\n",
        "plt.ylabel('median_house_value')\n",
        "plt.show()"
      ]
    },
    {
      "cell_type": "code",
      "execution_count": null,
      "metadata": {
        "id": "x2wqZ2xdzLv6",
        "outputId": "8311bcb6-994e-4031-f459-3bf83731bea2"
      },
      "outputs": [
        {
          "name": "stdout",
          "output_type": "stream",
          "text": [
            "Slope: [ 0.00000000e+00  5.09798971e+04 -2.74001314e+00 -1.09386148e+03\n",
            "  9.99668976e-01 -1.70434549e-04]\n",
            "Intercept: 27606.590332425752\n",
            "Root mean squared error:  83346.30015911571\n",
            "R2 score:  0.47871466184452627\n"
          ]
        }
      ],
      "source": [
        "from sklearn.metrics import mean_squared_error\n",
        "\n",
        "\n",
        "\n",
        "# model evaluation\n",
        "rmse = np.sqrt(mean_squared_error(y_test, y_predicted))\n",
        "r2 = r2_score(y_test, y_predicted)\n",
        "\n",
        "# printing values\n",
        "print('Slope:' ,pol_reg.coef_)\n",
        "print('Intercept:', pol_reg.intercept_)\n",
        "print('Root mean squared error: ', rmse)\n",
        "print('R2 score: ', r2)"
      ]
    },
    {
      "cell_type": "markdown",
      "metadata": {
        "id": "1t8RonE2zLv6"
      },
      "source": [
        "## KernelRidge \n",
        "Kernel ridge regression (KRR) combines ridge regression (linear least squares with l2-norm regularization) with the kernel trick. It is an example of a non-linear regression algorithm where we cannot derive the coefficient and intercept values."
      ]
    },
    {
      "cell_type": "code",
      "execution_count": null,
      "metadata": {
        "id": "YOPQakGLzLv7"
      },
      "outputs": [],
      "source": [
        "from sklearn.kernel_ridge import KernelRidge\n",
        "\n",
        "reg = KernelRidge(alpha=1.0)\n",
        "\n",
        "reg.fit(X_train, y_train)\n",
        "\n",
        "\n",
        "y_predicted = reg.predict(X_test)"
      ]
    },
    {
      "cell_type": "code",
      "execution_count": null,
      "metadata": {
        "id": "jXl2TGuuzLv7",
        "outputId": "95279475-a268-44fe-9850-c2866514eca4"
      },
      "outputs": [
        {
          "name": "stdout",
          "output_type": "stream",
          "text": [
            "Root mean squared error:  85997.43401807599\n",
            "R2 score:  0.4450244573609389\n"
          ]
        }
      ],
      "source": [
        "# model evaluation\n",
        "rmse = np.sqrt(mean_squared_error(y_test, y_predicted))\n",
        "r2 = r2_score(y_test, y_predicted)\n",
        "\n",
        "# printing values\n",
        "print('Root mean squared error: ', rmse)\n",
        "print('R2 score: ', r2)"
      ]
    },
    {
      "cell_type": "markdown",
      "metadata": {
        "id": "dDub1Q4zzLv8"
      },
      "source": [
        "## What other regression estimators exist in the Scikit Learn package?\n",
        "in what situations are they best used?"
      ]
    },
    {
      "cell_type": "markdown",
      "metadata": {
        "id": "3Lpijw7FzLv8"
      },
      "source": [
        "# Modeling recap\n",
        "\n",
        "This assumes you have done all steps including EDA\n",
        "1. Import relevant packages\n",
        "2. Review dataset and apply necessary feature engineering\n",
        "3. set X and y variables \n",
        "4. setup holdout strategy: Train-test Split  \n",
        "5. Create model and call fit function on training set\n",
        "6. run predict on test set \n",
        "6. Evaluate results and iterate as necessary (ensure modeling assumptions hold true!) \n",
        "7. Identify champion model  "
      ]
    },
    {
      "cell_type": "markdown",
      "metadata": {
        "id": "G2CWIutlzLv9"
      },
      "source": [
        "- - -\n",
        "**NEXT TOPIC:**  [Classification](03_classification.ipynb)"
      ]
    },
    {
      "cell_type": "code",
      "execution_count": null,
      "metadata": {
        "id": "MfPc4FxJzLv9"
      },
      "outputs": [],
      "source": [
        ""
      ]
    }
  ],
  "metadata": {
    "kernelspec": {
      "display_name": "Python 3",
      "language": "python",
      "name": "python3"
    },
    "language_info": {
      "codemirror_mode": {
        "name": "ipython",
        "version": 3
      },
      "file_extension": ".py",
      "mimetype": "text/x-python",
      "name": "python",
      "nbconvert_exporter": "python",
      "pygments_lexer": "ipython3",
      "version": "3.8.3"
    },
    "colab": {
      "name": "Week_09_02_regression.ipynb",
      "provenance": [],
      "include_colab_link": true
    }
  },
  "nbformat": 4,
  "nbformat_minor": 0
}