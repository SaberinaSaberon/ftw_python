{
  "nbformat": 4,
  "nbformat_minor": 0,
  "metadata": {
    "colab": {
      "name": "python_0.ipynb",
      "provenance": [],
      "collapsed_sections": [],
      "toc_visible": true,
      "authorship_tag": "ABX9TyMcs2RKECUA37F/lIiM5bWE",
      "include_colab_link": true
    },
    "kernelspec": {
      "name": "python3",
      "display_name": "Python 3"
    },
    "language_info": {
      "name": "python"
    }
  },
  "cells": [
    {
      "cell_type": "markdown",
      "metadata": {
        "id": "view-in-github",
        "colab_type": "text"
      },
      "source": [
        "<a href=\"https://colab.research.google.com/github/angelaaaateng/ftw_python/blob/main/python_0.ipynb\" target=\"_parent\"><img src=\"https://colab.research.google.com/assets/colab-badge.svg\" alt=\"Open In Colab\"/></a>"
      ]
    },
    {
      "cell_type": "markdown",
      "source": [
        "# Introduction to Python \n",
        "## FTW Foundation\n",
        "June 25, 2022 - Day 1\n",
        "\n",
        "## Outine: \n",
        "---\n",
        "1. Hello, World\n",
        "2. Python Basics\n",
        "3. Variables\n",
        "  - 3.1 Strings \n",
        "  - 3.2 Integers \n",
        "  - 3.3 Floats \n",
        "- < break > \n",
        "4. Data Types \n",
        " - 4.1 Lists \n",
        " - 4.2 Tuples \n",
        " - 4.3 Dictionaries \n",
        "5. Functions \n",
        "6. If statements \n",
        "7. While loops\n",
        "A. Appendix\n",
        " - A.1 Variable Naming Conventions\n",
        " - A.2 The Zen of Python\n",
        "\n",
        "\n",
        "\n",
        "## References: \n",
        "---\n",
        "- <a href='https://ehmatthes.github.io/pcc/index.html'>Python Crash Course</a>"
      ],
      "metadata": {
        "id": "NMu3mZ9AZaOu"
      }
    },
    {
      "cell_type": "markdown",
      "source": [
        "## insert information about house rules etc \n",
        "\n",
        "- additional references\n",
        "- what is jupyter notebook etc\n",
        "\n"
      ],
      "metadata": {
        "id": "wNENAcqhaMku"
      }
    },
    {
      "cell_type": "markdown",
      "source": [
        "#Hello, World"
      ],
      "metadata": {
        "id": "pa0qsHZ6aTBs"
      }
    },
    {
      "cell_type": "code",
      "execution_count": null,
      "metadata": {
        "colab": {
          "base_uri": "https://localhost:8080/"
        },
        "id": "jAEQANnCZXYG",
        "outputId": "f399b814-433c-4810-d113-10056c5365a1"
      },
      "outputs": [
        {
          "output_type": "stream",
          "name": "stdout",
          "text": [
            "Hello, world!\n"
          ]
        }
      ],
      "source": [
        "print('Hello, world!')"
      ]
    },
    {
      "cell_type": "code",
      "source": [
        "print(\"Good morning, FTW!\")"
      ],
      "metadata": {
        "colab": {
          "base_uri": "https://localhost:8080/"
        },
        "id": "uCqNIN6Malva",
        "outputId": "7fc29a09-e135-48b5-e20c-6b6f3f793600"
      },
      "execution_count": null,
      "outputs": [
        {
          "output_type": "stream",
          "name": "stdout",
          "text": [
            "Good morning, FTW!\n"
          ]
        }
      ]
    },
    {
      "cell_type": "code",
      "source": [
        "name = input(\"What is your name? \") # input is one of the many things you will learn today (can you guess what it does?)"
      ],
      "metadata": {
        "colab": {
          "base_uri": "https://localhost:8080/"
        },
        "id": "iz5zWjxnagdv",
        "outputId": "968a353d-aadb-468b-df6b-96a3dee0d5b7"
      },
      "execution_count": null,
      "outputs": [
        {
          "name": "stdout",
          "output_type": "stream",
          "text": [
            "What is your name? Angela\n"
          ]
        }
      ]
    },
    {
      "cell_type": "code",
      "source": [
        "print(\"Hello, \",name+\"! - Python\") # here, we allow Python to say hi back"
      ],
      "metadata": {
        "colab": {
          "base_uri": "https://localhost:8080/"
        },
        "id": "KqsbJzwdaqNG",
        "outputId": "3df1d13f-e5d6-438f-a219-e92bf9c879fc"
      },
      "execution_count": null,
      "outputs": [
        {
          "output_type": "stream",
          "name": "stdout",
          "text": [
            "Hello,  Angela! - Python\n"
          ]
        }
      ]
    },
    {
      "cell_type": "markdown",
      "source": [
        "#Python Basics"
      ],
      "metadata": {
        "id": "mWjNL7_WdZiz"
      }
    },
    {
      "cell_type": "code",
      "source": [
        ""
      ],
      "metadata": {
        "id": "9OJoAxpHashi"
      },
      "execution_count": null,
      "outputs": []
    },
    {
      "cell_type": "markdown",
      "source": [
        "#Variables \n",
        "\n",
        "- A **variable** holds *value*. \n",
        "\n",
        "**What Really Happens When You Run `hello_world`?**\n",
        "- Your editor (in this case, Google Colab) runs the file through the\n",
        "Python interpreter, which reads through the program and determines what\n",
        "each word in the program means.\n",
        "- For example, when the interpreter sees the `print` statement, it prints to the screen whatever is *inside* the parentheses.\n",
        "- *syntax highlighting* - As you write your programs, your editor highlights different parts of your program in different ways. (`print` is highlighted in brown/green, as it is a function. `Hello, World!` is highlighted in orange."
      ],
      "metadata": {
        "id": "i9Ar8839enxZ"
      }
    },
    {
      "cell_type": "code",
      "source": [
        "message = \"Hello Python world!\"\n",
        "print(message)"
      ],
      "metadata": {
        "colab": {
          "base_uri": "https://localhost:8080/"
        },
        "id": "H0TSWPjxf-gQ",
        "outputId": "b2361e45-0e28-4ba4-cbfd-fc3869f867d1"
      },
      "execution_count": null,
      "outputs": [
        {
          "output_type": "stream",
          "name": "stdout",
          "text": [
            "Hello Python world!\n"
          ]
        }
      ]
    },
    {
      "cell_type": "markdown",
      "source": [
        "- In our \"Hello, world!\" version 2, we see the same output, but we've now added a *variable* called `message`. \n",
        "- Every variable holds a value, which is the information associated with that variable. \n",
        "- In this case the value is the text “Hello Python world!”\n",
        "- We can expand on this program by modifying `hello_world` to print a second\n",
        "message."
      ],
      "metadata": {
        "id": "wN3T_46TgFzL"
      }
    },
    {
      "cell_type": "code",
      "source": [
        "message = \"Hello Python world!\"\n",
        "print(message)\n",
        "\n",
        "message = \"Hello FTWFoundation world!\"\n",
        "print(message)"
      ],
      "metadata": {
        "colab": {
          "base_uri": "https://localhost:8080/"
        },
        "id": "_CBxxhklgEW3",
        "outputId": "5268ddd1-9cff-4c1f-f8d3-39daa530c586"
      },
      "execution_count": null,
      "outputs": [
        {
          "output_type": "stream",
          "name": "stdout",
          "text": [
            "Hello Python world!\n",
            "Hello FTWFoundation world!\n"
          ]
        }
      ]
    },
    {
      "cell_type": "markdown",
      "source": [
        "- You can change the value of a variable in your program at any time, and Python will always keep track of its current value.\n",
        "\n",
        "**What should you do when you encounter an error in Python?**\n",
        "- What do you think is the error below?"
      ],
      "metadata": {
        "id": "kh1clJq8gnIP"
      }
    },
    {
      "cell_type": "code",
      "source": [
        "message = \"Hello FTWFoundation!\"\n",
        "print(mesage)"
      ],
      "metadata": {
        "colab": {
          "base_uri": "https://localhost:8080/",
          "height": 188
        },
        "id": "8Uv_itiChTKN",
        "outputId": "b93a77dc-6875-4314-ec41-944cbc93ccb3"
      },
      "execution_count": null,
      "outputs": [
        {
          "output_type": "error",
          "ename": "NameError",
          "evalue": "ignored",
          "traceback": [
            "\u001b[0;31m---------------------------------------------------------------------------\u001b[0m",
            "\u001b[0;31mNameError\u001b[0m                                 Traceback (most recent call last)",
            "\u001b[0;32m<ipython-input-10-2e2459e97976>\u001b[0m in \u001b[0;36m<module>\u001b[0;34m()\u001b[0m\n\u001b[1;32m      1\u001b[0m \u001b[0mmessage\u001b[0m \u001b[0;34m=\u001b[0m \u001b[0;34m\"Hello FTWFoundation!\"\u001b[0m\u001b[0;34m\u001b[0m\u001b[0;34m\u001b[0m\u001b[0m\n\u001b[0;32m----> 2\u001b[0;31m \u001b[0mprint\u001b[0m\u001b[0;34m(\u001b[0m\u001b[0mmesage\u001b[0m\u001b[0;34m)\u001b[0m\u001b[0;34m\u001b[0m\u001b[0;34m\u001b[0m\u001b[0m\n\u001b[0m",
            "\u001b[0;31mNameError\u001b[0m: name 'mesage' is not defined"
          ]
        }
      ]
    },
    {
      "cell_type": "markdown",
      "source": [
        "- When an error occurs in your program, the Python interpreter does its best to help you figure out where the problem is. \n",
        "- The interpreter provides a traceback when a program cannot run successfully.\n",
        "- *traceback* is a record of where the interpreter ran into trouble when trying to execute your code.\n",
        "\n",
        "**Digging deeper into the traceback above**:\n",
        "- The output in the *traceback* above reports that an error occurs in line 2. \n",
        "- The interpreter shows this line to help us spot the error\n",
        "quickly, and tells us what kind of error it found. \n",
        "- In this case it found a name error `NameError` and reports that the variable being printed, `mesage`, has not been defined. \n",
        "- Python can’t identify the variable name provided. A name error\n",
        "usually means we either forgot to set a variable’s value before using it, or\n",
        "we made a spelling mistake when entering the variable’s name."
      ],
      "metadata": {
        "id": "TgxwRqqKhZqB"
      }
    },
    {
      "cell_type": "code",
      "source": [
        "message = \"Hello FTWFoundation!\"\n",
        "print(message)"
      ],
      "metadata": {
        "colab": {
          "base_uri": "https://localhost:8080/"
        },
        "id": "gkuIdj3sizZF",
        "outputId": "adb75ed3-d66c-4baa-ce1c-36c6eec16dc8"
      },
      "execution_count": null,
      "outputs": [
        {
          "output_type": "stream",
          "name": "stdout",
          "text": [
            "Hello FTWFoundation!\n"
          ]
        }
      ]
    },
    {
      "cell_type": "markdown",
      "source": [
        "## DIY 1: Variables and Print Statements\n",
        "\n",
        "**Exercise 1:** Simple Message\n",
        "- Store a message in a variable, and then print that\n",
        "message.\n"
      ],
      "metadata": {
        "id": "ITjTnez9iNGf"
      }
    },
    {
      "cell_type": "code",
      "source": [
        "# write your code here!"
      ],
      "metadata": {
        "id": "bvB1UZ4iga86"
      },
      "execution_count": null,
      "outputs": []
    },
    {
      "cell_type": "markdown",
      "source": [
        "**Exercise 2**: Simple Messages \n",
        "\n",
        "Store a message in a variable, and print that message.\n",
        "Then change the value of your variable to a new message, and print the new message."
      ],
      "metadata": {
        "id": "fplQ5rRhjXBh"
      }
    },
    {
      "cell_type": "code",
      "source": [
        "# write your code here\n"
      ],
      "metadata": {
        "id": "Uk2pmnSAjdbG"
      },
      "execution_count": null,
      "outputs": []
    },
    {
      "cell_type": "markdown",
      "source": [
        "#Strings\n",
        "\n",
        "- Strings are sets of characters.\n",
        "- Strings are contained by either single or double quotes."
      ],
      "metadata": {
        "id": "i6GIoaXfjjPD"
      }
    },
    {
      "cell_type": "code",
      "source": [
        "my_string1 = \"This is a double-quoted string.\"\n",
        "my_string2 = 'This is a single-quoted string.'"
      ],
      "metadata": {
        "id": "zAB8VDXXkcuE"
      },
      "execution_count": null,
      "outputs": []
    },
    {
      "cell_type": "code",
      "source": [
        "print(my_string1)\n",
        "print(my_string2)"
      ],
      "metadata": {
        "colab": {
          "base_uri": "https://localhost:8080/"
        },
        "id": "ZAl3qBSMorZl",
        "outputId": "46d760c3-ce9a-4356-9b24-a8a483d4b46b"
      },
      "execution_count": null,
      "outputs": [
        {
          "output_type": "stream",
          "name": "stdout",
          "text": [
            "This is a double-quoted string.\n",
            "This is a single-quoted string.\n"
          ]
        }
      ]
    },
    {
      "cell_type": "markdown",
      "source": [
        "This lets us make strings that contain quotations and apostrophies."
      ],
      "metadata": {
        "id": "q6PZJRv2o4oT"
      }
    },
    {
      "cell_type": "code",
      "source": [
        "quote = \"Winter is coming. - 'Someone'\""
      ],
      "metadata": {
        "id": "Il8Uh3k0o0Js"
      },
      "execution_count": null,
      "outputs": []
    },
    {
      "cell_type": "code",
      "source": [
        "print(quote)"
      ],
      "metadata": {
        "colab": {
          "base_uri": "https://localhost:8080/"
        },
        "id": "lVE3z7Cao_Ld",
        "outputId": "b4fa00d5-08b1-4a6f-bc76-09b244ccd272"
      },
      "execution_count": null,
      "outputs": [
        {
          "output_type": "stream",
          "name": "stdout",
          "text": [
            "Winter is coming. - 'Someone'\n"
          ]
        }
      ]
    },
    {
      "cell_type": "code",
      "source": [
        "quote = \"One of Python's strengths is its diverse and supportive community.\"\n",
        "print(quote)"
      ],
      "metadata": {
        "colab": {
          "base_uri": "https://localhost:8080/"
        },
        "id": "pswiHt7VpVFX",
        "outputId": "1457a0b2-977b-459f-e255-84462beea069"
      },
      "execution_count": null,
      "outputs": [
        {
          "output_type": "stream",
          "name": "stdout",
          "text": [
            "One of Python's strengths is its diverse and supportive community.\n"
          ]
        }
      ]
    },
    {
      "cell_type": "markdown",
      "source": [
        "- Strings are quite simple at first glance, but you can use them in many different ways. \n",
        "\n",
        "Let's explore what we can do with strings! "
      ],
      "metadata": {
        "id": "X9dQn8jPpgKP"
      }
    },
    {
      "cell_type": "markdown",
      "source": [
        "## Changing Case"
      ],
      "metadata": {
        "id": "nBn-xMhypq9n"
      }
    },
    {
      "cell_type": "code",
      "source": [
        "first_name = 'harry'\n",
        "\n",
        "print(first_name)\n",
        "print(first_name.title())"
      ],
      "metadata": {
        "colab": {
          "base_uri": "https://localhost:8080/"
        },
        "id": "6dgnAQWkpuur",
        "outputId": "4e2b8cc4-93d9-48f5-ad21-86237a448c62"
      },
      "execution_count": null,
      "outputs": [
        {
          "output_type": "stream",
          "name": "stdout",
          "text": [
            "harry\n",
            "Harry\n"
          ]
        }
      ]
    },
    {
      "cell_type": "markdown",
      "source": [
        "- A method is an action that Python can perform on a piece of data. \n",
        "- The dot (.) after name in name.title() tells Python to make the title() method\n",
        "act on the variable name. \n",
        "- Every method is followed by a set of parentheses,\n",
        "because methods often need additional information to do their work.\n",
        "- That information is provided inside the parentheses. The title() function\n",
        "doesn’t need any additional information, so its parentheses are empty."
      ],
      "metadata": {
        "id": "ITx35b97q0Ya"
      }
    },
    {
      "cell_type": "code",
      "source": [
        "last_name = 'potter'\n",
        "\n",
        "print(last_name)\n",
        "print(last_name.title())\n",
        "print(last_name.upper())\n",
        "\n",
        "last_name = 'Potter'\n",
        "print(last_name.lower())"
      ],
      "metadata": {
        "colab": {
          "base_uri": "https://localhost:8080/"
        },
        "id": "7FmfvWbMpxW0",
        "outputId": "40ef3a23-ac52-4b40-919f-5a7cdd474c2f"
      },
      "execution_count": null,
      "outputs": [
        {
          "output_type": "stream",
          "name": "stdout",
          "text": [
            "potter\n",
            "Potter\n",
            "POTTER\n",
            "potter\n"
          ]
        }
      ]
    },
    {
      "cell_type": "markdown",
      "source": [
        "- A **method** is something that *can be done to a variable*.\n",
        "- The methods `lower`, `title`, and `upper` are all functions that have been written into the Python language, which do something to strings. Later on, you will learn to write your own methods.\n",
        "- The `lower()` method is particularly useful for storing data. \n",
        "- Many times you won’t want to trust the capitalization that your users provide, so you’ll convert strings to lowercase before storing them. \n",
        "- Then when you want to\n",
        "display the information, you’ll use the case that makes the most sense for\n",
        "each string."
      ],
      "metadata": {
        "id": "8u58FWrdpt7p"
      }
    },
    {
      "cell_type": "markdown",
      "source": [
        "## DIY 2: Name Cases \n",
        "\n",
        "Store a person’s name in a variable, and then print that person’s\n",
        "name in lowercase, uppercase, and titlecase."
      ],
      "metadata": {
        "id": "8ZDvVsPRQR12"
      }
    },
    {
      "cell_type": "code",
      "source": [
        "# write your code here"
      ],
      "metadata": {
        "id": "cjJelKEUQWeu"
      },
      "execution_count": null,
      "outputs": []
    },
    {
      "cell_type": "code",
      "source": [
        "# write your code here "
      ],
      "metadata": {
        "id": "O4VilIn2QYHC"
      },
      "execution_count": null,
      "outputs": []
    },
    {
      "cell_type": "markdown",
      "source": [
        "## Concatenation\n",
        "\n",
        "- It is often very useful to be able to combine strings into a message or page element that we want to display. \n",
        "- For example, you might want to store\n",
        "a first name and a last name in separate variables, and then combine them when you want to display someone’s full name"
      ],
      "metadata": {
        "id": "kyVXLrx-6T4a"
      }
    },
    {
      "cell_type": "code",
      "source": [
        "first_name = \"ada\"\n",
        "last_name = \"lovelace\"\n",
        "full_name = first_name + \" \" + last_name\n",
        "\n",
        "print(full_name)"
      ],
      "metadata": {
        "colab": {
          "base_uri": "https://localhost:8080/"
        },
        "id": "S8z0lbvR6qVu",
        "outputId": "07d5feae-8d3c-4673-ecec-8e87869c8e4b"
      },
      "execution_count": null,
      "outputs": [
        {
          "output_type": "stream",
          "name": "stdout",
          "text": [
            "ada lovelace\n"
          ]
        }
      ]
    },
    {
      "cell_type": "markdown",
      "source": [
        "- Python uses the plus symbol (+) to combine strings\n",
        "- You can use\n",
        "concatenation to compose complete messages using the information you’ve\n",
        "stored in a variable."
      ],
      "metadata": {
        "id": "AGSf0b4268SP"
      }
    },
    {
      "cell_type": "code",
      "source": [
        "print(\"Hello, \" + full_name.title() + \"!\")"
      ],
      "metadata": {
        "colab": {
          "base_uri": "https://localhost:8080/"
        },
        "id": "wJdZ6Nyp7B5w",
        "outputId": "297b4ca5-63de-4a60-c854-11d1c675867c"
      },
      "execution_count": null,
      "outputs": [
        {
          "output_type": "stream",
          "name": "stdout",
          "text": [
            "Hello, Ada Lovelace!\n"
          ]
        }
      ]
    },
    {
      "cell_type": "markdown",
      "source": [
        "- Here, the full name is used in a sentence that greets the user, and\n",
        "the title() method is used to format the name appropriately.\n",
        "\n",
        "- You can use concatenation to compose a message and then store the\n",
        "entire message in a variable:"
      ],
      "metadata": {
        "id": "tnZHze-h7Myn"
      }
    },
    {
      "cell_type": "code",
      "source": [
        "first_name = \"ada\"\n",
        "last_name = \"lovelace\"\n",
        "full_name = first_name + \" \" + last_name\n",
        "message = \"Hello, \" + full_name.title() + \"!\"\n",
        "print(message)"
      ],
      "metadata": {
        "colab": {
          "base_uri": "https://localhost:8080/"
        },
        "id": "pmgIlGuK7WBm",
        "outputId": "d655c62a-a993-4b10-ce56-fe9b4e4b6148"
      },
      "execution_count": null,
      "outputs": [
        {
          "output_type": "stream",
          "name": "stdout",
          "text": [
            "Hello, Ada Lovelace!\n"
          ]
        }
      ]
    },
    {
      "cell_type": "markdown",
      "source": [
        "## Whitespace \n",
        "- whitespace refers to any nonprinting character, such as\n",
        "spaces, tabs, and end-of-line symbols. You can use whitespace to organize\n",
        "your output so it’s easier for users to read.\n",
        "- The term \"whitespace\" refers to characters that the computer is aware of, but are invisible to readers. The most common whitespace characters are spaces, tabs, and newlines.\n",
        "- Spaces are easy to create, because you have been using them as long as you have been using computers. Tabs and newlines are represented by special character combinations.\n",
        "- The two-character combination `\\t` makes a tab appear in a string. Tabs can be used anywhere you like in a string."
      ],
      "metadata": {
        "id": "lYv7aUx07nth"
      }
    },
    {
      "cell_type": "markdown",
      "source": [
        "- add a tab to your text"
      ],
      "metadata": {
        "id": "nq_O4U8o8Eqc"
      }
    },
    {
      "cell_type": "code",
      "source": [
        "print(\"Python\")\n",
        "print(\"\\tPython\")\n"
      ],
      "metadata": {
        "colab": {
          "base_uri": "https://localhost:8080/"
        },
        "id": "KsDBV8Fi75qC",
        "outputId": "736092cd-36f9-4efd-d64e-c7388dfda07a"
      },
      "execution_count": null,
      "outputs": [
        {
          "output_type": "stream",
          "name": "stdout",
          "text": [
            "Python\n",
            "\tPython\n"
          ]
        }
      ]
    },
    {
      "cell_type": "markdown",
      "source": [
        "- add new line to a string"
      ],
      "metadata": {
        "id": "gCB5fed58BLw"
      }
    },
    {
      "cell_type": "code",
      "source": [
        "print(\"Languages:\\nPython\\nC\\nJavaScript\")"
      ],
      "metadata": {
        "colab": {
          "base_uri": "https://localhost:8080/"
        },
        "id": "Fw0ylerO8AQW",
        "outputId": "3cc776e4-263f-435f-86e3-9c8d5b4445d6"
      },
      "execution_count": null,
      "outputs": [
        {
          "output_type": "stream",
          "name": "stdout",
          "text": [
            "Languages:\n",
            "Python\n",
            "C\n",
            "JavaScript\n"
          ]
        }
      ]
    },
    {
      "cell_type": "markdown",
      "source": [
        "- combine tabs and newlines in a single string. The string\n",
        "\"\\n\\t\" tells Python to move to a new line, and start the next line with a tab."
      ],
      "metadata": {
        "id": "EQ6_y66X8Q8c"
      }
    },
    {
      "cell_type": "code",
      "source": [
        "print(\"Languages:\\n\\tPython\\n\\tC\\n\\tJavaScript\")"
      ],
      "metadata": {
        "colab": {
          "base_uri": "https://localhost:8080/"
        },
        "id": "6Tqc5Aib8Tpz",
        "outputId": "bf8060cf-fc76-43a3-ce9f-50dd79b2da6a"
      },
      "execution_count": null,
      "outputs": [
        {
          "output_type": "stream",
          "name": "stdout",
          "text": [
            "Languages:\n",
            "\tPython\n",
            "\tC\n",
            "\tJavaScript\n"
          ]
        }
      ]
    },
    {
      "cell_type": "code",
      "source": [
        "print(\"\\n\\n\\nHello everyone!\")"
      ],
      "metadata": {
        "colab": {
          "base_uri": "https://localhost:8080/"
        },
        "id": "kHwZJIw38Wq_",
        "outputId": "42b86af8-2db1-45e2-db92-4c645fff0a1f"
      },
      "execution_count": null,
      "outputs": [
        {
          "output_type": "stream",
          "name": "stdout",
          "text": [
            "\n",
            "\n",
            "\n",
            "Hello everyone!\n"
          ]
        }
      ]
    },
    {
      "cell_type": "markdown",
      "source": [
        "###Stripping whitespace\n",
        "- Extra whitespace can be confusing in your programs. To programmers\n",
        "`python` and 'python ' look pretty much the same. But to a program, they\n",
        "are two different strings. Python detects the extra space in 'python ' and\n",
        "considers it significant unless you tell it otherwise.\n",
        "- Many times you will allow users to enter text into a box, and then you will read that text and use it. It is really easy for people to include extra whitespace at the beginning or end of their text. Whitespace includes spaces, tabs, and newlines.\n",
        "- It is often a good idea to strip this whitespace from strings before you start working with them. For example, you might want to let people log in, and you probably want to treat 'eric ' as 'eric' when you are trying to see if I exist on your system.\n",
        "- You can strip whitespace from the left side, the right side, or both sides of a string."
      ],
      "metadata": {
        "id": "-QXpTvWj8zYt"
      }
    },
    {
      "cell_type": "code",
      "source": [
        "name = ' harry '\n",
        "\n",
        "print(name.lstrip())\n",
        "print(name.rstrip())\n",
        "print(name.strip())"
      ],
      "metadata": {
        "colab": {
          "base_uri": "https://localhost:8080/"
        },
        "id": "wV2B4vW39ceN",
        "outputId": "b9f4350b-d1c2-41aa-ac94-9d11e3b6c267"
      },
      "execution_count": null,
      "outputs": [
        {
          "output_type": "stream",
          "name": "stdout",
          "text": [
            "harry \n",
            " harry\n",
            "harry\n"
          ]
        }
      ]
    },
    {
      "cell_type": "code",
      "source": [
        "name = ' harry '\n",
        "\n",
        "print('-' + name.lstrip() + '-')\n",
        "print('-' + name.rstrip() + '-')\n",
        "print('-' + name.strip() + '-')"
      ],
      "metadata": {
        "colab": {
          "base_uri": "https://localhost:8080/"
        },
        "id": "KGd00qPI9erk",
        "outputId": "00060ca0-6af7-4a9a-a713-7ef5c296d5a5"
      },
      "execution_count": null,
      "outputs": [
        {
          "output_type": "stream",
          "name": "stdout",
          "text": [
            "-harry -\n",
            "- harry-\n",
            "-harry-\n"
          ]
        }
      ]
    },
    {
      "cell_type": "markdown",
      "source": [
        "###Avoiding Syntax Errors with Strings\n",
        "- One kind of error that you might see with some regularity is a syntax error.\n",
        "A syntax error occurs when Python doesn’t recognize a section of your program\n",
        "as valid Python code. For example, if you use an apostrophe within\n",
        "single quotes, you’ll produce an error. This happens because Python interprets\n",
        "everything between the first single quote and the apostrophe as a\n",
        "string."
      ],
      "metadata": {
        "id": "oCfY76L1PW5H"
      }
    },
    {
      "cell_type": "code",
      "source": [
        "message = 'One of Python's strengths is its diverse community.'\n",
        "print(message)"
      ],
      "metadata": {
        "colab": {
          "base_uri": "https://localhost:8080/",
          "height": 134
        },
        "id": "lnPFdyx2Pzt0",
        "outputId": "6097d369-8d03-4598-f6f6-692ac7f59566"
      },
      "execution_count": null,
      "outputs": [
        {
          "output_type": "error",
          "ename": "SyntaxError",
          "evalue": "ignored",
          "traceback": [
            "\u001b[0;36m  File \u001b[0;32m\"<ipython-input-14-a9250de55b39>\"\u001b[0;36m, line \u001b[0;32m1\u001b[0m\n\u001b[0;31m    message = 'One of Python's strengths is its diverse community.'\u001b[0m\n\u001b[0m                             ^\u001b[0m\n\u001b[0;31mSyntaxError\u001b[0m\u001b[0;31m:\u001b[0m invalid syntax\n"
          ]
        }
      ]
    },
    {
      "cell_type": "markdown",
      "source": [
        "## DIY 3: Rewrite the code below to fix the syntax error"
      ],
      "metadata": {
        "id": "AHNt1ZA8P0vR"
      }
    },
    {
      "cell_type": "code",
      "source": [
        "message = 'One of Python's strengths is its diverse community.'\n",
        "print(message)"
      ],
      "metadata": {
        "colab": {
          "base_uri": "https://localhost:8080/",
          "height": 134
        },
        "id": "7C1IIsGmPib1",
        "outputId": "7f6587c5-ad51-4dde-c7d5-9ed692a052f8"
      },
      "execution_count": null,
      "outputs": [
        {
          "output_type": "error",
          "ename": "SyntaxError",
          "evalue": "ignored",
          "traceback": [
            "\u001b[0;36m  File \u001b[0;32m\"<ipython-input-12-a9250de55b39>\"\u001b[0;36m, line \u001b[0;32m1\u001b[0m\n\u001b[0;31m    message = 'One of Python's strengths is its diverse community.'\u001b[0m\n\u001b[0m                             ^\u001b[0m\n\u001b[0;31mSyntaxError\u001b[0m\u001b[0;31m:\u001b[0m invalid syntax\n"
          ]
        }
      ]
    },
    {
      "cell_type": "code",
      "source": [
        "# Solution: Uncomment out lines 2 and 3 then run this code block\n",
        "# message = \"One of Python's strengths is its diverse community.\"\n",
        "# print(message)"
      ],
      "metadata": {
        "id": "gKP-mWJlPhZb"
      },
      "execution_count": null,
      "outputs": []
    },
    {
      "cell_type": "markdown",
      "source": [
        "## DIY 4: Famous Quote \n",
        "\n",
        "Find a quote from a famous person you admire. Print the\n",
        "quote and the name of its author. Your output should look something like the\n",
        "following, including the quotation marks:\n",
        "\n",
        "\n",
        "\n",
        "*Albert Einstein once said, “A person who never made a\n",
        "mistake never tried anything new.”*"
      ],
      "metadata": {
        "id": "DV8psXDRQf3Z"
      }
    },
    {
      "cell_type": "code",
      "source": [
        "# write your code here"
      ],
      "metadata": {
        "id": "d_Ty8wyHQonK"
      },
      "execution_count": null,
      "outputs": []
    },
    {
      "cell_type": "code",
      "source": [
        "# write your code here "
      ],
      "metadata": {
        "id": "h9iKFF17Qoyp"
      },
      "execution_count": null,
      "outputs": []
    },
    {
      "cell_type": "markdown",
      "source": [
        "# Numbers\n",
        "\n",
        "- Numbers are used quite often in programming to keep score in games, represent\n",
        "data in visualizations, store information in web applications, and so\n",
        "on. \n",
        "- Python treats numbers in several different ways, depending on how they\n",
        "are being used\n",
        "\n"
      ],
      "metadata": {
        "id": "LsBwC4WZPRnI"
      }
    },
    {
      "cell_type": "markdown",
      "source": [
        "## Integers\n",
        "- You can add (+), subtract (-), multiply (*), and divide (/) integers in Python\n",
        "-  Addition and subtraction use the standard plus and minus symbols. Multiplication uses the asterisk, and division uses a forward slash. Exponents use two asterisks."
      ],
      "metadata": {
        "id": "nMklYd6sRDGI"
      }
    },
    {
      "cell_type": "code",
      "source": [
        "2 + 3"
      ],
      "metadata": {
        "colab": {
          "base_uri": "https://localhost:8080/"
        },
        "id": "2zePfPCzRBZg",
        "outputId": "af3d4f12-054a-4edb-9fe0-e5d73dafd4d0"
      },
      "execution_count": null,
      "outputs": [
        {
          "output_type": "execute_result",
          "data": {
            "text/plain": [
              "5"
            ]
          },
          "metadata": {},
          "execution_count": 16
        }
      ]
    },
    {
      "cell_type": "code",
      "source": [
        "print(3-2)"
      ],
      "metadata": {
        "colab": {
          "base_uri": "https://localhost:8080/"
        },
        "id": "WvzFa_yoRGxE",
        "outputId": "9b7a702b-dbd4-43d5-b18d-3a193ff9cc92"
      },
      "execution_count": null,
      "outputs": [
        {
          "output_type": "stream",
          "name": "stdout",
          "text": [
            "1\n"
          ]
        }
      ]
    },
    {
      "cell_type": "code",
      "source": [
        "print(3*2)"
      ],
      "metadata": {
        "colab": {
          "base_uri": "https://localhost:8080/"
        },
        "id": "31f5CdxiRRBV",
        "outputId": "fece497b-ae33-4265-aa06-7638c0f88ee7"
      },
      "execution_count": null,
      "outputs": [
        {
          "output_type": "stream",
          "name": "stdout",
          "text": [
            "6\n"
          ]
        }
      ]
    },
    {
      "cell_type": "code",
      "source": [
        "3/2"
      ],
      "metadata": {
        "colab": {
          "base_uri": "https://localhost:8080/"
        },
        "id": "9Jh8dePtRRGn",
        "outputId": "5c38b520-cb06-4e55-f530-d7bb9ea6174b"
      },
      "execution_count": null,
      "outputs": [
        {
          "output_type": "execute_result",
          "data": {
            "text/plain": [
              "1.5"
            ]
          },
          "metadata": {},
          "execution_count": 19
        }
      ]
    },
    {
      "cell_type": "code",
      "source": [
        "3**2"
      ],
      "metadata": {
        "colab": {
          "base_uri": "https://localhost:8080/"
        },
        "id": "y4y2fA7fRRMo",
        "outputId": "8356decb-9bd4-4af6-c39b-f8ce44142288"
      },
      "execution_count": null,
      "outputs": [
        {
          "output_type": "execute_result",
          "data": {
            "text/plain": [
              "9"
            ]
          },
          "metadata": {},
          "execution_count": 20
        }
      ]
    },
    {
      "cell_type": "markdown",
      "source": [
        "You can use parenthesis to modify the standard order of operations. (High school PEMDAS ☺)\n",
        "\n",
        "- Python supports the order of operations too, so you can use multiple\n",
        "operations in one expression. \n",
        "- You can also use parentheses to modify the\n",
        "order of operations so Python can evaluate your expression in the order\n",
        "you specify."
      ],
      "metadata": {
        "id": "xX7TsEKERA37"
      }
    },
    {
      "cell_type": "code",
      "source": [
        "standard_order = 2+3*4\n",
        "print(standard_order)"
      ],
      "metadata": {
        "colab": {
          "base_uri": "https://localhost:8080/"
        },
        "id": "6eNuvEcGRXuR",
        "outputId": "a9858d20-7d30-4a9a-cdb4-3572901a8300"
      },
      "execution_count": null,
      "outputs": [
        {
          "output_type": "stream",
          "name": "stdout",
          "text": [
            "14\n"
          ]
        }
      ]
    },
    {
      "cell_type": "code",
      "source": [
        "my_order = (2+3)*4\n",
        "print(my_order)"
      ],
      "metadata": {
        "colab": {
          "base_uri": "https://localhost:8080/"
        },
        "id": "BzUlIAbNRX2h",
        "outputId": "b8afa856-a3f0-4daf-c781-a1dcb261fc3d"
      },
      "execution_count": null,
      "outputs": [
        {
          "output_type": "stream",
          "name": "stdout",
          "text": [
            "20\n"
          ]
        }
      ]
    },
    {
      "cell_type": "markdown",
      "source": [
        "## Floats\n",
        "- Python calls any number with a decimal point a float. \n",
        "- This term is used in\n",
        "most programming languages, and it refers to the fact that a decimal point\n",
        "can appear at any position in a number\n",
        "- Most of the time, you can think of floating point numbers as decimals, and they will behave as you expect them to."
      ],
      "metadata": {
        "id": "rbvKNkSbRqrx"
      }
    },
    {
      "cell_type": "code",
      "source": [
        "print(0.1+0.1)"
      ],
      "metadata": {
        "colab": {
          "base_uri": "https://localhost:8080/"
        },
        "id": "hIRMCoWsR4aE",
        "outputId": "0302859a-e643-4385-bb54-700c8c36f629"
      },
      "execution_count": null,
      "outputs": [
        {
          "output_type": "stream",
          "name": "stdout",
          "text": [
            "0.2\n"
          ]
        }
      ]
    },
    {
      "cell_type": "code",
      "source": [
        "0.2 +0.2"
      ],
      "metadata": {
        "colab": {
          "base_uri": "https://localhost:8080/"
        },
        "id": "27X08GU1R4kY",
        "outputId": "3d45fd11-ee61-4a7d-face-0edf66b920ea"
      },
      "execution_count": null,
      "outputs": [
        {
          "output_type": "execute_result",
          "data": {
            "text/plain": [
              "0.4"
            ]
          },
          "metadata": {},
          "execution_count": 24
        }
      ]
    },
    {
      "cell_type": "markdown",
      "source": [
        "- But be aware that you can sometimes get an arbitrary number of decimal\n",
        "places in your answer"
      ],
      "metadata": {
        "id": "tF9D5bqQR_AB"
      }
    },
    {
      "cell_type": "code",
      "source": [
        "0.2 + 0.1"
      ],
      "metadata": {
        "colab": {
          "base_uri": "https://localhost:8080/"
        },
        "id": "zpBd8XlyR4uM",
        "outputId": "a7eab930-7a5b-43f2-dabc-b03ebc8c1951"
      },
      "execution_count": null,
      "outputs": [
        {
          "output_type": "execute_result",
          "data": {
            "text/plain": [
              "0.30000000000000004"
            ]
          },
          "metadata": {},
          "execution_count": 25
        }
      ]
    },
    {
      "cell_type": "code",
      "source": [
        "3 * 0.1"
      ],
      "metadata": {
        "colab": {
          "base_uri": "https://localhost:8080/"
        },
        "id": "qyHEUSk5R41i",
        "outputId": "8d4fa550-eeb3-48b8-b38c-f422575735a6"
      },
      "execution_count": null,
      "outputs": [
        {
          "output_type": "execute_result",
          "data": {
            "text/plain": [
              "0.30000000000000004"
            ]
          },
          "metadata": {},
          "execution_count": 26
        }
      ]
    },
    {
      "cell_type": "markdown",
      "source": [
        "- This happens in all languages and is of little concern. Python tries to\n",
        "find a way to represent the result as precisely as possible, which is sometimes\n",
        "difficult given how computers have to represent numbers internally. \n",
        "- If you are getting numerical results that you don't expect, or that don't make sense, check if the version of Python you are using is treating integers differently than you expect."
      ],
      "metadata": {
        "id": "pdeJ99ixSDEQ"
      }
    },
    {
      "cell_type": "code",
      "source": [
        "print(4/2)"
      ],
      "metadata": {
        "colab": {
          "base_uri": "https://localhost:8080/"
        },
        "id": "F9RZRb2DSWE1",
        "outputId": "272ee01f-3c6d-4dc3-da2f-6ae31ca4d411"
      },
      "execution_count": null,
      "outputs": [
        {
          "output_type": "stream",
          "name": "stdout",
          "text": [
            "2.0\n"
          ]
        }
      ]
    },
    {
      "cell_type": "code",
      "source": [
        "print(3/2)"
      ],
      "metadata": {
        "colab": {
          "base_uri": "https://localhost:8080/"
        },
        "id": "FJCxrcPLSX_U",
        "outputId": "30d6ba4b-0c3a-4180-d37f-071d7f428299"
      },
      "execution_count": null,
      "outputs": [
        {
          "output_type": "stream",
          "name": "stdout",
          "text": [
            "1.5\n"
          ]
        }
      ]
    },
    {
      "cell_type": "markdown",
      "source": [
        "###Avoiding errors with the `str()` function\n",
        "\n",
        "- Often, you’ll want to use a variable’s value within a message. For example,\n",
        "say you want to wish someone a happy birthday.\n"
      ],
      "metadata": {
        "id": "Ua4ojOq6SMx_"
      }
    },
    {
      "cell_type": "code",
      "source": [
        "age = 23\n",
        "message = \"Happy \" + age + \"rd Birthday!\"\n",
        "print(message)"
      ],
      "metadata": {
        "colab": {
          "base_uri": "https://localhost:8080/",
          "height": 206
        },
        "id": "dh03jy2vTKA-",
        "outputId": "2455e40a-1d3b-4dcb-cc5a-4fdb8579a4af"
      },
      "execution_count": null,
      "outputs": [
        {
          "output_type": "error",
          "ename": "TypeError",
          "evalue": "ignored",
          "traceback": [
            "\u001b[0;31m---------------------------------------------------------------------------\u001b[0m",
            "\u001b[0;31mTypeError\u001b[0m                                 Traceback (most recent call last)",
            "\u001b[0;32m<ipython-input-29-80a141e301d6>\u001b[0m in \u001b[0;36m<module>\u001b[0;34m()\u001b[0m\n\u001b[1;32m      1\u001b[0m \u001b[0mage\u001b[0m \u001b[0;34m=\u001b[0m \u001b[0;36m23\u001b[0m\u001b[0;34m\u001b[0m\u001b[0;34m\u001b[0m\u001b[0m\n\u001b[0;32m----> 2\u001b[0;31m \u001b[0mmessage\u001b[0m \u001b[0;34m=\u001b[0m \u001b[0;34m\"Happy \"\u001b[0m \u001b[0;34m+\u001b[0m \u001b[0mage\u001b[0m \u001b[0;34m+\u001b[0m \u001b[0;34m\"rd Birthday!\"\u001b[0m\u001b[0;34m\u001b[0m\u001b[0;34m\u001b[0m\u001b[0m\n\u001b[0m\u001b[1;32m      3\u001b[0m \u001b[0mprint\u001b[0m\u001b[0;34m(\u001b[0m\u001b[0mmessage\u001b[0m\u001b[0;34m)\u001b[0m\u001b[0;34m\u001b[0m\u001b[0;34m\u001b[0m\u001b[0m\n",
            "\u001b[0;31mTypeError\u001b[0m: can only concatenate str (not \"int\") to str"
          ]
        }
      ]
    },
    {
      "cell_type": "markdown",
      "source": [
        "- This is a type error. It means Python can’t recognize the kind of information\n",
        "you’re using\n",
        "- In this example Python sees at u that you’re using a variable\n",
        "that has an integer value (int), but it’s not sure how to interpret that value\n",
        "- Python knows that the variable could represent either the numerical\n",
        "value 23 or the characters 2 and 3.\n",
        "- When you use integers within strings\n",
        "like this, you need to specify explicitly that you want Python to use the integer\n",
        "as a string of characters."
      ],
      "metadata": {
        "id": "C6E3BH-MTT6a"
      }
    },
    {
      "cell_type": "code",
      "source": [
        "age = 23\n",
        "message = \"Happy \" + str(age) + \"rd Birthday!\"\n",
        "print(message)"
      ],
      "metadata": {
        "colab": {
          "base_uri": "https://localhost:8080/"
        },
        "id": "sjQKYk-cTglO",
        "outputId": "58cfa82b-b2d5-40dd-cbba-2e23fa27aeb8"
      },
      "execution_count": null,
      "outputs": [
        {
          "output_type": "stream",
          "name": "stdout",
          "text": [
            "Happy 23rd Birthday!\n"
          ]
        }
      ]
    },
    {
      "cell_type": "code",
      "source": [
        "message"
      ],
      "metadata": {
        "colab": {
          "base_uri": "https://localhost:8080/",
          "height": 36
        },
        "id": "Lww7pKgkTjFj",
        "outputId": "39417c30-365a-41c3-f963-867553c66047"
      },
      "execution_count": null,
      "outputs": [
        {
          "output_type": "execute_result",
          "data": {
            "text/plain": [
              "'Happy 23rd Birthday!'"
            ],
            "application/vnd.google.colaboratory.intrinsic+json": {
              "type": "string"
            }
          },
          "metadata": {},
          "execution_count": 31
        }
      ]
    },
    {
      "cell_type": "markdown",
      "source": [
        "## DIY 5: Lucky Eight \n",
        "\n",
        "Write addition, subtraction, multiplication, and division\n",
        "operations that each result in the number 8. Be sure to enclose your operations\n",
        "in print statements to see the results. You should create four lines that look\n",
        "like this:"
      ],
      "metadata": {
        "id": "aFBPV-zBTrIz"
      }
    },
    {
      "cell_type": "code",
      "source": [
        "print(5 + 3)\n"
      ],
      "metadata": {
        "colab": {
          "base_uri": "https://localhost:8080/"
        },
        "id": "1jpxGTxjT1Ou",
        "outputId": "8ad74aec-accd-41d9-8c5f-0857d922a1f7"
      },
      "execution_count": null,
      "outputs": [
        {
          "output_type": "stream",
          "name": "stdout",
          "text": [
            "8\n"
          ]
        }
      ]
    },
    {
      "cell_type": "code",
      "source": [
        "# write your code here"
      ],
      "metadata": {
        "id": "v1TnHW43T2XG"
      },
      "execution_count": null,
      "outputs": []
    },
    {
      "cell_type": "code",
      "source": [
        "# write your code here"
      ],
      "metadata": {
        "id": "cqQ_gSFgT4H-"
      },
      "execution_count": null,
      "outputs": []
    },
    {
      "cell_type": "code",
      "source": [
        "# write your code here"
      ],
      "metadata": {
        "id": "yqTcvY1HT4q4"
      },
      "execution_count": null,
      "outputs": []
    },
    {
      "cell_type": "code",
      "source": [
        "# write your code here"
      ],
      "metadata": {
        "id": "KY2C6TqAT5Fo"
      },
      "execution_count": null,
      "outputs": []
    },
    {
      "cell_type": "markdown",
      "source": [
        "# Comments \n",
        "\n",
        "- Comments are an extremely useful feature in most programming languages.\n",
        "Everything you’ve written in your programs so far is Python code. As your\n",
        "programs become longer and more complicated, you should add notes within\n",
        "your programs that describe your overall approach to the problem you’re\n",
        "solving. \n",
        "- As you begin to write more complicated code, you will have to spend more time thinking about how to code solutions to the problems you want to solve. Once you come up with an idea, you will spend a fair amount of time troubleshooting your code, and revising your overall approach.\n",
        "- A comment allows you to write notes in English within your programs.\n",
        "- In Python, any line that starts with a pound (#) symbol is ignored by the Python interpreter."
      ],
      "metadata": {
        "id": "982fVhcFT_-H"
      }
    },
    {
      "cell_type": "code",
      "source": [
        "# This line is a comment.\n",
        "print(\"This line is not a comment, it is code.\")"
      ],
      "metadata": {
        "colab": {
          "base_uri": "https://localhost:8080/"
        },
        "id": "emq8_8GyT_Wg",
        "outputId": "4460094e-a8aa-4b52-9577-9d2ebbd4ef54"
      },
      "execution_count": null,
      "outputs": [
        {
          "output_type": "stream",
          "name": "stdout",
          "text": [
            "This line is not a comment, it is code.\n"
          ]
        }
      ]
    },
    {
      "cell_type": "markdown",
      "source": [
        "## What makes a good comment?\n",
        "\n",
        "- It is short and to the point, but a complete thought. Most comments should be written in complete sentences.\n",
        "- It explains your thinking, so that when you return to the code later you will understand how you were approaching the problem.\n",
        "- It explains your thinking, so that others who work with your code will understand your overall approach to a problem.\n",
        "- It explains particularly difficult sections of code in detail.\n",
        "\n",
        "## When should you write comments?\n",
        "\n",
        "- When you have to think about code before writing it.\n",
        "- When you are likely to forget later exactly how you were approaching a problem.\n",
        "- When there is more than one way to solve a problem.\n",
        "- When others are unlikely to anticipate your way of thinking about a problem.\n",
        "\n",
        "Writing good comments is one of the clear signs of a good programmer. If you have any real interest in taking programming seriously, start using comments now. You will see them throughout the examples in these notebooks."
      ],
      "metadata": {
        "id": "FAvfynunUY81"
      }
    },
    {
      "cell_type": "markdown",
      "source": [
        "# Appendix: Zen of Python"
      ],
      "metadata": {
        "id": "Bjtgi1S2U9Ok"
      }
    },
    {
      "cell_type": "code",
      "source": [
        "import this"
      ],
      "metadata": {
        "colab": {
          "base_uri": "https://localhost:8080/"
        },
        "id": "Gh4ymBj6UpeM",
        "outputId": "1a478844-550e-4de6-84fe-e7341467ce36"
      },
      "execution_count": null,
      "outputs": [
        {
          "output_type": "stream",
          "name": "stdout",
          "text": [
            "The Zen of Python, by Tim Peters\n",
            "\n",
            "Beautiful is better than ugly.\n",
            "Explicit is better than implicit.\n",
            "Simple is better than complex.\n",
            "Complex is better than complicated.\n",
            "Flat is better than nested.\n",
            "Sparse is better than dense.\n",
            "Readability counts.\n",
            "Special cases aren't special enough to break the rules.\n",
            "Although practicality beats purity.\n",
            "Errors should never pass silently.\n",
            "Unless explicitly silenced.\n",
            "In the face of ambiguity, refuse the temptation to guess.\n",
            "There should be one-- and preferably only one --obvious way to do it.\n",
            "Although that way may not be obvious at first unless you're Dutch.\n",
            "Now is better than never.\n",
            "Although never is often better than *right* now.\n",
            "If the implementation is hard to explain, it's a bad idea.\n",
            "If the implementation is easy to explain, it may be a good idea.\n",
            "Namespaces are one honking great idea -- let's do more of those!\n"
          ]
        }
      ]
    },
    {
      "cell_type": "markdown",
      "source": [
        "#Appendix: Variable Naming Conventions\n",
        "\n",
        "*Source: Python Crash Course*\n",
        "\n",
        "- Variable names can contain only letters, numbers, and underscores.\n",
        "They can start with a letter or an underscore, but not with a number.\n",
        "For instance, you can call a variable message_1 but not 1_message.\n",
        "- Spaces are not allowed in variable names, but underscores can be used\n",
        "to separate words in variable names. For example, greeting_message works,\n",
        "but greeting message will cause errors.\n",
        "- Avoid using Python keywords and function names as variable names;\n",
        "that is, do not use words that Python has reserved for a particular programmatic\n",
        "purpose, such as the word print. (See “Python Keywords\n",
        "and Built-in Functions” on page 489.)\n",
        "- Variable names should be short but descriptive. For example, name is\n",
        "better than n, student_name is better than s_n, and name_length is better\n",
        "than length_of_persons_name.\n",
        "- Be careful when using the lowercase letter l and the uppercase letter O because they could be confused with the numbers 1 and 0."
      ],
      "metadata": {
        "id": "IIMlLLuzg5Nl"
      }
    },
    {
      "cell_type": "markdown",
      "source": [
        ""
      ],
      "metadata": {
        "id": "jNfVnREGUXoT"
      }
    },
    {
      "cell_type": "code",
      "source": [
        ""
      ],
      "metadata": {
        "id": "6Ligs36VQ_KF"
      },
      "execution_count": null,
      "outputs": []
    }
  ]
}