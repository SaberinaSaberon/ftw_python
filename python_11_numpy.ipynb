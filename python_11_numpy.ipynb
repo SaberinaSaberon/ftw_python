{
  "cells": [
    {
      "cell_type": "markdown",
      "metadata": {
        "id": "view-in-github",
        "colab_type": "text"
      },
      "source": [
        "<a href=\"https://colab.research.google.com/github/angelaaaateng/ftw_python/blob/main/python_11_numpy.ipynb\" target=\"_parent\"><img src=\"https://colab.research.google.com/assets/colab-badge.svg\" alt=\"Open In Colab\"/></a>"
      ]
    },
    {
      "cell_type": "markdown",
      "metadata": {
        "id": "qQirYXx-Ujje"
      },
      "source": [
        "01 Numpy\n",
        "===\n",
        "NumPy is a Python package. It stands for 'Numerical Python'. It is a library consisting of multidimensional array objects and a collection of routines for processing of array. It is the foundational library where SciPy (Scientific Python) library is built.\n",
        "\n",
        "- NumPy (short for Numerical Python) provides an efficient interface to store and operate on dense data buffers. In some ways, NumPy arrays are like Python's built-in list type, but NumPy arrays provide much more efficient storage and data operations as the arrays grow larger in size. NumPy arrays form the core of nearly the entire ecosystem of data science tools in Python, so time spent learning to use NumPy effectively will be valuable no matter what aspect of data science interests you.\n",
        "\n"
      ]
    },
    {
      "cell_type": "markdown",
      "metadata": {
        "id": "nmV-iIFkUjjf"
      },
      "source": [
        "## Operations using NumPy\n",
        "Using NumPy, a developer can perform the following operations −\n",
        "\n",
        "* __Mathematical and logical operations on arrays.__\n",
        "\n",
        "* Fourier transforms and routines for shape manipulation.\n",
        "\n",
        "* Operations related to linear algebra. NumPy has in-built functions for linear algebra and random number generation."
      ]
    },
    {
      "cell_type": "markdown",
      "metadata": {
        "id": "ghE-zerBUjjg"
      },
      "source": [
        "---"
      ]
    },
    {
      "cell_type": "markdown",
      "metadata": {
        "id": "Qaacr4AbUjjg"
      },
      "source": [
        "Ndarray Object\n",
        "---\n",
        "The most important object defined in NumPy is an N-dimensional array type called ndarray. It describes the collection of items of the same type. Items in the collection can be accessed using a zero-based index."
      ]
    },
    {
      "cell_type": "code",
      "execution_count": 3,
      "metadata": {
        "id": "gRm4WEE4Ujjg",
        "outputId": "d3e28c46-89e6-4fb9-dc26-25e80b805f16",
        "colab": {
          "base_uri": "https://localhost:8080/"
        }
      },
      "outputs": [
        {
          "output_type": "stream",
          "name": "stdout",
          "text": [
            "[1 2 3]\n"
          ]
        }
      ],
      "source": [
        "import numpy as np \n",
        "a = np.array([1,2,3]) \n",
        "print(a)"
      ]
    },
    {
      "cell_type": "code",
      "execution_count": 4,
      "metadata": {
        "id": "yAMZUme0Ujji",
        "outputId": "f6c8a495-a619-4967-b952-25c5f762787f",
        "colab": {
          "base_uri": "https://localhost:8080/"
        }
      },
      "outputs": [
        {
          "output_type": "stream",
          "name": "stdout",
          "text": [
            "[[1 2]\n",
            " [3 4]]\n"
          ]
        }
      ],
      "source": [
        "# more than one dimensions \n",
        "import numpy as np \n",
        "a = np.array([[1, 2], [3, 4]]) \n",
        "print (a)"
      ]
    },
    {
      "cell_type": "markdown",
      "metadata": {
        "id": "f87d3jqNUjjj"
      },
      "source": [
        "## Python Lists vs. Numpy Arrays - What is the difference?\n",
        "\n",
        "Numpy is the core library for scientific computing in Python. **It provides a high-performance multidimensional array object, and tools for working with these arrays.** \n",
        "\n",
        "The Python core library provided Lists. A list is the Python equivalent of an array, but is resizeable and can contain elements of different types.\n",
        "\n",
        "A common beginner question is what is the real difference here. The answer is performance. Numpy data structures perform better in:\n",
        "\n",
        "* **Size** - Numpy data structures take up less space\n",
        "* **Performance** - they have a need for speed and are faster than lists\n",
        "* **Functionality** - SciPy and NumPy have optimized functions such as linear algebra operations built in."
      ]
    },
    {
      "cell_type": "markdown",
      "metadata": {
        "id": "__L9S67pUjjj"
      },
      "source": [
        "---"
      ]
    },
    {
      "cell_type": "markdown",
      "metadata": {
        "id": "Bvqx8AWkUjjj"
      },
      "source": [
        "## By default Python have these data types:\n",
        "\n",
        "- strings - used to represent text data, the text is given under quote marks. eg. \"ABCD\"\n",
        "- integer - used to represent integer numbers. eg. -1, -2, -3\n",
        "- float - used to represent real numbers. eg. 1.2, 42.42\n",
        "- boolean - used to represent True or False.\n",
        "- complex - used to represent a number in complex plain. eg. 1.0 + 2.0j, 1.5 + 2.5j"
      ]
    },
    {
      "cell_type": "markdown",
      "metadata": {
        "id": "dL5etTrcUjjk"
      },
      "source": [
        "Data Types\n",
        "---\n",
        "NumPy has some extra data types, and refer to data types with one character, like i for integers, u for unsigned integers etc.\n",
        "\n",
        "Below is a list of all data types in NumPy and the characters used to represent them.\n",
        "\n",
        "- i - integer\n",
        "- b - boolean\n",
        "- u - unsigned integer\n",
        "- f - float\n",
        "- c - complex float\n",
        "- m - timedelta\n",
        "- M - datetime\n",
        "- O - object\n",
        "- S - string\n",
        "- U - unicode string\n",
        "- V - fixed chunk of memory for other type ( void )"
      ]
    },
    {
      "cell_type": "code",
      "execution_count": 5,
      "metadata": {
        "id": "VbJyNmVQUjjk",
        "outputId": "2bdf081d-03fc-4e9c-b83f-26515d71ac96",
        "colab": {
          "base_uri": "https://localhost:8080/"
        }
      },
      "outputs": [
        {
          "output_type": "stream",
          "name": "stdout",
          "text": [
            "int64\n"
          ]
        }
      ],
      "source": [
        "#The NumPy array object has a property called dtype that returns the data type of the array:\n",
        "import numpy as np\n",
        "\n",
        "arr = np.array([1, 2, 3, 4])\n",
        "\n",
        "print(arr.dtype)"
      ]
    },
    {
      "cell_type": "code",
      "execution_count": 6,
      "metadata": {
        "id": "IFZwNA3kUjjl",
        "outputId": "bffe2e84-aae9-47c6-834b-b2b7aef770a1",
        "colab": {
          "base_uri": "https://localhost:8080/"
        }
      },
      "outputs": [
        {
          "output_type": "stream",
          "name": "stdout",
          "text": [
            "[b'1' b'2' b'3' b'4']\n",
            "|S1\n"
          ]
        }
      ],
      "source": [
        "# We use the array() function to create arrays, this function can take an optional argument: dtype that allows us to define the expected data type of the array\n",
        "import numpy as np\n",
        "\n",
        "arr = np.array([1, 2, 3, 4], dtype='S')\n",
        "\n",
        "print(arr)\n",
        "print(arr.dtype)"
      ]
    },
    {
      "cell_type": "code",
      "execution_count": 7,
      "metadata": {
        "id": "cMubvrhKUjjl",
        "outputId": "fb04f392-a5f4-4a02-d979-8e84fe117458",
        "colab": {
          "base_uri": "https://localhost:8080/"
        }
      },
      "outputs": [
        {
          "output_type": "stream",
          "name": "stdout",
          "text": [
            "[1.1 2.1 3.1]\n",
            "float64\n",
            "[1 2 3]\n",
            "int32\n"
          ]
        }
      ],
      "source": [
        "# Converting Data Type on Existing Arrays\n",
        "\n",
        "import numpy as np\n",
        "\n",
        "arr = np.array([1.1, 2.1, 3.1])\n",
        "print(arr)\n",
        "print(arr.dtype)\n",
        "\n",
        "newarr = arr.astype('i')\n",
        "\n",
        "print(newarr)\n",
        "print(newarr.dtype)"
      ]
    },
    {
      "cell_type": "markdown",
      "metadata": {
        "id": "Hw1yIZbKUjjl"
      },
      "source": [
        "Array Attributes\n",
        "---\n",
        "Various array attributes of Numpy array"
      ]
    },
    {
      "cell_type": "code",
      "execution_count": 8,
      "metadata": {
        "id": "8ACsumYvUjjm",
        "outputId": "bece6a1c-0f7d-4b1c-d740-f732a0083bc1",
        "colab": {
          "base_uri": "https://localhost:8080/"
        }
      },
      "outputs": [
        {
          "output_type": "stream",
          "name": "stdout",
          "text": [
            "[[1 2 3]\n",
            " [4 5 6]]\n",
            "(2, 3)\n"
          ]
        }
      ],
      "source": [
        "import numpy as np \n",
        "a = np.array([[1,2,3],[4,5,6]]) \n",
        "print(a)\n",
        "print(a.shape)"
      ]
    },
    {
      "cell_type": "code",
      "execution_count": 10,
      "metadata": {
        "id": "IZmAiesnUjjm",
        "outputId": "066cf2cc-3ec5-48a5-a4ce-84c8c0da5964",
        "colab": {
          "base_uri": "https://localhost:8080/"
        }
      },
      "outputs": [
        {
          "output_type": "stream",
          "name": "stdout",
          "text": [
            "[[1 2 3]\n",
            " [4 5 6]]\n",
            "[[1 2]\n",
            " [3 4]\n",
            " [5 6]]\n"
          ]
        }
      ],
      "source": [
        "# this resizes the ndarray \n",
        "import numpy as np \n",
        "\n",
        "a = np.array([[1,2,3],[4,5,6]]) \n",
        "print(a)\n",
        "a.shape = (3,2) \n",
        "print(a) "
      ]
    },
    {
      "cell_type": "code",
      "execution_count": 11,
      "metadata": {
        "id": "-rznOat2Ujjm",
        "outputId": "fe4734d6-f857-4f7b-8fed-e3208600b322",
        "colab": {
          "base_uri": "https://localhost:8080/"
        }
      },
      "outputs": [
        {
          "output_type": "stream",
          "name": "stdout",
          "text": [
            "[[1 2]\n",
            " [3 4]\n",
            " [5 6]]\n"
          ]
        }
      ],
      "source": [
        "#NumPy also provides a reshape function to resize an array.\n",
        "\n",
        "import numpy as np \n",
        "a = np.array([[1,2,3],[4,5,6]]) \n",
        "b = a.reshape(3,2) \n",
        "print(b)"
      ]
    },
    {
      "cell_type": "code",
      "execution_count": 12,
      "metadata": {
        "id": "HpdbsMEKUjjn",
        "outputId": "0afcfa9b-202d-4e48-9d7d-a3453c7a3341",
        "colab": {
          "base_uri": "https://localhost:8080/"
        }
      },
      "outputs": [
        {
          "output_type": "stream",
          "name": "stdout",
          "text": [
            "[ 0  1  2  3  4  5  6  7  8  9 10 11 12 13 14 15 16 17 18 19 20 21 22 23]\n"
          ]
        }
      ],
      "source": [
        "#ndarray.ndim This array attribute returns the number of array dimensions.\n",
        "\n",
        "# let's first create our sample array of evenly spaced numbers \n",
        "import numpy as np \n",
        "a = np.arange(24) # what does this function do?\n",
        "print(a)"
      ]
    },
    {
      "cell_type": "code",
      "execution_count": 13,
      "metadata": {
        "id": "Pm2NOEKOUjjn",
        "outputId": "374fab23-8c8a-4769-be52-73c5572e8d7e",
        "colab": {
          "base_uri": "https://localhost:8080/"
        }
      },
      "outputs": [
        {
          "output_type": "execute_result",
          "data": {
            "text/plain": [
              "1"
            ]
          },
          "metadata": {},
          "execution_count": 13
        }
      ],
      "source": [
        "# this is one dimensional array \n",
        "import numpy as np \n",
        "a = np.arange(24) \n",
        "a.ndim"
      ]
    },
    {
      "cell_type": "code",
      "source": [
        "a"
      ],
      "metadata": {
        "colab": {
          "base_uri": "https://localhost:8080/"
        },
        "id": "Ghj5dYp_Xk8M",
        "outputId": "51c8abd7-ff1e-4503-dd78-96f5eb69d851"
      },
      "execution_count": 16,
      "outputs": [
        {
          "output_type": "execute_result",
          "data": {
            "text/plain": [
              "array([ 0,  1,  2,  3,  4,  5,  6,  7,  8,  9, 10, 11, 12, 13, 14, 15, 16,\n",
              "       17, 18, 19, 20, 21, 22, 23])"
            ]
          },
          "metadata": {},
          "execution_count": 16
        }
      ]
    },
    {
      "cell_type": "code",
      "execution_count": 14,
      "metadata": {
        "id": "s4WtRcCjUjjn",
        "outputId": "5df42ae7-cbed-4085-f163-a3278213ce07",
        "colab": {
          "base_uri": "https://localhost:8080/"
        }
      },
      "outputs": [
        {
          "output_type": "stream",
          "name": "stdout",
          "text": [
            "[[[ 0  1  2]\n",
            "  [ 3  4  5]\n",
            "  [ 6  7  8]\n",
            "  [ 9 10 11]]\n",
            "\n",
            " [[12 13 14]\n",
            "  [15 16 17]\n",
            "  [18 19 20]\n",
            "  [21 22 23]]]\n",
            "we now have  3  dimenions!\n"
          ]
        }
      ],
      "source": [
        "# now reshape it \n",
        "b = a.reshape(2,4,3) \n",
        "print(b) \n",
        "# b is having three dimensions\n",
        "print(\"we now have \",b.ndim,\" dimenions!\")"
      ]
    },
    {
      "cell_type": "code",
      "source": [
        "?np.reshape()"
      ],
      "metadata": {
        "id": "hYF4a_BDXP35"
      },
      "execution_count": 15,
      "outputs": []
    },
    {
      "cell_type": "markdown",
      "metadata": {
        "id": "qNxjlqUEUjjn"
      },
      "source": [
        "Array Creation Routines\n",
        "---\n",
        "A new ndarray object can be constructed by any of the following array creation routines"
      ]
    },
    {
      "cell_type": "code",
      "execution_count": 17,
      "metadata": {
        "id": "WxA7zh3AUjjo",
        "outputId": "f595459f-b6c2-40ae-a7ac-ba7ef4c892fe",
        "colab": {
          "base_uri": "https://localhost:8080/"
        }
      },
      "outputs": [
        {
          "output_type": "stream",
          "name": "stdout",
          "text": [
            "[[1 2]\n",
            " [3 4]\n",
            " [5 6]]\n"
          ]
        }
      ],
      "source": [
        "#numpy.empty\n",
        "#It creates an uninitialized array of specified shape and dtype. It uses the following constructor −\n",
        "\n",
        "import numpy as np \n",
        "x = np.empty([3,2], dtype = int) \n",
        "print (x)\n",
        "\n",
        "#Note − The elements in an array show random values as they are not initialized."
      ]
    },
    {
      "cell_type": "code",
      "execution_count": 18,
      "metadata": {
        "id": "e4QUlVC8Ujjo",
        "outputId": "bbd52c26-e993-4d4d-b787-75d25c72cd4c",
        "colab": {
          "base_uri": "https://localhost:8080/"
        }
      },
      "outputs": [
        {
          "output_type": "stream",
          "name": "stdout",
          "text": [
            "[0. 0. 0. 0. 0.]\n"
          ]
        }
      ],
      "source": [
        "#numpy.zeros\n",
        "#Returns a new array of specified size, filled with zeros.\n",
        "\n",
        "# array of five zeros. Default dtype is float \n",
        "import numpy as np \n",
        "x = np.zeros(5) \n",
        "print(x)"
      ]
    },
    {
      "cell_type": "code",
      "execution_count": 19,
      "metadata": {
        "id": "oFch6hIQUjjo",
        "outputId": "0239c8eb-9c8d-48bd-99ac-04be936db32d",
        "colab": {
          "base_uri": "https://localhost:8080/"
        }
      },
      "outputs": [
        {
          "output_type": "stream",
          "name": "stdout",
          "text": [
            "[[0. 0.]\n",
            " [0. 0.]]\n"
          ]
        }
      ],
      "source": [
        "import numpy as np \n",
        "x = np.zeros((2,2))  \n",
        "print(x)"
      ]
    },
    {
      "cell_type": "code",
      "execution_count": 20,
      "metadata": {
        "id": "iop_0e6tUjjo",
        "outputId": "c3b7acf0-6885-469e-8688-caf9d3762c52",
        "colab": {
          "base_uri": "https://localhost:8080/"
        }
      },
      "outputs": [
        {
          "output_type": "stream",
          "name": "stdout",
          "text": [
            "[[1 1]\n",
            " [1 1]]\n"
          ]
        }
      ],
      "source": [
        "#numpy.ones\n",
        "#Returns a new array of specified size and type, filled with ones.\n",
        "\n",
        "import numpy as np \n",
        "x = np.ones([2,2], dtype = int) \n",
        "print(x)"
      ]
    },
    {
      "cell_type": "code",
      "execution_count": 21,
      "metadata": {
        "id": "f77B4Vp2Ujjp",
        "outputId": "279df155-151c-46e9-d073-e6ac75367a53",
        "colab": {
          "base_uri": "https://localhost:8080/"
        }
      },
      "outputs": [
        {
          "output_type": "stream",
          "name": "stdout",
          "text": [
            "[1 2 3]\n"
          ]
        }
      ],
      "source": [
        "#numpy.asarray\n",
        "#This function is similar to numpy.array except for the fact that it has fewer parameters. This routine is useful for converting Python sequence into ndarray.\n",
        "\n",
        "# convert list to ndarray \n",
        "import numpy as np \n",
        "\n",
        "x = [1,2,3] \n",
        "a = np.asarray(x) \n",
        "print(a)"
      ]
    },
    {
      "cell_type": "code",
      "execution_count": 22,
      "metadata": {
        "id": "-oFL5mZ8Ujjp",
        "outputId": "97f953fd-7215-497a-eb20-fc3fdc3587be",
        "colab": {
          "base_uri": "https://localhost:8080/"
        }
      },
      "outputs": [
        {
          "output_type": "stream",
          "name": "stdout",
          "text": [
            "[1. 2. 3.]\n"
          ]
        }
      ],
      "source": [
        "# dtype is set \n",
        "import numpy as np \n",
        "\n",
        "x = [1,2,3]\n",
        "a = np.asarray(x, dtype = float) \n",
        "print(a)"
      ]
    },
    {
      "cell_type": "code",
      "execution_count": 23,
      "metadata": {
        "id": "OAohaYhcUjjp",
        "outputId": "1b57b11d-76db-454d-89c0-8e12a0eb8075",
        "colab": {
          "base_uri": "https://localhost:8080/"
        }
      },
      "outputs": [
        {
          "output_type": "stream",
          "name": "stdout",
          "text": [
            "[0 1 2 3 4]\n"
          ]
        }
      ],
      "source": [
        "#numpy.arange\n",
        "#This function returns an ndarray object containing evenly spaced values within a given range. The format of the function is as follows −\n",
        "\n",
        "import numpy as np \n",
        "x = np.arange(5) \n",
        "print(x)"
      ]
    },
    {
      "cell_type": "code",
      "execution_count": 24,
      "metadata": {
        "id": "k_C7kaYIUjjp",
        "outputId": "19ddc880-5ca3-4b00-aa89-76edb07fd244",
        "colab": {
          "base_uri": "https://localhost:8080/"
        }
      },
      "outputs": [
        {
          "output_type": "stream",
          "name": "stdout",
          "text": [
            "[0. 1. 2. 3. 4.]\n"
          ]
        }
      ],
      "source": [
        "import numpy as np \n",
        "# dtype set \n",
        "x = np.arange(5, dtype = float)\n",
        "print(x)"
      ]
    },
    {
      "cell_type": "code",
      "execution_count": 25,
      "metadata": {
        "id": "bcShInr7Ujjp",
        "outputId": "13a87dbe-a130-4b4f-c78f-b955c26ec7db",
        "colab": {
          "base_uri": "https://localhost:8080/"
        }
      },
      "outputs": [
        {
          "output_type": "stream",
          "name": "stdout",
          "text": [
            "[10 12 14 16 18]\n"
          ]
        }
      ],
      "source": [
        "# start and stop parameters set \n",
        "import numpy as np \n",
        "x = np.arange(10,20,2) \n",
        "print(x)"
      ]
    },
    {
      "cell_type": "markdown",
      "metadata": {
        "id": "mMbGh5S0Ujjq"
      },
      "source": [
        "Indexing & Slicing\n",
        "---\n",
        "Contents of ndarray object can be accessed and modified by indexing or slicing, just like Python's in-built container objects ie. list"
      ]
    },
    {
      "cell_type": "code",
      "execution_count": 26,
      "metadata": {
        "id": "CTkMxWonUjjq",
        "outputId": "d3d5c089-279a-46a5-81ff-061969dc0947",
        "colab": {
          "base_uri": "https://localhost:8080/"
        }
      },
      "outputs": [
        {
          "output_type": "stream",
          "name": "stdout",
          "text": [
            "[0 1 2 3 4 5 6 7 8 9]\n",
            "[2 4 6]\n",
            "[2 4 6]\n"
          ]
        }
      ],
      "source": [
        "import numpy as np \n",
        "a = np.arange(10) \n",
        "print(a)\n",
        "\n",
        "s = slice(2,7,2) \n",
        "print(a[s])\n",
        "\n",
        "b = a[2:7:2] \n",
        "print(b)"
      ]
    },
    {
      "cell_type": "code",
      "execution_count": 27,
      "metadata": {
        "id": "kVRtncXnUjjq",
        "outputId": "4a6a4495-303c-4fb3-eb68-28e1ddc16e6f",
        "colab": {
          "base_uri": "https://localhost:8080/"
        }
      },
      "outputs": [
        {
          "output_type": "stream",
          "name": "stdout",
          "text": [
            "5\n"
          ]
        }
      ],
      "source": [
        "# slice single item \n",
        "import numpy as np \n",
        "\n",
        "a = np.arange(10) \n",
        "b = a[5] \n",
        "print(b)"
      ]
    },
    {
      "cell_type": "code",
      "execution_count": 28,
      "metadata": {
        "id": "4Da47VTbUjjq",
        "outputId": "404ee0e3-f93c-46be-8d2d-110df008b40f",
        "colab": {
          "base_uri": "https://localhost:8080/"
        }
      },
      "outputs": [
        {
          "output_type": "stream",
          "name": "stdout",
          "text": [
            "[2 3 4 5 6 7 8 9]\n"
          ]
        }
      ],
      "source": [
        "# slice items starting from index \n",
        "import numpy as np \n",
        "a = np.arange(10) \n",
        "print(a[2:])"
      ]
    },
    {
      "cell_type": "code",
      "execution_count": 29,
      "metadata": {
        "id": "_zi24b-mUjjq",
        "outputId": "81655729-1f5c-4dfd-a702-7eb060cc3c4a",
        "colab": {
          "base_uri": "https://localhost:8080/"
        }
      },
      "outputs": [
        {
          "output_type": "stream",
          "name": "stdout",
          "text": [
            "[2 3 4]\n"
          ]
        }
      ],
      "source": [
        "# slice items between indexes \n",
        "import numpy as np \n",
        "a = np.arange(10) \n",
        "print(a[2:5])"
      ]
    },
    {
      "cell_type": "code",
      "execution_count": 30,
      "metadata": {
        "id": "OI63o6XeUjjq",
        "outputId": "864d92bf-07c4-4d78-8eda-cde81e80f827",
        "colab": {
          "base_uri": "https://localhost:8080/"
        }
      },
      "outputs": [
        {
          "output_type": "stream",
          "name": "stdout",
          "text": [
            "[[1 2 3]\n",
            " [3 4 5]\n",
            " [4 5 6]]\n",
            "Now we will slice the array from the index a[1:]\n",
            "[[3 4 5]\n",
            " [4 5 6]]\n"
          ]
        }
      ],
      "source": [
        "import numpy as np \n",
        "a = np.array([[1,2,3],[3,4,5],[4,5,6]]) \n",
        "print(a)\n",
        "\n",
        "# slice items starting from index\n",
        "print('Now we will slice the array from the index a[1:]')\n",
        "print(a[1:])"
      ]
    },
    {
      "cell_type": "code",
      "execution_count": 31,
      "metadata": {
        "id": "eu_S_hRdUjjr",
        "outputId": "05c572a8-ebbb-4fb5-daf4-ed35e82ba60b",
        "colab": {
          "base_uri": "https://localhost:8080/"
        }
      },
      "outputs": [
        {
          "output_type": "stream",
          "name": "stdout",
          "text": [
            "Our array is:\n",
            "[[1 2 3]\n",
            " [3 4 5]\n",
            " [4 5 6]]\n",
            "\n",
            "\n",
            "The items in the second column are:\n",
            "[2 4 5]\n",
            "\n",
            "\n",
            "The items in the second row are:\n",
            "[3 4 5]\n",
            "\n",
            "\n",
            "The items column 1 onwards are:\n",
            "[[2 3]\n",
            " [4 5]\n",
            " [5 6]]\n"
          ]
        }
      ],
      "source": [
        "# Slicing can also include ellipsis (…) to make a selection tuple of the same length as the dimension of an array. If ellipsis is used at the row position, it will return an ndarray comprising of items in rows.\n",
        "# array to begin with \n",
        "import numpy as np \n",
        "a = np.array([[1,2,3],[3,4,5],[4,5,6]]) \n",
        "\n",
        "print('Our array is:') \n",
        "print(a) \n",
        "print('\\n')  \n",
        "\n",
        "# this returns array of items in the second column \n",
        "print('The items in the second column are:')  \n",
        "print(a[...,1]) \n",
        "print('\\n')  \n",
        "\n",
        "# Now we will slice all items from the second row \n",
        "print('The items in the second row are:') \n",
        "print(a[1,...]) \n",
        "print('\\n')  \n",
        "\n",
        "# Now we will slice all items from column 1 onwards \n",
        "print('The items column 1 onwards are:') \n",
        "print(a[...,1:])"
      ]
    },
    {
      "cell_type": "markdown",
      "metadata": {
        "id": "X71HXR8eUjjr"
      },
      "source": [
        "Iterating Over Array\n",
        "---\n",
        "NumPy package contains an iterator object numpy.nditer. It is an efficient multidimensional iterator object using which it is possible to iterate over an array. Each element of an array is visited using Python’s standard Iterator interface."
      ]
    },
    {
      "cell_type": "code",
      "execution_count": 32,
      "metadata": {
        "id": "QNU_vSeCUjjr",
        "outputId": "b0183652-d2f6-4283-8eb9-0661032fcb4a",
        "colab": {
          "base_uri": "https://localhost:8080/"
        }
      },
      "outputs": [
        {
          "output_type": "stream",
          "name": "stdout",
          "text": [
            "Original array is:\n",
            "[[ 0  5 10 15]\n",
            " [20 25 30 35]\n",
            " [40 45 50 55]]\n",
            "\n",
            "\n",
            "Modified array is:\n",
            "0\n",
            "5\n",
            "10\n",
            "15\n",
            "20\n",
            "25\n",
            "30\n",
            "35\n",
            "40\n",
            "45\n",
            "50\n",
            "55\n",
            "\n",
            "0\n",
            "5\n",
            "10\n",
            "15\n",
            "20\n",
            "25\n",
            "30\n",
            "35\n",
            "40\n",
            "45\n",
            "50\n",
            "55\n"
          ]
        }
      ],
      "source": [
        "import numpy as np\n",
        "a = np.arange(0,60,5)\n",
        "a = a.reshape(3,4)\n",
        "\n",
        "print('Original array is:')\n",
        "print(a)\n",
        "print('\\n')\n",
        "\n",
        "print('Modified array is:')\n",
        "for x in np.nditer(a):\n",
        "    print(x)\n",
        "\n",
        "#using normal python iteration\n",
        "print(\"\")\n",
        "for x in a:\n",
        "    for y in x:\n",
        "        print(y)"
      ]
    },
    {
      "cell_type": "markdown",
      "metadata": {
        "id": "HslPsNleUjjr"
      },
      "source": [
        "## Other Array manipulations"
      ]
    },
    {
      "cell_type": "code",
      "execution_count": 33,
      "metadata": {
        "id": "y7wfEeakUjjr",
        "outputId": "34fb8f49-9b79-4c68-de2c-30b9def51767",
        "colab": {
          "base_uri": "https://localhost:8080/"
        }
      },
      "outputs": [
        {
          "output_type": "stream",
          "name": "stdout",
          "text": [
            "original:\n",
            " [[ 0  5 10 15]\n",
            " [20 25 30 35]\n",
            " [40 45 50 55]]\n",
            "\n",
            "transposed:\n",
            " [[ 0 20 40]\n",
            " [ 5 25 45]\n",
            " [10 30 50]\n",
            " [15 35 55]]\n"
          ]
        }
      ],
      "source": [
        "#transpose\n",
        "\n",
        "import numpy as np\n",
        "a = np.arange(0,60,5)\n",
        "a = a.reshape(3,4)\n",
        "print(\"original:\\n\",a)\n",
        "print()\n",
        "print(\"transposed:\\n\",a.T)"
      ]
    },
    {
      "cell_type": "code",
      "execution_count": 34,
      "metadata": {
        "id": "jk1atXU7Ujjs",
        "outputId": "5037b787-4699-4098-89c1-e5ca1f4cb90d",
        "colab": {
          "base_uri": "https://localhost:8080/"
        }
      },
      "outputs": [
        {
          "output_type": "stream",
          "name": "stdout",
          "text": [
            "[0 5]\n",
            "[10 15]\n",
            "[ 0  5 10 15]\n"
          ]
        }
      ],
      "source": [
        "#concatenate\n",
        "import numpy as np\n",
        "a = np.arange(0,10,5)\n",
        "b = np.arange(10,20,5)\n",
        "\n",
        "print(a)\n",
        "print(b)\n",
        "\n",
        "print(np.concatenate([a,b]))"
      ]
    },
    {
      "cell_type": "code",
      "execution_count": 35,
      "metadata": {
        "id": "_TglbZqOUjjs",
        "outputId": "5a143141-dcd9-495c-a5ad-9926597751c5",
        "colab": {
          "base_uri": "https://localhost:8080/"
        }
      },
      "outputs": [
        {
          "output_type": "stream",
          "name": "stdout",
          "text": [
            "First array:\n",
            "[5 2 6 2 7 5 6 8 2 9]\n",
            "\n",
            "\n",
            "Unique values of first array:\n",
            "[2 5 6 7 8 9]\n",
            "\n",
            "\n"
          ]
        }
      ],
      "source": [
        "#unique\n",
        "import numpy as np \n",
        "a = np.array([5,2,6,2,7,5,6,8,2,9]) \n",
        "\n",
        "print('First array:') \n",
        "print(a) \n",
        "print('\\n')  \n",
        "\n",
        "print('Unique values of first array:') \n",
        "u = np.unique(a) \n",
        "print(u) \n",
        "print('\\n')  \n"
      ]
    },
    {
      "cell_type": "markdown",
      "metadata": {
        "id": "bQcmd6N5Ujjs"
      },
      "source": [
        "# Numpy Operations: Examples"
      ]
    },
    {
      "cell_type": "code",
      "execution_count": 36,
      "metadata": {
        "id": "Ak-OobM0Ujjs",
        "outputId": "daea8a00-1b14-46a4-8049-3f1753863ae7",
        "colab": {
          "base_uri": "https://localhost:8080/"
        }
      },
      "outputs": [
        {
          "output_type": "stream",
          "name": "stdout",
          "text": [
            "Concatenate two strings:\n",
            "['hello xyz']\n",
            "\n",
            "\n",
            "Concatenation example:\n",
            "['hello abc' 'hi xyz']\n"
          ]
        }
      ],
      "source": [
        "# string concatenation.\n",
        "\n",
        "import numpy as np \n",
        "print('Concatenate two strings:')\n",
        "print(np.char.add(['hello'],[' xyz']))\n",
        "print('\\n')\n",
        "\n",
        "print('Concatenation example:')\n",
        "print(np.char.add(['hello', 'hi'],[' abc', ' xyz']))"
      ]
    },
    {
      "cell_type": "code",
      "execution_count": 37,
      "metadata": {
        "id": "_1n546LDUjjs",
        "outputId": "38cd9feb-32ce-4241-ed2d-415da45ad6fe",
        "colab": {
          "base_uri": "https://localhost:8080/"
        }
      },
      "outputs": [
        {
          "output_type": "stream",
          "name": "stdout",
          "text": [
            "Original array:\n",
            "[  1.      5.55  123.      0.567  25.532]\n",
            "\n",
            "\n",
            "After rounding:\n",
            "[  1.   6. 123.   1.  26.]\n",
            "[  1.    5.6 123.    0.6  25.5]\n",
            "[  0.  10. 120.   0.  30.]\n"
          ]
        }
      ],
      "source": [
        "# mathematical functions\n",
        "import numpy as np \n",
        "a = np.array([1.0,5.55, 123, 0.567, 25.532]) \n",
        "\n",
        "print('Original array:') \n",
        "print(a) \n",
        "print('\\n')  \n",
        "\n",
        "print('After rounding:') \n",
        "print(np.around(a))\n",
        "print(np.around(a, decimals = 1))\n",
        "print(np.around(a, decimals = -1))"
      ]
    },
    {
      "cell_type": "code",
      "execution_count": 38,
      "metadata": {
        "id": "ZNjedR1yUjjs",
        "outputId": "1a929572-f528-4dad-dfbc-67f1200562cd",
        "colab": {
          "base_uri": "https://localhost:8080/"
        }
      },
      "outputs": [
        {
          "output_type": "stream",
          "name": "stdout",
          "text": [
            "First array:\n",
            "[[0. 1. 2.]\n",
            " [3. 4. 5.]\n",
            " [6. 7. 8.]]\n",
            "\n",
            "\n",
            "Second array:\n",
            "[10 10 10]\n",
            "\n",
            "\n",
            "Add the two arrays:\n",
            "[[10. 11. 12.]\n",
            " [13. 14. 15.]\n",
            " [16. 17. 18.]]\n",
            "\n",
            "\n",
            "Subtract the two arrays:\n",
            "[[-10.  -9.  -8.]\n",
            " [ -7.  -6.  -5.]\n",
            " [ -4.  -3.  -2.]]\n",
            "\n",
            "\n",
            "Multiply the two arrays:\n",
            "[[ 0. 10. 20.]\n",
            " [30. 40. 50.]\n",
            " [60. 70. 80.]]\n",
            "\n",
            "\n",
            "Divide the two arrays:\n",
            "[[0.  0.1 0.2]\n",
            " [0.3 0.4 0.5]\n",
            " [0.6 0.7 0.8]]\n"
          ]
        }
      ],
      "source": [
        "# arithmetic operations\n",
        "\n",
        "import numpy as np \n",
        "a = np.arange(9, dtype = np.float_).reshape(3,3) \n",
        "\n",
        "print('First array:') \n",
        "print(a) \n",
        "print('\\n')  \n",
        "\n",
        "print('Second array:') \n",
        "b = np.array([10,10,10]) \n",
        "print(b)\n",
        "print('\\n')  \n",
        "\n",
        "print('Add the two arrays:') \n",
        "print(np.add(a,b) )\n",
        "print('\\n')  \n",
        "\n",
        "print('Subtract the two arrays:') \n",
        "print(np.subtract(a,b) )\n",
        "print('\\n')  \n",
        "\n",
        "print('Multiply the two arrays:') \n",
        "print(np.multiply(a,b)) \n",
        "print('\\n')  \n",
        "\n",
        "print('Divide the two arrays:') \n",
        "print(np.divide(a,b))"
      ]
    },
    {
      "cell_type": "code",
      "execution_count": 39,
      "metadata": {
        "id": "up5CL7QkUjjt",
        "outputId": "3b9eb03a-cf1c-4557-dee1-2bca2438bc18",
        "colab": {
          "base_uri": "https://localhost:8080/"
        }
      },
      "outputs": [
        {
          "output_type": "stream",
          "name": "stdout",
          "text": [
            "Our array is:\n",
            "[[1 2 3]\n",
            " [3 4 5]\n",
            " [4 5 6]]\n",
            "\n",
            "\n",
            "Applying mean() function:\n",
            "3.6666666666666665\n",
            "\n",
            "\n",
            "Applying mean() function along axis 0:\n",
            "[2.66666667 3.66666667 4.66666667]\n",
            "\n",
            "\n",
            "Applying mean() function along axis 1:\n",
            "[2. 4. 5.]\n"
          ]
        }
      ],
      "source": [
        "#statistical operations\n",
        "\n",
        "import numpy as np \n",
        "a = np.array([[1,2,3],[3,4,5],[4,5,6]]) \n",
        "\n",
        "print('Our array is:')\n",
        "print(a) \n",
        "print('\\n')  \n",
        "\n",
        "print('Applying mean() function:') \n",
        "print(np.mean(a)) \n",
        "print('\\n')  \n",
        "\n",
        "print('Applying mean() function along axis 0:') \n",
        "print(np.mean(a, axis = 0)) \n",
        "print('\\n')  \n",
        "\n",
        "print('Applying mean() function along axis 1:')\n",
        "print(np.mean(a, axis = 1))"
      ]
    },
    {
      "cell_type": "markdown",
      "metadata": {
        "id": "6Zh0bReQUjjt"
      },
      "source": [
        "- - -\n",
        "For more tutorials, check out NumPy's <a href='https://numpy.org/learn/'>documentation</a>"
      ]
    },
    {
      "cell_type": "code",
      "execution_count": 39,
      "metadata": {
        "id": "OM7QLu47Ujjt"
      },
      "outputs": [],
      "source": [
        ""
      ]
    }
  ],
  "metadata": {
    "kernelspec": {
      "display_name": "Python 3",
      "language": "python",
      "name": "python3"
    },
    "language_info": {
      "codemirror_mode": {
        "name": "ipython",
        "version": 3
      },
      "file_extension": ".py",
      "mimetype": "text/x-python",
      "name": "python",
      "nbconvert_exporter": "python",
      "pygments_lexer": "ipython3",
      "version": "3.8.3"
    },
    "colab": {
      "name": "python_11_numpy.ipynb",
      "provenance": [],
      "collapsed_sections": [
        "qNxjlqUEUjjn",
        "mMbGh5S0Ujjq",
        "X71HXR8eUjjr",
        "HslPsNleUjjr"
      ],
      "include_colab_link": true
    }
  },
  "nbformat": 4,
  "nbformat_minor": 0
}