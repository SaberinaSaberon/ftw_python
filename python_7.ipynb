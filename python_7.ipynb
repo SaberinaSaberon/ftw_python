{
  "cells": [
    {
      "cell_type": "markdown",
      "metadata": {
        "id": "view-in-github",
        "colab_type": "text"
      },
      "source": [
        "<a href=\"https://colab.research.google.com/github/angelaaaateng/ftw_python/blob/main/python_7.ipynb\" target=\"_parent\"><img src=\"https://colab.research.google.com/assets/colab-badge.svg\" alt=\"Open In Colab\"/></a>"
      ]
    },
    {
      "cell_type": "markdown",
      "source": [
        "# Introduction to Python \n",
        "## FTW Foundation\n",
        "July 2, 2022 - Day 2\n",
        "\n",
        "## Outine: \n",
        "---\n",
        "1. Hello, World\n",
        "2. Python Basics\n",
        "3. Variables\n",
        "  - 3.1 Strings \n",
        "  - 3.2 Integers \n",
        "  - 3.3 Floats \n",
        "4. Data Types \n",
        " - 4.1 Lists \n",
        " - 4.2 Tuples \n",
        " - 4.3 Dictionaries \n",
        "5. Functions \n",
        "6. If statements \n",
        "7. While loops\n",
        "8. More Functions \n",
        "9. File IO **< we are here>**\n",
        "\n",
        "A. Appendix\n",
        " - A.1 Variable Naming Conventions\n",
        " - A.2 The Zen of Python\n",
        "\n",
        "\n",
        "\n",
        "## References: \n",
        "---\n",
        "- <a href='https://ehmatthes.github.io/pcc/index.html'>Python Crash Course</a>"
      ],
      "metadata": {
        "id": "7musFBPZT0PB"
      }
    },
    {
      "cell_type": "markdown",
      "metadata": {
        "id": "NvcUrSJVTxHd"
      },
      "source": [
        "# File Input and Output Operations\n",
        "\n",
        "A basic way to start working with data"
      ]
    },
    {
      "cell_type": "markdown",
      "source": [
        "Now that you’ve mastered the basic skills\n",
        "you need to write organized programs\n",
        "that are easy to use, it’s time to think about\n",
        "making your programs even more relevant and\n",
        "usable. In this notebook you’ll learn to work with files\n",
        "so your programs can quickly analyze lots of data. :) "
      ],
      "metadata": {
        "id": "wEbagCZ61pEj"
      }
    },
    {
      "cell_type": "markdown",
      "metadata": {
        "id": "YtmNYXB1TxHg"
      },
      "source": [
        "Python has several functions for creating, reading, updating, and deleting files.\n",
        "\n",
        "# File Handling\n",
        "The key function for working with files in Python is the `open()` function.\n",
        "\n",
        "The `open()` function takes two parameters; `filename`, and `mode`.\n",
        "\n",
        "There are four different methods (modes) for opening a file:\n",
        "\n",
        "1. \"r\" - Read - Default value. Opens a file for reading, error if the file does not exist\n",
        "\n",
        "2. \"a\" - Append - Opens a file for appending, creates the file if it does not exist\n",
        "\n",
        "3. \"w\" - Write - Opens a file for writing, creates the file if it does not exist\n",
        "\n",
        "4. \"x\" - Create - Creates the specified file, returns an error if the file exists\n",
        "\n",
        "In addition you can specify if the file should be handled as binary or text mode\n",
        "\n",
        "- \"t\" - Text - Default value. Text mode\n",
        "\n",
        "- \"b\" - Binary - Binary mode (e.g. images)"
      ]
    },
    {
      "cell_type": "markdown",
      "metadata": {
        "id": "QEeLXVliTxHh"
      },
      "source": [
        "Text\n",
        "==="
      ]
    },
    {
      "cell_type": "markdown",
      "source": [
        "### Jupyter Notebook"
      ],
      "metadata": {
        "id": "mPmeUBq93lbE"
      }
    },
    {
      "cell_type": "code",
      "execution_count": 12,
      "metadata": {
        "id": "lWYAc1HyTxHh"
      },
      "outputs": [],
      "source": [
        "# in Jupyter Notebook, we can do the following. But, this *may not work in Google Colab.\n",
        "file1 = open(\"example.txt\",\"w\") # use 'a' for appending to a file\n",
        "text = \"Hello \\n\"\n",
        "file1.write(text)\n",
        "#file1.writelines(text) to write a list of text\n",
        "file1.close()"
      ]
    },
    {
      "cell_type": "code",
      "execution_count": 2,
      "metadata": {
        "id": "XVsL_OROTxHi",
        "colab": {
          "base_uri": "https://localhost:8080/"
        },
        "outputId": "22465298-8266-4e4a-8c14-cff6aff47cac"
      },
      "outputs": [
        {
          "output_type": "stream",
          "name": "stdout",
          "text": [
            "Hello \n",
            "\n"
          ]
        }
      ],
      "source": [
        "file1 = open(\"example.txt\",\"r\")  \n",
        "  \n",
        "text = file1.read() \n",
        "#file1.readlines() to read a list of text\n",
        "\n",
        "print(text)\n",
        "  "
      ]
    },
    {
      "cell_type": "markdown",
      "source": [
        "### Google Colab \n",
        "\n",
        "`files.download` will invoke a browser download of the file to your local computer."
      ],
      "metadata": {
        "id": "_u74dKVp3n_e"
      }
    },
    {
      "cell_type": "code",
      "source": [
        "from google.colab import files\n",
        "\n",
        "with open('example.txt', 'w') as f:\n",
        "  f.write('some content')\n",
        "\n",
        "files.download('example.txt')"
      ],
      "metadata": {
        "colab": {
          "base_uri": "https://localhost:8080/",
          "height": 17
        },
        "id": "w-9iFDYF3q8H",
        "outputId": "a258a595-ee2c-4966-81c4-53c80c8f065a"
      },
      "execution_count": 3,
      "outputs": [
        {
          "output_type": "display_data",
          "data": {
            "text/plain": [
              "<IPython.core.display.Javascript object>"
            ],
            "application/javascript": [
              "\n",
              "    async function download(id, filename, size) {\n",
              "      if (!google.colab.kernel.accessAllowed) {\n",
              "        return;\n",
              "      }\n",
              "      const div = document.createElement('div');\n",
              "      const label = document.createElement('label');\n",
              "      label.textContent = `Downloading \"${filename}\": `;\n",
              "      div.appendChild(label);\n",
              "      const progress = document.createElement('progress');\n",
              "      progress.max = size;\n",
              "      div.appendChild(progress);\n",
              "      document.body.appendChild(div);\n",
              "\n",
              "      const buffers = [];\n",
              "      let downloaded = 0;\n",
              "\n",
              "      const channel = await google.colab.kernel.comms.open(id);\n",
              "      // Send a message to notify the kernel that we're ready.\n",
              "      channel.send({})\n",
              "\n",
              "      for await (const message of channel.messages) {\n",
              "        // Send a message to notify the kernel that we're ready.\n",
              "        channel.send({})\n",
              "        if (message.buffers) {\n",
              "          for (const buffer of message.buffers) {\n",
              "            buffers.push(buffer);\n",
              "            downloaded += buffer.byteLength;\n",
              "            progress.value = downloaded;\n",
              "          }\n",
              "        }\n",
              "      }\n",
              "      const blob = new Blob(buffers, {type: 'application/binary'});\n",
              "      const a = document.createElement('a');\n",
              "      a.href = window.URL.createObjectURL(blob);\n",
              "      a.download = filename;\n",
              "      div.appendChild(a);\n",
              "      a.click();\n",
              "      div.remove();\n",
              "    }\n",
              "  "
            ]
          },
          "metadata": {}
        },
        {
          "output_type": "display_data",
          "data": {
            "text/plain": [
              "<IPython.core.display.Javascript object>"
            ],
            "application/javascript": [
              "download(\"download_faea5224-462f-4de0-bb8e-60e48600a076\", \"example.txt\", 12)"
            ]
          },
          "metadata": {}
        }
      ]
    },
    {
      "cell_type": "code",
      "source": [
        "with open('example.txt', 'w') as f:\n",
        "  f.write('some content')\n",
        "\n",
        "!cat example.txt"
      ],
      "metadata": {
        "colab": {
          "base_uri": "https://localhost:8080/"
        },
        "id": "sj1suO2w4JOF",
        "outputId": "ce1634fd-cb7f-48f2-c22a-414ee6c8002b"
      },
      "execution_count": 4,
      "outputs": [
        {
          "output_type": "stream",
          "name": "stdout",
          "text": [
            "some content"
          ]
        }
      ]
    },
    {
      "cell_type": "markdown",
      "metadata": {
        "id": "KNbQ06f2TxHj"
      },
      "source": [
        "CSV\n",
        "===\n",
        "Comma Separated Values\n",
        "\n",
        "- note that you can upload files to Google Colab via drag and drop on the sidebar :)"
      ]
    },
    {
      "cell_type": "code",
      "execution_count": 5,
      "metadata": {
        "id": "6icHW9SmTxHj",
        "colab": {
          "base_uri": "https://localhost:8080/"
        },
        "outputId": "b0837506-af54-4aa2-9619-5a1ee3f340be"
      },
      "outputs": [
        {
          "output_type": "execute_result",
          "data": {
            "text/plain": [
              "['Mighty Morphin Red Ranger,Jason Lee Scott,Tyrannosaurus',\n",
              " 'Mighty Morphin Yellow Ranger,Trini Kwan,Saber-Toothed Tiger',\n",
              " 'Mighty Morphin Blue Ranger,Billy Cranston,Triceratops',\n",
              " 'Mighty Morphin Pink Ranger,Kimberly Ann Hart,Pterodactyl',\n",
              " 'Mighty Morphin Black Ranger,Zack Taylor,Mastodon',\n",
              " 'Mighty Morphin Green Ranger,Tommy Oliver,Dragonzord']"
            ]
          },
          "metadata": {},
          "execution_count": 5
        }
      ],
      "source": [
        "csv_text = \"\"\"Mighty Morphin Red Ranger,Jason Lee Scott,Tyrannosaurus\n",
        "Mighty Morphin Yellow Ranger,Trini Kwan,Saber-Toothed Tiger\n",
        "Mighty Morphin Blue Ranger,Billy Cranston,Triceratops\n",
        "Mighty Morphin Pink Ranger,Kimberly Ann Hart,Pterodactyl\n",
        "Mighty Morphin Black Ranger,Zack Taylor,Mastodon\n",
        "Mighty Morphin Green Ranger,Tommy Oliver,Dragonzord\"\"\"\n",
        "\n",
        "csv_text = csv_text.split('\\n')\n",
        "csv_text"
      ]
    },
    {
      "cell_type": "code",
      "execution_count": 15,
      "metadata": {
        "id": "fYQPJFPLTxHk",
        "colab": {
          "base_uri": "https://localhost:8080/"
        },
        "outputId": "cd550b35-fa85-4170-f5cf-c2483b12c99c"
      },
      "outputs": [
        {
          "output_type": "execute_result",
          "data": {
            "text/plain": [
              "[['Mighty Morphin Red Ranger', 'Jason Lee Scott', 'Tyrannosaurus'],\n",
              " ['Mighty Morphin Yellow Ranger', 'Trini Kwan', 'Saber-Toothed Tiger'],\n",
              " ['Mighty Morphin Blue Ranger', 'Billy Cranston', 'Triceratops'],\n",
              " ['Mighty Morphin Pink Ranger', 'Kimberly Ann Hart', 'Pterodactyl'],\n",
              " ['Mighty Morphin Black Ranger', 'Zack Taylor', 'Mastodon'],\n",
              " ['Mighty Morphin Green Ranger', 'Tommy Oliver', 'Dragonzord']]"
            ]
          },
          "metadata": {},
          "execution_count": 15
        }
      ],
      "source": [
        "csv_text_list = []\n",
        "for row in csv_text:\n",
        "    csv_text_list.append(row.split(\",\"))\n",
        "    \n",
        "csv_text_list"
      ]
    },
    {
      "cell_type": "code",
      "execution_count": 16,
      "metadata": {
        "id": "iImUTVgMTxHk",
        "colab": {
          "base_uri": "https://localhost:8080/"
        },
        "outputId": "857c7ba4-c925-42d1-b3c5-3871e983f3a1"
      },
      "outputs": [
        {
          "output_type": "stream",
          "name": "stdout",
          "text": [
            "Mighty Morphin Red Ranger,Jason Lee Scott,Tyrannosaurus\n",
            "Mighty Morphin Yellow Ranger,Trini Kwan,Saber-Toothed Tiger\n",
            "Mighty Morphin Blue Ranger,Billy Cranston,Triceratops\n",
            "Mighty Morphin Pink Ranger,Kimberly Ann Hart,Pterodactyl\n",
            "Mighty Morphin Black Ranger,Zack Taylor,Mastodon\n",
            "Mighty Morphin Green Ranger,Tommy Oliver,Dragonzord\n"
          ]
        }
      ],
      "source": [
        "for row in csv_text_list:\n",
        "    tmp_text = \",\".join(row)\n",
        "    print(tmp_text)"
      ]
    },
    {
      "cell_type": "code",
      "execution_count": 17,
      "metadata": {
        "id": "sPC8Z9SaTxHk"
      },
      "outputs": [],
      "source": [
        "file1 = open(\"example.csv\",\"w\") # use 'a' for appending to a file\n",
        "\n",
        "text_list = []\n",
        "for row in csv_text_list:\n",
        "    tmp_text = \",\".join(row)\n",
        "    text_list.append(tmp_text+\"\\n\")\n",
        "file1.writelines(text_list)\n",
        "file1.close()"
      ]
    },
    {
      "cell_type": "code",
      "execution_count": 18,
      "metadata": {
        "id": "Qa8dlp1DTxHl",
        "colab": {
          "base_uri": "https://localhost:8080/"
        },
        "outputId": "5c1ff292-c2d7-4c40-b0fe-793848656ee5"
      },
      "outputs": [
        {
          "output_type": "stream",
          "name": "stdout",
          "text": [
            "['Mighty Morphin Red Ranger,Jason Lee Scott,Tyrannosaurus\\n', 'Mighty Morphin Yellow Ranger,Trini Kwan,Saber-Toothed Tiger\\n', 'Mighty Morphin Blue Ranger,Billy Cranston,Triceratops\\n', 'Mighty Morphin Pink Ranger,Kimberly Ann Hart,Pterodactyl\\n', 'Mighty Morphin Black Ranger,Zack Taylor,Mastodon\\n', 'Mighty Morphin Green Ranger,Tommy Oliver,Dragonzord\\n']\n"
          ]
        }
      ],
      "source": [
        "file1 = open(\"example.csv\",\"r\")  \n",
        "  \n",
        "text = file1.readlines() \n",
        "print(text)\n",
        "  "
      ]
    },
    {
      "cell_type": "code",
      "execution_count": 19,
      "metadata": {
        "id": "GJMnQ-NZTxHl",
        "colab": {
          "base_uri": "https://localhost:8080/"
        },
        "outputId": "f45740de-5b27-45e8-ddbb-16049db012a8"
      },
      "outputs": [
        {
          "output_type": "stream",
          "name": "stdout",
          "text": [
            "Mighty Morphin Red Ranger Jason Lee Scott Tyrannosaurus \n",
            "Mighty Morphin Yellow Ranger Trini Kwan Saber-Toothed Tiger \n",
            "Mighty Morphin Blue Ranger Billy Cranston Triceratops \n",
            "Mighty Morphin Pink Ranger Kimberly Ann Hart Pterodactyl \n",
            "Mighty Morphin Black Ranger Zack Taylor Mastodon \n",
            "Mighty Morphin Green Ranger Tommy Oliver Dragonzord \n"
          ]
        }
      ],
      "source": [
        "for row in text:\n",
        "    for col in row.split(\",\"):\n",
        "        print(col.strip() , end = \" \")\n",
        "    print(\"\")"
      ]
    },
    {
      "cell_type": "markdown",
      "metadata": {
        "id": "334lEvjHTxHl"
      },
      "source": [
        "Binary\n",
        "==="
      ]
    },
    {
      "cell_type": "code",
      "execution_count": 20,
      "metadata": {
        "id": "M72XpQOSTxHm"
      },
      "outputs": [],
      "source": [
        "# How to write\n",
        "\n",
        "num=[1, 10, 15, 20, 25]\n",
        "arr = bytearray(num)\n",
        "\n",
        "f = open(\"binfile.bin\",\"wb\")\n",
        "f.write(arr)\n",
        "f.close()"
      ]
    },
    {
      "cell_type": "markdown",
      "source": [
        "The `bytearray()` method returns a bytearray object which is an array of the given bytes."
      ],
      "metadata": {
        "id": "dktq9yQU6CQW"
      }
    },
    {
      "cell_type": "code",
      "source": [
        "prime_numbers = [2, 3, 5, 7]\n",
        "\n",
        "# convert list to bytearray\n",
        "byte_array = bytearray(prime_numbers)\n",
        "print(byte_array)"
      ],
      "metadata": {
        "colab": {
          "base_uri": "https://localhost:8080/"
        },
        "id": "ftTpPbH-6EDD",
        "outputId": "ad0349e0-daf8-4dd5-c369-d3b186a77f8c"
      },
      "execution_count": 21,
      "outputs": [
        {
          "output_type": "stream",
          "name": "stdout",
          "text": [
            "bytearray(b'\\x02\\x03\\x05\\x07')\n"
          ]
        }
      ]
    },
    {
      "cell_type": "code",
      "execution_count": 22,
      "metadata": {
        "id": "UK-Gq1rsTxHm",
        "colab": {
          "base_uri": "https://localhost:8080/"
        },
        "outputId": "77302dcf-4795-40a4-a6a0-300c6d4a7f17"
      },
      "outputs": [
        {
          "output_type": "stream",
          "name": "stdout",
          "text": [
            "[1, 10, 15, 20, 25]\n"
          ]
        }
      ],
      "source": [
        "# How to read\n",
        "\n",
        "f=open(\"binfile.bin\",\"rb\")\n",
        "num=list(f.read())\n",
        "f.close()\n",
        "\n",
        "print (num)"
      ]
    },
    {
      "cell_type": "markdown",
      "metadata": {
        "id": "WzoewRpVTxHm"
      },
      "source": [
        "Pickle\n",
        "==="
      ]
    },
    {
      "cell_type": "code",
      "execution_count": 23,
      "metadata": {
        "id": "WmTpC-55TxHm",
        "colab": {
          "base_uri": "https://localhost:8080/"
        },
        "outputId": "eb494258-0783-4434-bb10-8a6ba0c886bf"
      },
      "outputs": [
        {
          "output_type": "stream",
          "name": "stdout",
          "text": [
            "Timmy => {'key': 'Timmy', 'name': 'Timmy Nooklet', 'age': 21, 'pay': 20000}\n",
            "Tommy => {'key': 'Tommy', 'name': 'Tommy Nooklet', 'age': 23, 'pay': 24000}\n"
          ]
        }
      ],
      "source": [
        "Timmy = {'key' : 'Timmy', 'name' : 'Timmy Nooklet', \n",
        "'age' : 21, 'pay' : 20000} \n",
        "Tommy = {'key' : 'Tommy', 'name' : 'Tommy Nooklet', \n",
        "'age' : 23, 'pay' : 24000}\n",
        "\n",
        "# database \n",
        "db = {} \n",
        "db['Timmy'] = Timmy \n",
        "db['Tommy'] = Tommy \n",
        "\n",
        "for keys in db: \n",
        "    print(keys, '=>', db[keys]) "
      ]
    },
    {
      "cell_type": "code",
      "execution_count": 24,
      "metadata": {
        "id": "0gHCoJBjTxHn"
      },
      "outputs": [],
      "source": [
        "import pickle \n",
        "\n",
        "# Its important to use binary mode \n",
        "dbfile = open('example.pkl', 'wb') #\"ab\" if you want to append binary \n",
        "\n",
        "# source, destination \n",
        "pickle.dump(db, dbfile)                      \n",
        "dbfile.close() "
      ]
    },
    {
      "cell_type": "markdown",
      "source": [
        "The pickle module implements binary protocols for serializing and de-serializing a Python object structure. “Pickling” is the process whereby a Python object hierarchy is converted into a byte stream, and “unpickling” is the inverse operation, whereby a byte stream (from a binary file or bytes-like object) is converted back into an object hierarchy. Pickling (and unpickling) is alternatively known as “serialization”, “marshalling,” 1 or “flattening”; however, to avoid confusion, the terms used here are “pickling” and “unpickling”.\n",
        "\n",
        "For more information on Python pickles, check out their documentation <a href='https://docs.python.org/3/library/pickle.html'>here</a>\n",
        "\n",
        "\n"
      ],
      "metadata": {
        "id": "8HMWVIGB6Rtm"
      }
    },
    {
      "cell_type": "code",
      "execution_count": null,
      "metadata": {
        "id": "xk1lqRZnTxHn",
        "colab": {
          "base_uri": "https://localhost:8080/"
        },
        "outputId": "93dbd2bd-fe0c-4012-ab09-f2673ecb835d"
      },
      "outputs": [
        {
          "output_type": "stream",
          "name": "stdout",
          "text": [
            "Timmy => {'key': 'Timmy', 'name': 'Timmy Nooklet', 'age': 21, 'pay': 20000}\n",
            "Tommy => {'key': 'Tommy', 'name': 'Tommy Nooklet', 'age': 23, 'pay': 24000}\n"
          ]
        }
      ],
      "source": [
        "# for reading also binary mode is important \n",
        "dbfile = open('example.pkl', 'rb')      \n",
        "new_db = pickle.load(dbfile) \n",
        "dbfile.close()\n",
        "\n",
        "for keys in new_db: \n",
        "    print(keys, '=>', db[keys]) "
      ]
    },
    {
      "cell_type": "markdown",
      "metadata": {
        "id": "pgduqHt1TxHn"
      },
      "source": [
        "# JSON\n",
        "JavaScript Object Notation"
      ]
    },
    {
      "cell_type": "code",
      "execution_count": null,
      "metadata": {
        "id": "A5NwFF7tTxHn"
      },
      "outputs": [],
      "source": [
        "import json\n",
        "\n",
        "db = [\n",
        "    \n",
        "    {\n",
        "    \"userId\": 1,\n",
        "    \"id\": 1,\n",
        "    \"title\": \"The Philosopher's Stone\",\n",
        "    \"completed\": False\n",
        "    },\n",
        "    \n",
        "     {\n",
        "    \"userId\": 2,\n",
        "    \"id\": 2,\n",
        "    \"title\": \"The Chamber of Secrets\",\n",
        "    \"completed\": True\n",
        "    }\n",
        "]\n",
        "\n",
        "jsonfile = open('example.json', 'w') \n",
        "json.dump(db, jsonfile)\n",
        "jsonfile.close()"
      ]
    },
    {
      "cell_type": "code",
      "execution_count": null,
      "metadata": {
        "id": "uXG9l1mjTxHn",
        "colab": {
          "base_uri": "https://localhost:8080/"
        },
        "outputId": "7683dfd4-1d03-4873-c98b-44ae553a414b"
      },
      "outputs": [
        {
          "output_type": "stream",
          "name": "stdout",
          "text": [
            "{'userId': 1, 'id': 1, 'title': \"The Philosopher's Stone\", 'completed': False}\n",
            "{'userId': 2, 'id': 2, 'title': 'The Chamber of Secrets', 'completed': True}\n"
          ]
        }
      ],
      "source": [
        " \n",
        "jsonfile = open('example.json', 'r') \n",
        "new_db = json.load(jsonfile)\n",
        "jsonfile.close()\n",
        "\n",
        "for keys in new_db: \n",
        "    print(keys) "
      ]
    },
    {
      "cell_type": "markdown",
      "metadata": {
        "id": "-vnvT_UUTxHo"
      },
      "source": [
        "# Delete a File\n",
        "To delete a file, you must import the OS module, and run its os.remove() function:"
      ]
    },
    {
      "cell_type": "code",
      "execution_count": null,
      "metadata": {
        "id": "l-WBfPFqTxHo"
      },
      "outputs": [],
      "source": [
        "# Remove the file \"demofile.txt\":\n",
        "\n",
        "import os\n",
        "# os.remove(\"demofile.txt\")\n",
        "os.remove(\"example.txt\")"
      ]
    },
    {
      "cell_type": "markdown",
      "metadata": {
        "id": "BfbSWRP3TxHp"
      },
      "source": [
        "# Check if File exist:\n",
        "To avoid getting an error, you might want to check if the file exists before you try to delete it:"
      ]
    },
    {
      "cell_type": "code",
      "execution_count": null,
      "metadata": {
        "id": "V1b5Ap5KTxHp",
        "outputId": "414cf54b-0159-4af2-c88e-177242a85a7c",
        "colab": {
          "base_uri": "https://localhost:8080/"
        }
      },
      "outputs": [
        {
          "output_type": "stream",
          "name": "stdout",
          "text": [
            "The file does not exist\n"
          ]
        }
      ],
      "source": [
        "# Check if file exists, then delete it:\n",
        "\n",
        "import os\n",
        "if os.path.exists(\"demofile.txt\"):\n",
        "  os.remove(\"demofile.txt\")\n",
        "else:\n",
        "  print(\"The file does not exist\")"
      ]
    },
    {
      "cell_type": "markdown",
      "source": [
        "# Reading and Writing Files from Google Drive"
      ],
      "metadata": {
        "id": "5doCrYshUsji"
      }
    },
    {
      "cell_type": "code",
      "execution_count": null,
      "metadata": {
        "id": "bp49mfilTxHp",
        "colab": {
          "base_uri": "https://localhost:8080/"
        },
        "outputId": "8c694330-99d1-4e3d-dc09-925899e10ec2"
      },
      "outputs": [
        {
          "output_type": "stream",
          "name": "stdout",
          "text": [
            "Mounted at /content/drive\n"
          ]
        }
      ],
      "source": [
        "from google.colab import drive\n",
        "drive.mount('/content/drive')"
      ]
    },
    {
      "cell_type": "code",
      "source": [
        "with open(\"/content/drive/MyDrive/FTW_2022/01 Lecture Files - 20220625 Day 07 - Intro to Programming for DS (Python) /Past Week's Slides/foo.txt\", 'w') as f:\n",
        "  f.write('Hello Google Drive!')\n",
        "!cat \"/content/drive/MyDrive/FTW_2022/01 Lecture Files - 20220625 Day 07 - Intro to Programming for DS (Python) /Past Week's Slides/foo.txt\""
      ],
      "metadata": {
        "colab": {
          "base_uri": "https://localhost:8080/"
        },
        "id": "XUiEtEaQUu2T",
        "outputId": "2b8b5de6-2403-4ceb-a43b-18b2c6952758"
      },
      "execution_count": null,
      "outputs": [
        {
          "output_type": "stream",
          "name": "stdout",
          "text": [
            "Hello Google Drive!"
          ]
        }
      ]
    },
    {
      "cell_type": "code",
      "source": [
        ""
      ],
      "metadata": {
        "id": "4wqXktOOVWeb"
      },
      "execution_count": null,
      "outputs": []
    }
  ],
  "metadata": {
    "kernelspec": {
      "display_name": "Python 3",
      "language": "python",
      "name": "python3"
    },
    "language_info": {
      "codemirror_mode": {
        "name": "ipython",
        "version": 3
      },
      "file_extension": ".py",
      "mimetype": "text/x-python",
      "name": "python",
      "nbconvert_exporter": "python",
      "pygments_lexer": "ipython3",
      "version": "3.8.3"
    },
    "colab": {
      "name": "python_7.ipynb",
      "provenance": [],
      "collapsed_sections": [],
      "include_colab_link": true
    }
  },
  "nbformat": 4,
  "nbformat_minor": 0
}