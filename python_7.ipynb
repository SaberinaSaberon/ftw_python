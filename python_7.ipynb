{
  "cells": [
    {
      "cell_type": "markdown",
      "metadata": {
        "id": "view-in-github",
        "colab_type": "text"
      },
      "source": [
        "<a href=\"https://colab.research.google.com/github/angelaaaateng/ftw_python/blob/main/python_7.ipynb\" target=\"_parent\"><img src=\"https://colab.research.google.com/assets/colab-badge.svg\" alt=\"Open In Colab\"/></a>"
      ]
    },
    {
      "cell_type": "markdown",
      "source": [
        "# Introduction to Python \n",
        "## FTW Foundation\n",
        "June 25, 2022 - Day 1\n",
        "\n",
        "## Outine: \n",
        "---\n",
        "1. Hello, World\n",
        "2. Python Basics\n",
        "3. Variables\n",
        "  - 3.1 Strings \n",
        "  - 3.2 Integers \n",
        "  - 3.3 Floats \n",
        "4. Data Types \n",
        " - 4.1 Lists \n",
        " - 4.2 Tuples \n",
        " - 4.3 Dictionaries \n",
        "5. Functions \n",
        "6. If statements \n",
        "7. While loops\n",
        "8. More Functions \n",
        "9. File IO **< we are here>**\n",
        "\n",
        "A. Appendix\n",
        " - A.1 Variable Naming Conventions\n",
        " - A.2 The Zen of Python\n",
        "\n",
        "\n",
        "\n",
        "## References: \n",
        "---\n",
        "- <a href='https://ehmatthes.github.io/pcc/index.html'>Python Crash Course</a>"
      ],
      "metadata": {
        "id": "7musFBPZT0PB"
      }
    },
    {
      "cell_type": "markdown",
      "metadata": {
        "id": "NvcUrSJVTxHd"
      },
      "source": [
        "# File Input and Output Operations\n",
        "\n",
        "A basic way to start working with data"
      ]
    },
    {
      "cell_type": "markdown",
      "metadata": {
        "id": "YtmNYXB1TxHg"
      },
      "source": [
        "Python has several functions for creating, reading, updating, and deleting files.\n",
        "\n",
        "# File Handling\n",
        "The key function for working with files in Python is the open() function.\n",
        "\n",
        "The open() function takes two parameters; filename, and mode.\n",
        "\n",
        "There are four different methods (modes) for opening a file:\n",
        "\n",
        "\"r\" - Read - Default value. Opens a file for reading, error if the file does not exist\n",
        "\n",
        "\"a\" - Append - Opens a file for appending, creates the file if it does not exist\n",
        "\n",
        "\"w\" - Write - Opens a file for writing, creates the file if it does not exist\n",
        "\n",
        "\"x\" - Create - Creates the specified file, returns an error if the file exists\n",
        "\n",
        "In addition you can specify if the file should be handled as binary or text mode\n",
        "\n",
        "\"t\" - Text - Default value. Text mode\n",
        "\n",
        "\"b\" - Binary - Binary mode (e.g. images)"
      ]
    },
    {
      "cell_type": "markdown",
      "metadata": {
        "id": "QEeLXVliTxHh"
      },
      "source": [
        "Text\n",
        "==="
      ]
    },
    {
      "cell_type": "code",
      "execution_count": 2,
      "metadata": {
        "id": "lWYAc1HyTxHh"
      },
      "outputs": [],
      "source": [
        "file1 = open(\"example.txt\",\"w\") # use 'a' for appending to a file\n",
        "text = \"Hello \\n\"\n",
        "file1.write(text)\n",
        "#file1.writelines(text) to write a list of text\n",
        "file1.close()"
      ]
    },
    {
      "cell_type": "code",
      "execution_count": 3,
      "metadata": {
        "id": "XVsL_OROTxHi",
        "colab": {
          "base_uri": "https://localhost:8080/"
        },
        "outputId": "f715bf3d-bebc-4207-9f3e-42d5b722d26b"
      },
      "outputs": [
        {
          "output_type": "stream",
          "name": "stdout",
          "text": [
            "Hello \n",
            "\n"
          ]
        }
      ],
      "source": [
        "file1 = open(\"example.txt\",\"r\")  \n",
        "  \n",
        "text = file1.read() \n",
        "#file1.readlines() to read a list of text\n",
        "\n",
        "print(text)\n",
        "  "
      ]
    },
    {
      "cell_type": "markdown",
      "metadata": {
        "id": "KNbQ06f2TxHj"
      },
      "source": [
        "CSV\n",
        "===\n",
        "Comma Separated Values"
      ]
    },
    {
      "cell_type": "code",
      "execution_count": 4,
      "metadata": {
        "id": "6icHW9SmTxHj",
        "colab": {
          "base_uri": "https://localhost:8080/"
        },
        "outputId": "c401ab76-3804-4cea-e886-3aa361aad029"
      },
      "outputs": [
        {
          "output_type": "execute_result",
          "data": {
            "text/plain": [
              "['Mighty Morphin Red Ranger,Jason Lee Scott,Tyrannosaurus',\n",
              " 'Mighty Morphin Yellow Ranger,Trini Kwan,Saber-Toothed Tiger',\n",
              " 'Mighty Morphin Blue Ranger,Billy Cranston,Triceratops',\n",
              " 'Mighty Morphin Pink Ranger,Kimberly Ann Hart,Pterodactyl',\n",
              " 'Mighty Morphin Black Ranger,Zack Taylor,Mastodon',\n",
              " 'Mighty Morphin Green Ranger,Tommy Oliver,Dragonzord']"
            ]
          },
          "metadata": {},
          "execution_count": 4
        }
      ],
      "source": [
        "csv_text = \"\"\"Mighty Morphin Red Ranger,Jason Lee Scott,Tyrannosaurus\n",
        "Mighty Morphin Yellow Ranger,Trini Kwan,Saber-Toothed Tiger\n",
        "Mighty Morphin Blue Ranger,Billy Cranston,Triceratops\n",
        "Mighty Morphin Pink Ranger,Kimberly Ann Hart,Pterodactyl\n",
        "Mighty Morphin Black Ranger,Zack Taylor,Mastodon\n",
        "Mighty Morphin Green Ranger,Tommy Oliver,Dragonzord\"\"\"\n",
        "\n",
        "csv_text = csv_text.split('\\n')\n",
        "csv_text"
      ]
    },
    {
      "cell_type": "code",
      "execution_count": 5,
      "metadata": {
        "id": "fYQPJFPLTxHk",
        "colab": {
          "base_uri": "https://localhost:8080/"
        },
        "outputId": "45b576d8-e630-45e3-9f99-876af9951060"
      },
      "outputs": [
        {
          "output_type": "execute_result",
          "data": {
            "text/plain": [
              "[['Mighty Morphin Red Ranger', 'Jason Lee Scott', 'Tyrannosaurus'],\n",
              " ['Mighty Morphin Yellow Ranger', 'Trini Kwan', 'Saber-Toothed Tiger'],\n",
              " ['Mighty Morphin Blue Ranger', 'Billy Cranston', 'Triceratops'],\n",
              " ['Mighty Morphin Pink Ranger', 'Kimberly Ann Hart', 'Pterodactyl'],\n",
              " ['Mighty Morphin Black Ranger', 'Zack Taylor', 'Mastodon'],\n",
              " ['Mighty Morphin Green Ranger', 'Tommy Oliver', 'Dragonzord']]"
            ]
          },
          "metadata": {},
          "execution_count": 5
        }
      ],
      "source": [
        "csv_text_list = []\n",
        "for row in csv_text:\n",
        "    csv_text_list.append(row.split(\",\"))\n",
        "    \n",
        "csv_text_list"
      ]
    },
    {
      "cell_type": "code",
      "execution_count": 6,
      "metadata": {
        "id": "iImUTVgMTxHk",
        "colab": {
          "base_uri": "https://localhost:8080/"
        },
        "outputId": "aa29d2de-31b1-4804-d0a4-4c7cb047b227"
      },
      "outputs": [
        {
          "output_type": "stream",
          "name": "stdout",
          "text": [
            "Mighty Morphin Red Ranger,Jason Lee Scott,Tyrannosaurus\n",
            "Mighty Morphin Yellow Ranger,Trini Kwan,Saber-Toothed Tiger\n",
            "Mighty Morphin Blue Ranger,Billy Cranston,Triceratops\n",
            "Mighty Morphin Pink Ranger,Kimberly Ann Hart,Pterodactyl\n",
            "Mighty Morphin Black Ranger,Zack Taylor,Mastodon\n",
            "Mighty Morphin Green Ranger,Tommy Oliver,Dragonzord\n"
          ]
        }
      ],
      "source": [
        "for row in csv_text_list:\n",
        "    tmp_text = \",\".join(row)\n",
        "    print(tmp_text)"
      ]
    },
    {
      "cell_type": "code",
      "execution_count": 7,
      "metadata": {
        "id": "sPC8Z9SaTxHk"
      },
      "outputs": [],
      "source": [
        "file1 = open(\"example.csv\",\"w\") # use 'a' for appending to a file\n",
        "\n",
        "text_list = []\n",
        "for row in csv_text_list:\n",
        "    tmp_text = \",\".join(row)\n",
        "    text_list.append(tmp_text+\"\\n\")\n",
        "file1.writelines(text_list)\n",
        "file1.close()"
      ]
    },
    {
      "cell_type": "code",
      "execution_count": 8,
      "metadata": {
        "id": "Qa8dlp1DTxHl",
        "colab": {
          "base_uri": "https://localhost:8080/"
        },
        "outputId": "08e3113e-5001-4a2a-a5b0-d630c0161ea9"
      },
      "outputs": [
        {
          "output_type": "stream",
          "name": "stdout",
          "text": [
            "['Mighty Morphin Red Ranger,Jason Lee Scott,Tyrannosaurus\\n', 'Mighty Morphin Yellow Ranger,Trini Kwan,Saber-Toothed Tiger\\n', 'Mighty Morphin Blue Ranger,Billy Cranston,Triceratops\\n', 'Mighty Morphin Pink Ranger,Kimberly Ann Hart,Pterodactyl\\n', 'Mighty Morphin Black Ranger,Zack Taylor,Mastodon\\n', 'Mighty Morphin Green Ranger,Tommy Oliver,Dragonzord\\n']\n"
          ]
        }
      ],
      "source": [
        "file1 = open(\"example.csv\",\"r\")  \n",
        "  \n",
        "text = file1.readlines() \n",
        "print(text)\n",
        "  "
      ]
    },
    {
      "cell_type": "code",
      "execution_count": 9,
      "metadata": {
        "id": "GJMnQ-NZTxHl",
        "colab": {
          "base_uri": "https://localhost:8080/"
        },
        "outputId": "f159c25f-6f24-4541-8612-e8b302fa4acd"
      },
      "outputs": [
        {
          "output_type": "stream",
          "name": "stdout",
          "text": [
            "Mighty Morphin Red Ranger Jason Lee Scott Tyrannosaurus \n",
            "Mighty Morphin Yellow Ranger Trini Kwan Saber-Toothed Tiger \n",
            "Mighty Morphin Blue Ranger Billy Cranston Triceratops \n",
            "Mighty Morphin Pink Ranger Kimberly Ann Hart Pterodactyl \n",
            "Mighty Morphin Black Ranger Zack Taylor Mastodon \n",
            "Mighty Morphin Green Ranger Tommy Oliver Dragonzord \n"
          ]
        }
      ],
      "source": [
        "for row in text:\n",
        "    for col in row.split(\",\"):\n",
        "        print(col.strip() , end = \" \")\n",
        "    print(\"\")"
      ]
    },
    {
      "cell_type": "markdown",
      "metadata": {
        "id": "334lEvjHTxHl"
      },
      "source": [
        "Binary\n",
        "==="
      ]
    },
    {
      "cell_type": "code",
      "execution_count": 10,
      "metadata": {
        "id": "M72XpQOSTxHm"
      },
      "outputs": [],
      "source": [
        "# How to write\n",
        "\n",
        "num=[1, 10, 15, 20, 25]\n",
        "arr=bytearray(num)\n",
        "\n",
        "f=open(\"binfile.bin\",\"wb\")\n",
        "f.write(arr)\n",
        "f.close()"
      ]
    },
    {
      "cell_type": "code",
      "execution_count": 11,
      "metadata": {
        "id": "UK-Gq1rsTxHm",
        "colab": {
          "base_uri": "https://localhost:8080/"
        },
        "outputId": "92c7b1a7-1a0b-4809-b1a7-01a8dba7d45f"
      },
      "outputs": [
        {
          "output_type": "stream",
          "name": "stdout",
          "text": [
            "[1, 10, 15, 20, 25]\n"
          ]
        }
      ],
      "source": [
        "# How to read\n",
        "\n",
        "f=open(\"binfile.bin\",\"rb\")\n",
        "num=list(f.read())\n",
        "f.close()\n",
        "\n",
        "print (num)"
      ]
    },
    {
      "cell_type": "markdown",
      "metadata": {
        "id": "WzoewRpVTxHm"
      },
      "source": [
        "Pickle\n",
        "==="
      ]
    },
    {
      "cell_type": "code",
      "execution_count": 12,
      "metadata": {
        "id": "WmTpC-55TxHm",
        "colab": {
          "base_uri": "https://localhost:8080/"
        },
        "outputId": "9cd01c88-f4b0-42ef-a1c9-e90d0cca6a38"
      },
      "outputs": [
        {
          "output_type": "stream",
          "name": "stdout",
          "text": [
            "Timmy => {'key': 'Timmy', 'name': 'Timmy Nooklet', 'age': 21, 'pay': 20000}\n",
            "Tommy => {'key': 'Tommy', 'name': 'Tommy Nooklet', 'age': 23, 'pay': 24000}\n"
          ]
        }
      ],
      "source": [
        "Timmy = {'key' : 'Timmy', 'name' : 'Timmy Nooklet', \n",
        "'age' : 21, 'pay' : 20000} \n",
        "Tommy = {'key' : 'Tommy', 'name' : 'Tommy Nooklet', \n",
        "'age' : 23, 'pay' : 24000}\n",
        "\n",
        "# database \n",
        "db = {} \n",
        "db['Timmy'] = Timmy \n",
        "db['Tommy'] = Tommy \n",
        "\n",
        "for keys in db: \n",
        "    print(keys, '=>', db[keys]) "
      ]
    },
    {
      "cell_type": "code",
      "execution_count": 13,
      "metadata": {
        "id": "0gHCoJBjTxHn"
      },
      "outputs": [],
      "source": [
        "import pickle \n",
        "\n",
        "\n",
        "\n",
        "\n",
        "# Its important to use binary mode \n",
        "dbfile = open('example.pkl', 'wb') #\"ab\" if you want to append binary \n",
        "\n",
        "# source, destination \n",
        "pickle.dump(db, dbfile)                      \n",
        "dbfile.close() "
      ]
    },
    {
      "cell_type": "code",
      "execution_count": 14,
      "metadata": {
        "id": "xk1lqRZnTxHn",
        "colab": {
          "base_uri": "https://localhost:8080/"
        },
        "outputId": "93dbd2bd-fe0c-4012-ab09-f2673ecb835d"
      },
      "outputs": [
        {
          "output_type": "stream",
          "name": "stdout",
          "text": [
            "Timmy => {'key': 'Timmy', 'name': 'Timmy Nooklet', 'age': 21, 'pay': 20000}\n",
            "Tommy => {'key': 'Tommy', 'name': 'Tommy Nooklet', 'age': 23, 'pay': 24000}\n"
          ]
        }
      ],
      "source": [
        "# for reading also binary mode is important \n",
        "dbfile = open('example.pkl', 'rb')      \n",
        "new_db = pickle.load(dbfile) \n",
        "dbfile.close()\n",
        "\n",
        "for keys in new_db: \n",
        "    print(keys, '=>', db[keys]) "
      ]
    },
    {
      "cell_type": "markdown",
      "metadata": {
        "id": "pgduqHt1TxHn"
      },
      "source": [
        "# JSON\n",
        "JavaScript Object Notation"
      ]
    },
    {
      "cell_type": "code",
      "execution_count": 15,
      "metadata": {
        "id": "A5NwFF7tTxHn"
      },
      "outputs": [],
      "source": [
        "import json\n",
        "\n",
        "db = [\n",
        "    \n",
        "    {\n",
        "    \"userId\": 1,\n",
        "    \"id\": 1,\n",
        "    \"title\": \"The Philosopher's Stone\",\n",
        "    \"completed\": False\n",
        "    },\n",
        "    \n",
        "     {\n",
        "    \"userId\": 2,\n",
        "    \"id\": 2,\n",
        "    \"title\": \"The Chamber of Secrets\",\n",
        "    \"completed\": True\n",
        "    }\n",
        "]\n",
        "\n",
        "jsonfile = open('example.json', 'w') \n",
        "json.dump(db, jsonfile)\n",
        "jsonfile.close()"
      ]
    },
    {
      "cell_type": "code",
      "execution_count": 16,
      "metadata": {
        "id": "uXG9l1mjTxHn",
        "colab": {
          "base_uri": "https://localhost:8080/"
        },
        "outputId": "7683dfd4-1d03-4873-c98b-44ae553a414b"
      },
      "outputs": [
        {
          "output_type": "stream",
          "name": "stdout",
          "text": [
            "{'userId': 1, 'id': 1, 'title': \"The Philosopher's Stone\", 'completed': False}\n",
            "{'userId': 2, 'id': 2, 'title': 'The Chamber of Secrets', 'completed': True}\n"
          ]
        }
      ],
      "source": [
        " \n",
        "jsonfile = open('example.json', 'r') \n",
        "new_db = json.load(jsonfile)\n",
        "jsonfile.close()\n",
        "\n",
        "for keys in new_db: \n",
        "    print(keys) "
      ]
    },
    {
      "cell_type": "markdown",
      "metadata": {
        "id": "-vnvT_UUTxHo"
      },
      "source": [
        "# Delete a File\n",
        "To delete a file, you must import the OS module, and run its os.remove() function:"
      ]
    },
    {
      "cell_type": "code",
      "execution_count": 18,
      "metadata": {
        "id": "l-WBfPFqTxHo"
      },
      "outputs": [],
      "source": [
        "# Remove the file \"demofile.txt\":\n",
        "\n",
        "import os\n",
        "# os.remove(\"demofile.txt\")\n",
        "os.remove(\"example.txt\")"
      ]
    },
    {
      "cell_type": "markdown",
      "metadata": {
        "id": "BfbSWRP3TxHp"
      },
      "source": [
        "# Check if File exist:\n",
        "To avoid getting an error, you might want to check if the file exists before you try to delete it:"
      ]
    },
    {
      "cell_type": "code",
      "execution_count": 19,
      "metadata": {
        "id": "V1b5Ap5KTxHp",
        "outputId": "414cf54b-0159-4af2-c88e-177242a85a7c",
        "colab": {
          "base_uri": "https://localhost:8080/"
        }
      },
      "outputs": [
        {
          "output_type": "stream",
          "name": "stdout",
          "text": [
            "The file does not exist\n"
          ]
        }
      ],
      "source": [
        "# Check if file exists, then delete it:\n",
        "\n",
        "import os\n",
        "if os.path.exists(\"demofile.txt\"):\n",
        "  os.remove(\"demofile.txt\")\n",
        "else:\n",
        "  print(\"The file does not exist\")"
      ]
    },
    {
      "cell_type": "markdown",
      "source": [
        "# Reading and Writing Files from Google Drive"
      ],
      "metadata": {
        "id": "5doCrYshUsji"
      }
    },
    {
      "cell_type": "code",
      "execution_count": 20,
      "metadata": {
        "id": "bp49mfilTxHp",
        "colab": {
          "base_uri": "https://localhost:8080/"
        },
        "outputId": "8c694330-99d1-4e3d-dc09-925899e10ec2"
      },
      "outputs": [
        {
          "output_type": "stream",
          "name": "stdout",
          "text": [
            "Mounted at /content/drive\n"
          ]
        }
      ],
      "source": [
        "from google.colab import drive\n",
        "drive.mount('/content/drive')"
      ]
    },
    {
      "cell_type": "code",
      "source": [
        "with open(\"/content/drive/MyDrive/FTW_2022/01 Lecture Files - 20220625 Day 07 - Intro to Programming for DS (Python) /Past Week's Slides/foo.txt\", 'w') as f:\n",
        "  f.write('Hello Google Drive!')\n",
        "!cat \"/content/drive/MyDrive/FTW_2022/01 Lecture Files - 20220625 Day 07 - Intro to Programming for DS (Python) /Past Week's Slides/foo.txt\""
      ],
      "metadata": {
        "colab": {
          "base_uri": "https://localhost:8080/"
        },
        "id": "XUiEtEaQUu2T",
        "outputId": "2b8b5de6-2403-4ceb-a43b-18b2c6952758"
      },
      "execution_count": 21,
      "outputs": [
        {
          "output_type": "stream",
          "name": "stdout",
          "text": [
            "Hello Google Drive!"
          ]
        }
      ]
    },
    {
      "cell_type": "code",
      "source": [
        ""
      ],
      "metadata": {
        "id": "4wqXktOOVWeb"
      },
      "execution_count": null,
      "outputs": []
    }
  ],
  "metadata": {
    "kernelspec": {
      "display_name": "Python 3",
      "language": "python",
      "name": "python3"
    },
    "language_info": {
      "codemirror_mode": {
        "name": "ipython",
        "version": 3
      },
      "file_extension": ".py",
      "mimetype": "text/x-python",
      "name": "python",
      "nbconvert_exporter": "python",
      "pygments_lexer": "ipython3",
      "version": "3.8.3"
    },
    "colab": {
      "name": "python_7.ipynb",
      "provenance": [],
      "collapsed_sections": [],
      "include_colab_link": true
    }
  },
  "nbformat": 4,
  "nbformat_minor": 0
}