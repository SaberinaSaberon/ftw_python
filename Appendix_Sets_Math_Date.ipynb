{
  "cells": [
    {
      "cell_type": "markdown",
      "metadata": {
        "id": "view-in-github",
        "colab_type": "text"
      },
      "source": [
        "<a href=\"https://colab.research.google.com/github/angelaaaateng/ftw_python/blob/main/Appendix_Sets_Math_Date.ipynb\" target=\"_parent\"><img src=\"https://colab.research.google.com/assets/colab-badge.svg\" alt=\"Open In Colab\"/></a>"
      ]
    },
    {
      "cell_type": "markdown",
      "metadata": {
        "id": "I_mKcLuwny8v"
      },
      "source": [
        "Here, we'll briefly talk about some modules that are not normally used but would be very useful on some unique situations"
      ]
    },
    {
      "cell_type": "markdown",
      "metadata": {
        "id": "_ultoa3pny8y"
      },
      "source": [
        "# Set\n",
        "\n",
        "A set is a collection which is unordered and unindexed. In Python, sets are written with curly brackets."
      ]
    },
    {
      "cell_type": "code",
      "execution_count": 4,
      "metadata": {
        "id": "Tub2YlpZny8z",
        "outputId": "f026f0d4-5302-4c76-e6ee-548ad01e4db8",
        "colab": {
          "base_uri": "https://localhost:8080/"
        }
      },
      "outputs": [
        {
          "output_type": "stream",
          "name": "stdout",
          "text": [
            "{'apple', 'banana', 'cherry'}\n"
          ]
        }
      ],
      "source": [
        "# Create a Set:\n",
        "\n",
        "thisset = {\"apple\", \"banana\", \"cherry\"}\n",
        "print(thisset)"
      ]
    },
    {
      "cell_type": "markdown",
      "metadata": {
        "id": "bIkj7mosny80"
      },
      "source": [
        "# Access Items\n",
        "You cannot access items in a set by referring to an index or a key.\n",
        "\n",
        "But you can loop through the set items using a for loop, or ask if a specified value is present in a set, by using the in keyword."
      ]
    },
    {
      "cell_type": "code",
      "execution_count": 5,
      "metadata": {
        "id": "iTqyB70kny81",
        "outputId": "f72f7ca6-244c-4fa8-8e56-675e6e6d64da",
        "colab": {
          "base_uri": "https://localhost:8080/"
        }
      },
      "outputs": [
        {
          "output_type": "stream",
          "name": "stdout",
          "text": [
            "apple\n",
            "banana\n",
            "cherry\n"
          ]
        }
      ],
      "source": [
        "# Loop through the set, and print the values:\n",
        "\n",
        "thisset = {\"apple\", \"banana\", \"cherry\"}\n",
        "\n",
        "for x in thisset:\n",
        "  print(x)"
      ]
    },
    {
      "cell_type": "code",
      "execution_count": 6,
      "metadata": {
        "id": "tSqbW0iIny81",
        "outputId": "949744cd-6d9e-4970-d596-88fb7815a790",
        "colab": {
          "base_uri": "https://localhost:8080/"
        }
      },
      "outputs": [
        {
          "output_type": "stream",
          "name": "stdout",
          "text": [
            "True\n"
          ]
        }
      ],
      "source": [
        "# Check if \"banana\" is present in the set:\n",
        "\n",
        "thisset = {\"apple\", \"banana\", \"cherry\"}\n",
        "\n",
        "print(\"banana\" in thisset)"
      ]
    },
    {
      "cell_type": "markdown",
      "metadata": {
        "id": "n4cAzPJbny82"
      },
      "source": [
        "# Change Items\n",
        "\n",
        "Once a set is created, you cannot change its items, but you can add new items. Think of accessing the item/data via its index"
      ]
    },
    {
      "cell_type": "markdown",
      "metadata": {
        "id": "BXhznaWkny82"
      },
      "source": [
        "# Add Items\n",
        "To add one item to a set use the add() method.\n",
        "\n",
        "To add more than one item to a set use the update() method."
      ]
    },
    {
      "cell_type": "code",
      "execution_count": 7,
      "metadata": {
        "id": "PmZcNyETny83",
        "outputId": "653c6801-a629-442f-88fd-001070e18d9d",
        "colab": {
          "base_uri": "https://localhost:8080/"
        }
      },
      "outputs": [
        {
          "output_type": "stream",
          "name": "stdout",
          "text": [
            "{'orange', 'apple', 'banana', 'cherry'}\n"
          ]
        }
      ],
      "source": [
        "#Add an item to a set, using the add() method:\n",
        "\n",
        "thisset = {\"apple\", \"banana\", \"cherry\"}\n",
        "\n",
        "thisset.add(\"orange\")\n",
        "\n",
        "print(thisset)"
      ]
    },
    {
      "cell_type": "code",
      "execution_count": 8,
      "metadata": {
        "id": "M70it2Txny84",
        "outputId": "39c17ece-dbaa-446d-cf85-02359c67629f",
        "colab": {
          "base_uri": "https://localhost:8080/"
        }
      },
      "outputs": [
        {
          "output_type": "stream",
          "name": "stdout",
          "text": [
            "{'orange', 'mango', 'banana', 'cherry', 'grapes', 'apple'}\n"
          ]
        }
      ],
      "source": [
        "#Add multiple items to a set, using the update() method:\n",
        "\n",
        "thisset = {\"apple\", \"banana\", \"cherry\"}\n",
        "\n",
        "thisset.update([\"orange\", \"mango\", \"grapes\"])\n",
        "\n",
        "print(thisset)"
      ]
    },
    {
      "cell_type": "markdown",
      "metadata": {
        "id": "S-aBA9I3ny85"
      },
      "source": [
        "# Get the Length of a Set\n",
        "To determine how many items a set has, use the len() method."
      ]
    },
    {
      "cell_type": "code",
      "execution_count": 9,
      "metadata": {
        "id": "FBJti87Jny85",
        "outputId": "a65ccbf9-b388-462b-9bce-566ec72acaf2",
        "colab": {
          "base_uri": "https://localhost:8080/"
        }
      },
      "outputs": [
        {
          "output_type": "stream",
          "name": "stdout",
          "text": [
            "3\n"
          ]
        }
      ],
      "source": [
        "#Get the number of items in a set:\n",
        "\n",
        "thisset = {\"apple\", \"banana\", \"cherry\"}\n",
        "\n",
        "print(len(thisset))"
      ]
    },
    {
      "cell_type": "markdown",
      "metadata": {
        "id": "E6scA0k2ny85"
      },
      "source": [
        "# Remove Item\n",
        "To remove an item in a set, use the remove(), or the discard() method."
      ]
    },
    {
      "cell_type": "code",
      "execution_count": 10,
      "metadata": {
        "id": "oIIhlg2Ony86",
        "outputId": "0bf2d09b-254c-4440-f69d-7a6e27bea265",
        "colab": {
          "base_uri": "https://localhost:8080/"
        }
      },
      "outputs": [
        {
          "output_type": "stream",
          "name": "stdout",
          "text": [
            "{'apple', 'cherry'}\n"
          ]
        }
      ],
      "source": [
        "#Remove \"banana\" by using the remove() method:\n",
        "\n",
        "thisset = {\"apple\", \"banana\", \"cherry\"}\n",
        "\n",
        "thisset.remove(\"banana\")\n",
        "\n",
        "print(thisset)"
      ]
    },
    {
      "cell_type": "code",
      "execution_count": 11,
      "metadata": {
        "id": "CnNlSy_xny86",
        "outputId": "e21995f3-037a-447b-ffa8-59c85ec76e1d",
        "colab": {
          "base_uri": "https://localhost:8080/"
        }
      },
      "outputs": [
        {
          "output_type": "stream",
          "name": "stdout",
          "text": [
            "{'apple', 'cherry'}\n"
          ]
        }
      ],
      "source": [
        "#Remove \"banana\" by using the discard() method:\n",
        "\n",
        "thisset = {\"apple\", \"banana\", \"cherry\"}\n",
        "\n",
        "thisset.discard(\"banana\")\n",
        "\n",
        "print(thisset)"
      ]
    },
    {
      "cell_type": "markdown",
      "metadata": {
        "id": "je7sodsyny87"
      },
      "source": [
        "* If the item to remove does not exist, remove() will raise an error.\n",
        "* If the item to remove does not exist, discard() will NOT raise an error."
      ]
    },
    {
      "cell_type": "markdown",
      "metadata": {
        "id": "X6JFrdu8ny87"
      },
      "source": [
        "You can also use the pop(), method to remove an item, but this method will remove the last item. **Remember that sets are unordered, so you will not know what item that gets removed.**\n",
        "\n",
        "The return value of the pop() method is the removed item."
      ]
    },
    {
      "cell_type": "code",
      "execution_count": 12,
      "metadata": {
        "id": "sE0XPAaHny88",
        "outputId": "7e4dc471-4d8b-4e81-c749-d83b7442b525",
        "colab": {
          "base_uri": "https://localhost:8080/"
        }
      },
      "outputs": [
        {
          "output_type": "stream",
          "name": "stdout",
          "text": [
            "apple\n",
            "{'banana', 'cherry'}\n"
          ]
        }
      ],
      "source": [
        "#Remove the last item by using the pop() method:\n",
        "\n",
        "thisset = {\"apple\", \"banana\", \"cherry\"}\n",
        "\n",
        "x = thisset.pop()\n",
        "\n",
        "print(x)\n",
        "\n",
        "print(thisset)"
      ]
    },
    {
      "cell_type": "code",
      "execution_count": 13,
      "metadata": {
        "id": "w6cUnqujny88",
        "outputId": "9ae9055c-ba4e-4f6f-82a9-dc060faf6de3",
        "colab": {
          "base_uri": "https://localhost:8080/",
          "height": 201
        }
      },
      "outputs": [
        {
          "output_type": "error",
          "ename": "NameError",
          "evalue": "ignored",
          "traceback": [
            "\u001b[0;31m---------------------------------------------------------------------------\u001b[0m",
            "\u001b[0;31mNameError\u001b[0m                                 Traceback (most recent call last)",
            "\u001b[0;32m<ipython-input-13-3bd3115f2ab0>\u001b[0m in \u001b[0;36m<module>\u001b[0;34m()\u001b[0m\n\u001b[1;32m      5\u001b[0m \u001b[0;32mdel\u001b[0m \u001b[0mthisset\u001b[0m\u001b[0;34m\u001b[0m\u001b[0;34m\u001b[0m\u001b[0m\n\u001b[1;32m      6\u001b[0m \u001b[0;34m\u001b[0m\u001b[0m\n\u001b[0;32m----> 7\u001b[0;31m \u001b[0mprint\u001b[0m\u001b[0;34m(\u001b[0m\u001b[0mthisset\u001b[0m\u001b[0;34m)\u001b[0m\u001b[0;34m\u001b[0m\u001b[0;34m\u001b[0m\u001b[0m\n\u001b[0m",
            "\u001b[0;31mNameError\u001b[0m: name 'thisset' is not defined"
          ]
        }
      ],
      "source": [
        "#The del keyword will delete the set completely:\n",
        "\n",
        "thisset = {\"apple\", \"banana\", \"cherry\"}\n",
        "\n",
        "del thisset\n",
        "\n",
        "print(thisset)"
      ]
    },
    {
      "cell_type": "markdown",
      "metadata": {
        "id": "xO-qXwPgny89"
      },
      "source": [
        "# Join Two Sets\n",
        "There are several ways to join two or more sets in Python.\n",
        "\n",
        "You can use the union() method that returns a new set containing all items from both sets, or the update() method that inserts all the items from one set into another:"
      ]
    },
    {
      "cell_type": "code",
      "execution_count": null,
      "metadata": {
        "id": "B8dzmHTzny89"
      },
      "outputs": [],
      "source": [
        "#The union() method returns a new set with all items from both sets:\n",
        "\n",
        "set1 = {\"a\", \"b\" , \"c\"}\n",
        "set2 = {1, 2, 3}\n",
        "\n",
        "set3 = set1.union(set2)\n",
        "print(set3)"
      ]
    },
    {
      "cell_type": "code",
      "execution_count": null,
      "metadata": {
        "id": "YVw66YR_ny89"
      },
      "outputs": [],
      "source": [
        "#The update() method inserts the items in set2 into set1:\n",
        "\n",
        "set1 = {\"a\", \"b\" , \"c\"}\n",
        "set2 = {1, 2, 3}\n",
        "\n",
        "set1.update(set2)\n",
        "print(set1)\n",
        "\n",
        "# Note: Both union() and update() will exclude any duplicate items."
      ]
    },
    {
      "cell_type": "markdown",
      "metadata": {
        "id": "qtc5xGf0ny8-"
      },
      "source": [
        "# The set() Constructor\n",
        "It is also possible to use the set() constructor to make a set."
      ]
    },
    {
      "cell_type": "code",
      "execution_count": null,
      "metadata": {
        "id": "9O_wrAHEny8-"
      },
      "outputs": [],
      "source": [
        "#Using the set() constructor to make a set:\n",
        "\n",
        "thisset = set((\"apple\", \"banana\", \"cherry\")) # note the double round-brackets\n",
        "print(thisset)"
      ]
    },
    {
      "cell_type": "markdown",
      "metadata": {
        "id": "q4r3gc9rny8_"
      },
      "source": [
        "### What are other Set operations out there? ie. If you have union, you also have..."
      ]
    },
    {
      "cell_type": "markdown",
      "metadata": {
        "id": "9NRIx-xDny8_"
      },
      "source": [
        "# The Math Module\n",
        "Python has also a built-in module called math, which extends the list of mathematical functions.\n",
        "\n",
        "To use it, you must import the math module.\n",
        "\n",
        "When you have imported the math module, you can start using methods and constants of the module.\n",
        "\n",
        "The math.sqrt() method for example, returns the square root of a number:"
      ]
    },
    {
      "cell_type": "code",
      "execution_count": null,
      "metadata": {
        "id": "yyf879Vbny9B"
      },
      "outputs": [],
      "source": [
        "import math\n",
        "\n",
        "x = math.sqrt(64)\n",
        "\n",
        "print(x)"
      ]
    },
    {
      "cell_type": "markdown",
      "metadata": {
        "id": "quEbleq-ny9B"
      },
      "source": [
        "The math.ceil() method rounds a number upwards to its nearest integer, and the math.floor() method rounds a number downwards to its nearest integer, and returns the result:"
      ]
    },
    {
      "cell_type": "code",
      "execution_count": null,
      "metadata": {
        "id": "yGtbSODBny9B"
      },
      "outputs": [],
      "source": [
        "import math\n",
        "\n",
        "x = math.ceil(1.4)\n",
        "y = math.floor(1.4)\n",
        "\n",
        "print(x) # returns 2\n",
        "print(y) # returns 1"
      ]
    },
    {
      "cell_type": "markdown",
      "metadata": {
        "id": "OT8bmkwany9C"
      },
      "source": [
        "The math.pi constant, returns the value of PI (3.14...):"
      ]
    },
    {
      "cell_type": "code",
      "execution_count": null,
      "metadata": {
        "id": "8UQBIVnAny9C"
      },
      "outputs": [],
      "source": [
        "import math\n",
        "\n",
        "x = math.pi\n",
        "\n",
        "print(x)"
      ]
    },
    {
      "cell_type": "markdown",
      "metadata": {
        "id": "gNM5Ekkkny9C"
      },
      "source": [
        "### What are other Math operations available in the Math module? who knows... \n",
        "CLUE: GOOGLE PYTHON MATH MODULE"
      ]
    },
    {
      "cell_type": "markdown",
      "metadata": {
        "id": "_A23wUjNny9D"
      },
      "source": [
        "# Dates\n",
        "A date in Python is not a data type of its own, but we can import a module named datetime to work with dates as date objects."
      ]
    },
    {
      "cell_type": "code",
      "execution_count": null,
      "metadata": {
        "id": "-5fU4dkiny9D"
      },
      "outputs": [],
      "source": [
        "#Import the datetime module and display the current date:\n",
        "\n",
        "import datetime\n",
        "\n",
        "x = datetime.datetime.now()\n",
        "print(x)"
      ]
    },
    {
      "cell_type": "code",
      "execution_count": null,
      "metadata": {
        "id": "tEiMysmOny9D"
      },
      "outputs": [],
      "source": [
        "x.year"
      ]
    },
    {
      "cell_type": "code",
      "execution_count": null,
      "metadata": {
        "id": "x41dD_FIny9D"
      },
      "outputs": [],
      "source": [
        "x.month"
      ]
    },
    {
      "cell_type": "code",
      "execution_count": null,
      "metadata": {
        "id": "EayrdQERny9E"
      },
      "outputs": [],
      "source": [
        "x.day"
      ]
    },
    {
      "cell_type": "code",
      "execution_count": null,
      "metadata": {
        "id": "twP5EJBdny9E"
      },
      "outputs": [],
      "source": [
        "x.hour"
      ]
    },
    {
      "cell_type": "code",
      "execution_count": null,
      "metadata": {
        "id": "V4OlgIK_ny9E"
      },
      "outputs": [],
      "source": [
        "x.minute"
      ]
    },
    {
      "cell_type": "code",
      "execution_count": null,
      "metadata": {
        "id": "Vz6uReZ0ny9E"
      },
      "outputs": [],
      "source": [
        "x.second"
      ]
    },
    {
      "cell_type": "markdown",
      "metadata": {
        "id": "jb855eSsny9F"
      },
      "source": [
        "# Date Output\n",
        "When we execute the code from the example above the result will be:\n",
        "\n",
        "2020-09-19 20:24:29.012087\n",
        "The date contains year, month, day, hour, minute, second, and microsecond.\n",
        "\n",
        "The datetime module has many methods to return information about the date object.\n",
        "\n",
        "Here are a few examples, you will learn more about them later in this chapter:"
      ]
    },
    {
      "cell_type": "code",
      "execution_count": null,
      "metadata": {
        "id": "C0ho81VVny9F"
      },
      "outputs": [],
      "source": [
        "# Return the year and name of weekday:\n",
        "\n",
        "import datetime\n",
        "\n",
        "x = datetime.datetime.now()\n",
        "\n",
        "print(x.year)\n",
        "print(x.strftime(\"%A\"))"
      ]
    },
    {
      "cell_type": "markdown",
      "metadata": {
        "id": "OgW-hFDBny9F"
      },
      "source": [
        "# Creating Date Objects\n",
        "To create a date, we can use the datetime() class (constructor) of the datetime module.\n",
        "\n",
        "The datetime() class requires three parameters to create a date: year, month, day."
      ]
    },
    {
      "cell_type": "code",
      "execution_count": null,
      "metadata": {
        "id": "lLVwiqScny9F"
      },
      "outputs": [],
      "source": [
        "#Create a date object:\n",
        "\n",
        "import datetime\n",
        "\n",
        "x = datetime.datetime(2020, 5, 17)\n",
        "\n",
        "print(x)"
      ]
    },
    {
      "cell_type": "markdown",
      "metadata": {
        "id": "iqBgq2liny9G"
      },
      "source": [
        "The datetime() class also takes parameters for time and timezone (hour, minute, second, microsecond, tzone), but they are optional, and has a default value of 0, (None for timezone)."
      ]
    },
    {
      "cell_type": "markdown",
      "metadata": {
        "id": "U-rR6t5dny9G"
      },
      "source": [
        "# The strftime() Method\n",
        "The datetime object has a method for formatting date objects into readable strings.\n",
        "\n",
        "The method is called strftime(), and takes one parameter, format, to specify the format of the returned string:"
      ]
    },
    {
      "cell_type": "code",
      "execution_count": null,
      "metadata": {
        "id": "vSb7pjdany9G"
      },
      "outputs": [],
      "source": [
        "import datetime\n",
        "\n",
        "x = datetime.datetime(2018, 6, 1)\n",
        "\n",
        "print(x.strftime(\"%B\"))"
      ]
    },
    {
      "cell_type": "markdown",
      "metadata": {
        "id": "JQyFAyiwny9H"
      },
      "source": [
        "You can find out more formats you can try to generate for datetime in https://strftime.org/"
      ]
    },
    {
      "cell_type": "markdown",
      "metadata": {
        "id": "W5jg1akvny9H"
      },
      "source": [
        "# What if we want to extract date information from a string?"
      ]
    },
    {
      "cell_type": "code",
      "execution_count": null,
      "metadata": {
        "id": "wwk1jSpdny9H"
      },
      "outputs": [],
      "source": [
        "# Using the same format syntax, you can setup a template to 'parse' the string to date object\n",
        "\n",
        "import datetime\n",
        "\n",
        "date_time_str = '2018-06-29 08:15:27.243860'\n",
        "date_time_obj = datetime.datetime.strptime(date_time_str, '%Y-%m-%d %H:%M:%S.%f')\n",
        "\n",
        "print('Date:', date_time_obj.date())\n",
        "print('Time:', date_time_obj.time())\n",
        "print('Date-time:', date_time_obj)"
      ]
    },
    {
      "cell_type": "markdown",
      "metadata": {
        "id": "uxshqRslny9H"
      },
      "source": [
        "# Lambda Functions"
      ]
    },
    {
      "cell_type": "markdown",
      "metadata": {
        "id": "1H19V0Z0ny9I"
      },
      "source": [
        "A lambda function is a small anonymous function.\n",
        "\n",
        "A lambda function can take any number of arguments, but can only have one expression.\n",
        "\n",
        "## Syntax\n",
        "    lambda arguments : expression"
      ]
    },
    {
      "cell_type": "code",
      "execution_count": 1,
      "metadata": {
        "id": "JXjyS7AVny9J",
        "outputId": "1fe63290-e02e-4f97-b31c-6689e3aeb1a4",
        "colab": {
          "base_uri": "https://localhost:8080/"
        }
      },
      "outputs": [
        {
          "output_type": "stream",
          "name": "stdout",
          "text": [
            "15\n"
          ]
        }
      ],
      "source": [
        "# Example\n",
        "# A lambda function that adds 10 to the number passed in as an argument, and print the result:\n",
        "\n",
        "x = lambda a : a + 10\n",
        "\n",
        "print(x(5))"
      ]
    },
    {
      "cell_type": "code",
      "execution_count": 2,
      "metadata": {
        "id": "kNehgkZ1ny9J",
        "outputId": "96524e6f-5dbc-44a1-f559-1fb284c665b1",
        "colab": {
          "base_uri": "https://localhost:8080/"
        }
      },
      "outputs": [
        {
          "output_type": "stream",
          "name": "stdout",
          "text": [
            "30\n"
          ]
        }
      ],
      "source": [
        "# A lambda function that multiplies argument a with argument b and print the result:\n",
        "\n",
        "x = lambda a, b : a * b\n",
        "print(x(5, 6))"
      ]
    },
    {
      "cell_type": "code",
      "execution_count": 3,
      "metadata": {
        "id": "6pd9bgbJny9J",
        "outputId": "d0bcda18-0840-4ab6-f9ac-17de3a3affcf",
        "colab": {
          "base_uri": "https://localhost:8080/"
        }
      },
      "outputs": [
        {
          "output_type": "stream",
          "name": "stdout",
          "text": [
            "13\n"
          ]
        }
      ],
      "source": [
        "# A lambda function that sums argument a, b, and c and print the result:\n",
        "\n",
        "x = lambda a, b, c : a + b + c\n",
        "print(x(5, 6, 2))"
      ]
    },
    {
      "cell_type": "markdown",
      "metadata": {
        "id": "gnQM8r2Dny9J"
      },
      "source": [
        "## Why Use Lambda Functions?\n",
        "The power of lambda is better shown when you use them as an anonymous function inside another function.\n",
        "\n",
        "Say you have a function definition that takes one argument, and that argument will be multiplied with an unknown number:"
      ]
    },
    {
      "cell_type": "code",
      "execution_count": 14,
      "metadata": {
        "id": "7pagIe8_ny9K"
      },
      "outputs": [],
      "source": [
        "def myfunc(n):\n",
        "  return lambda a : a * n"
      ]
    },
    {
      "cell_type": "code",
      "execution_count": 15,
      "metadata": {
        "id": "mrjIg5-ony9K",
        "outputId": "de150f18-f9ba-448a-cefd-9557188d7fc7",
        "colab": {
          "base_uri": "https://localhost:8080/"
        }
      },
      "outputs": [
        {
          "output_type": "stream",
          "name": "stdout",
          "text": [
            "22\n"
          ]
        }
      ],
      "source": [
        "# Use that function definition to make a function that always doubles the number you send in:\n",
        "    \n",
        "def myfunc(n):\n",
        "  return lambda a : a * n\n",
        "\n",
        "mydoubler = myfunc(2)\n",
        "\n",
        "print(mydoubler(11))"
      ]
    },
    {
      "cell_type": "code",
      "execution_count": 16,
      "metadata": {
        "id": "Bml9kgysny9K",
        "outputId": "b9579f81-248c-460e-ec1b-2c1f051b72fe",
        "colab": {
          "base_uri": "https://localhost:8080/"
        }
      },
      "outputs": [
        {
          "output_type": "stream",
          "name": "stdout",
          "text": [
            "33\n"
          ]
        }
      ],
      "source": [
        "# Or, use the same function definition to make a function that always triples the number you send in:\n",
        "\n",
        "def myfunc(n):\n",
        "  return lambda a : a * n\n",
        "\n",
        "mytripler = myfunc(3)\n",
        "\n",
        "print(mytripler(11))"
      ]
    },
    {
      "cell_type": "code",
      "execution_count": 17,
      "metadata": {
        "id": "KIe1uAyDny9K",
        "outputId": "6ccbac90-313b-4cc8-b976-4b375dbaf55f",
        "colab": {
          "base_uri": "https://localhost:8080/"
        }
      },
      "outputs": [
        {
          "output_type": "stream",
          "name": "stdout",
          "text": [
            "22\n",
            "33\n"
          ]
        }
      ],
      "source": [
        "# Or, use the same function definition to make both functions, in the same program:\n",
        "    \n",
        "def myfunc(n):\n",
        "  return lambda a : a * n\n",
        "\n",
        "mydoubler = myfunc(2)\n",
        "mytripler = myfunc(3)\n",
        "\n",
        "print(mydoubler(11))\n",
        "print(mytripler(11))"
      ]
    },
    {
      "cell_type": "markdown",
      "metadata": {
        "id": "SNgjUL2Zny9L"
      },
      "source": [
        "## What are other special applications of lambda functions?\n",
        "* Distributed Computing - no need to worry about algorithm changes being read from a single storage as all servers have their own copies of it and can adjust accordingly\n",
        "* Privacy and security - anonymously send algorithms in any machine, run it, not worry about the need to store a copy locally\n",
        "\n",
        "All in all don't stress over lambda functions as they are an advanced topic but it is good to have a good understanding in case you encounter them in the wild"
      ]
    }
  ],
  "metadata": {
    "kernelspec": {
      "display_name": "Python 3",
      "language": "python",
      "name": "python3"
    },
    "language_info": {
      "codemirror_mode": {
        "name": "ipython",
        "version": 3
      },
      "file_extension": ".py",
      "mimetype": "text/x-python",
      "name": "python",
      "nbconvert_exporter": "python",
      "pygments_lexer": "ipython3",
      "version": "3.8.3"
    },
    "colab": {
      "name": "Appendix_Sets_Math_Date.ipynb",
      "provenance": [],
      "collapsed_sections": [
        "q4r3gc9rny8_",
        "gNM5Ekkkny9C"
      ],
      "include_colab_link": true
    }
  },
  "nbformat": 4,
  "nbformat_minor": 0
}