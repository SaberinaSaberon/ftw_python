{
  "cells": [
    {
      "cell_type": "markdown",
      "metadata": {
        "id": "view-in-github",
        "colab_type": "text"
      },
      "source": [
        "<a href=\"https://colab.research.google.com/github/angelaaaateng/ftw_python/blob/main/Appendix_Sets_Math_Date.ipynb\" target=\"_parent\"><img src=\"https://colab.research.google.com/assets/colab-badge.svg\" alt=\"Open In Colab\"/></a>"
      ]
    },
    {
      "cell_type": "markdown",
      "metadata": {
        "id": "I_mKcLuwny8v"
      },
      "source": [
        "Here, we'll briefly talk about some modules that is not normally used but would be very useful on some unique situations"
      ]
    },
    {
      "cell_type": "markdown",
      "metadata": {
        "id": "_ultoa3pny8y"
      },
      "source": [
        "# Set\n",
        "\n",
        "A set is a collection which is unordered and unindexed. In Python, sets are written with curly brackets."
      ]
    },
    {
      "cell_type": "code",
      "execution_count": null,
      "metadata": {
        "id": "Tub2YlpZny8z",
        "outputId": "ac9e43aa-a550-4c0f-99c3-e76edd6ea598"
      },
      "outputs": [
        {
          "name": "stdout",
          "output_type": "stream",
          "text": [
            "{'apple', 'banana', 'cherry'}\n"
          ]
        }
      ],
      "source": [
        "# Create a Set:\n",
        "\n",
        "thisset = {\"apple\", \"banana\", \"cherry\"}\n",
        "print(thisset)"
      ]
    },
    {
      "cell_type": "markdown",
      "metadata": {
        "id": "bIkj7mosny80"
      },
      "source": [
        "# Access Items\n",
        "You cannot access items in a set by referring to an index or a key.\n",
        "\n",
        "But you can loop through the set items using a for loop, or ask if a specified value is present in a set, by using the in keyword."
      ]
    },
    {
      "cell_type": "code",
      "execution_count": null,
      "metadata": {
        "id": "iTqyB70kny81",
        "outputId": "9da41eb1-c23e-4028-a544-e5a5fe79db70"
      },
      "outputs": [
        {
          "name": "stdout",
          "output_type": "stream",
          "text": [
            "apple\n",
            "banana\n",
            "cherry\n"
          ]
        }
      ],
      "source": [
        "# Loop through the set, and print the values:\n",
        "\n",
        "thisset = {\"apple\", \"banana\", \"cherry\"}\n",
        "\n",
        "for x in thisset:\n",
        "  print(x)"
      ]
    },
    {
      "cell_type": "code",
      "execution_count": null,
      "metadata": {
        "id": "tSqbW0iIny81",
        "outputId": "68e8016c-f9f8-4bc1-b2fc-fbbb0fe280bf"
      },
      "outputs": [
        {
          "name": "stdout",
          "output_type": "stream",
          "text": [
            "True\n"
          ]
        }
      ],
      "source": [
        "# Check if \"banana\" is present in the set:\n",
        "\n",
        "thisset = {\"apple\", \"banana\", \"cherry\"}\n",
        "\n",
        "print(\"banana\" in thisset)"
      ]
    },
    {
      "cell_type": "markdown",
      "metadata": {
        "id": "n4cAzPJbny82"
      },
      "source": [
        "# Change Items\n",
        "\n",
        "Once a set is created, you cannot change its items, but you can add new items. #think of accessing the item/data via its index"
      ]
    },
    {
      "cell_type": "markdown",
      "metadata": {
        "id": "BXhznaWkny82"
      },
      "source": [
        "# Add Items\n",
        "To add one item to a set use the add() method.\n",
        "\n",
        "To add more than one item to a set use the update() method."
      ]
    },
    {
      "cell_type": "code",
      "execution_count": null,
      "metadata": {
        "id": "PmZcNyETny83",
        "outputId": "47ddc84b-003f-4e69-adc5-bd3e9d9e9058"
      },
      "outputs": [
        {
          "name": "stdout",
          "output_type": "stream",
          "text": [
            "{'apple', 'banana', 'orange', 'cherry'}\n"
          ]
        }
      ],
      "source": [
        "#Add an item to a set, using the add() method:\n",
        "\n",
        "thisset = {\"apple\", \"banana\", \"cherry\"}\n",
        "\n",
        "thisset.add(\"orange\")\n",
        "\n",
        "print(thisset)"
      ]
    },
    {
      "cell_type": "code",
      "execution_count": null,
      "metadata": {
        "id": "M70it2Txny84",
        "outputId": "61d9db8d-cf87-4e70-f4f6-c5ce7629e51a"
      },
      "outputs": [
        {
          "name": "stdout",
          "output_type": "stream",
          "text": [
            "{'orange', 'grapes', 'banana', 'cherry', 'apple', 'mango'}\n"
          ]
        }
      ],
      "source": [
        "#Add multiple items to a set, using the update() method:\n",
        "\n",
        "thisset = {\"apple\", \"banana\", \"cherry\"}\n",
        "\n",
        "thisset.update([\"orange\", \"mango\", \"grapes\"])\n",
        "\n",
        "print(thisset)"
      ]
    },
    {
      "cell_type": "markdown",
      "metadata": {
        "id": "S-aBA9I3ny85"
      },
      "source": [
        "# Get the Length of a Set\n",
        "To determine how many items a set has, use the len() method."
      ]
    },
    {
      "cell_type": "code",
      "execution_count": null,
      "metadata": {
        "id": "FBJti87Jny85",
        "outputId": "2fc3d94e-9a26-423e-99e3-50d019670260"
      },
      "outputs": [
        {
          "name": "stdout",
          "output_type": "stream",
          "text": [
            "3\n"
          ]
        }
      ],
      "source": [
        "#Get the number of items in a set:\n",
        "\n",
        "thisset = {\"apple\", \"banana\", \"cherry\"}\n",
        "\n",
        "print(len(thisset))"
      ]
    },
    {
      "cell_type": "markdown",
      "metadata": {
        "id": "E6scA0k2ny85"
      },
      "source": [
        "# Remove Item\n",
        "To remove an item in a set, use the remove(), or the discard() method."
      ]
    },
    {
      "cell_type": "code",
      "execution_count": null,
      "metadata": {
        "id": "oIIhlg2Ony86",
        "outputId": "3c79d33a-874f-4fb5-ddfc-8fef7c7ce669"
      },
      "outputs": [
        {
          "name": "stdout",
          "output_type": "stream",
          "text": [
            "{'apple', 'cherry'}\n"
          ]
        }
      ],
      "source": [
        "#Remove \"banana\" by using the remove() method:\n",
        "\n",
        "thisset = {\"apple\", \"banana\", \"cherry\"}\n",
        "\n",
        "thisset.remove(\"banana\")\n",
        "\n",
        "print(thisset)"
      ]
    },
    {
      "cell_type": "code",
      "execution_count": null,
      "metadata": {
        "id": "CnNlSy_xny86",
        "outputId": "b7631ba8-1160-41d5-b741-2b26a945afd3"
      },
      "outputs": [
        {
          "name": "stdout",
          "output_type": "stream",
          "text": [
            "{'apple', 'cherry'}\n"
          ]
        }
      ],
      "source": [
        "#Remove \"banana\" by using the discard() method:\n",
        "\n",
        "thisset = {\"apple\", \"banana\", \"cherry\"}\n",
        "\n",
        "thisset.discard(\"banana\")\n",
        "\n",
        "print(thisset)"
      ]
    },
    {
      "cell_type": "markdown",
      "metadata": {
        "id": "je7sodsyny87"
      },
      "source": [
        "* If the item to remove does not exist, remove() will raise an error.\n",
        "* If the item to remove does not exist, discard() will NOT raise an error."
      ]
    },
    {
      "cell_type": "markdown",
      "metadata": {
        "id": "X6JFrdu8ny87"
      },
      "source": [
        "You can also use the pop(), method to remove an item, but this method will remove the last item. **Remember that sets are unordered, so you will not know what item that gets removed.**\n",
        "\n",
        "The return value of the pop() method is the removed item."
      ]
    },
    {
      "cell_type": "code",
      "execution_count": null,
      "metadata": {
        "id": "sE0XPAaHny88",
        "outputId": "81c9b486-9218-49d1-f1b1-9ec1b45670cc"
      },
      "outputs": [
        {
          "name": "stdout",
          "output_type": "stream",
          "text": [
            "apple\n",
            "{'banana', 'cherry'}\n"
          ]
        }
      ],
      "source": [
        "#Remove the last item by using the pop() method:\n",
        "\n",
        "thisset = {\"apple\", \"banana\", \"cherry\"}\n",
        "\n",
        "x = thisset.pop()\n",
        "\n",
        "print(x)\n",
        "\n",
        "print(thisset)"
      ]
    },
    {
      "cell_type": "code",
      "execution_count": null,
      "metadata": {
        "id": "w6cUnqujny88",
        "outputId": "f73bf697-f445-4e2e-e569-8ae9bbafae5c"
      },
      "outputs": [
        {
          "ename": "NameError",
          "evalue": "name 'thisset' is not defined",
          "output_type": "error",
          "traceback": [
            "\u001b[1;31m---------------------------------------------------------------------------\u001b[0m",
            "\u001b[1;31mNameError\u001b[0m                                 Traceback (most recent call last)",
            "\u001b[1;32m<ipython-input-10-3bd3115f2ab0>\u001b[0m in \u001b[0;36m<module>\u001b[1;34m\u001b[0m\n\u001b[0;32m      5\u001b[0m \u001b[1;32mdel\u001b[0m \u001b[0mthisset\u001b[0m\u001b[1;33m\u001b[0m\u001b[1;33m\u001b[0m\u001b[0m\n\u001b[0;32m      6\u001b[0m \u001b[1;33m\u001b[0m\u001b[0m\n\u001b[1;32m----> 7\u001b[1;33m \u001b[0mprint\u001b[0m\u001b[1;33m(\u001b[0m\u001b[0mthisset\u001b[0m\u001b[1;33m)\u001b[0m\u001b[1;33m\u001b[0m\u001b[1;33m\u001b[0m\u001b[0m\n\u001b[0m",
            "\u001b[1;31mNameError\u001b[0m: name 'thisset' is not defined"
          ]
        }
      ],
      "source": [
        "#The del keyword will delete the set completely:\n",
        "\n",
        "thisset = {\"apple\", \"banana\", \"cherry\"}\n",
        "\n",
        "del thisset\n",
        "\n",
        "print(thisset)"
      ]
    },
    {
      "cell_type": "markdown",
      "metadata": {
        "id": "xO-qXwPgny89"
      },
      "source": [
        "# Join Two Sets\n",
        "There are several ways to join two or more sets in Python.\n",
        "\n",
        "You can use the union() method that returns a new set containing all items from both sets, or the update() method that inserts all the items from one set into another:"
      ]
    },
    {
      "cell_type": "code",
      "execution_count": null,
      "metadata": {
        "id": "B8dzmHTzny89",
        "outputId": "bb234f76-e7e3-4c1e-fdd2-bf9dafb124f8"
      },
      "outputs": [
        {
          "name": "stdout",
          "output_type": "stream",
          "text": [
            "{'c', 1, 'a', 2, 3, 'b'}\n"
          ]
        }
      ],
      "source": [
        "#The union() method returns a new set with all items from both sets:\n",
        "\n",
        "set1 = {\"a\", \"b\" , \"c\"}\n",
        "set2 = {1, 2, 3}\n",
        "\n",
        "set3 = set1.union(set2)\n",
        "print(set3)"
      ]
    },
    {
      "cell_type": "code",
      "execution_count": null,
      "metadata": {
        "id": "YVw66YR_ny89",
        "outputId": "9ff5db25-7480-4ece-8432-b272d04702af"
      },
      "outputs": [
        {
          "name": "stdout",
          "output_type": "stream",
          "text": [
            "{'c', 1, 'a', 2, 3, 'b'}\n"
          ]
        }
      ],
      "source": [
        "#The update() method inserts the items in set2 into set1:\n",
        "\n",
        "set1 = {\"a\", \"b\" , \"c\"}\n",
        "set2 = {1, 2, 3}\n",
        "\n",
        "set1.update(set2)\n",
        "print(set1)\n",
        "\n",
        "# Note: Both union() and update() will exclude any duplicate items."
      ]
    },
    {
      "cell_type": "markdown",
      "metadata": {
        "id": "qtc5xGf0ny8-"
      },
      "source": [
        "# The set() Constructor\n",
        "It is also possible to use the set() constructor to make a set."
      ]
    },
    {
      "cell_type": "code",
      "execution_count": null,
      "metadata": {
        "id": "9O_wrAHEny8-",
        "outputId": "06e2a02c-9bbc-441d-d50b-b8c6c3c9ebba"
      },
      "outputs": [
        {
          "name": "stdout",
          "output_type": "stream",
          "text": [
            "{'apple', 'banana', 'cherry'}\n"
          ]
        }
      ],
      "source": [
        "#Using the set() constructor to make a set:\n",
        "\n",
        "thisset = set((\"apple\", \"banana\", \"cherry\")) # note the double round-brackets\n",
        "print(thisset)"
      ]
    },
    {
      "cell_type": "markdown",
      "metadata": {
        "id": "q4r3gc9rny8_"
      },
      "source": [
        "### What are other Set operations out there? ie. If you have union, you also have..."
      ]
    },
    {
      "cell_type": "markdown",
      "metadata": {
        "id": "9NRIx-xDny8_"
      },
      "source": [
        "# The Math Module\n",
        "Python has also a built-in module called math, which extends the list of mathematical functions.\n",
        "\n",
        "To use it, you must import the math module.\n",
        "\n",
        "When you have imported the math module, you can start using methods and constants of the module.\n",
        "\n",
        "The math.sqrt() method for example, returns the square root of a number:"
      ]
    },
    {
      "cell_type": "code",
      "execution_count": null,
      "metadata": {
        "id": "yyf879Vbny9B",
        "outputId": "b80ff350-f9f1-4c3a-c32a-ab805af892f0"
      },
      "outputs": [
        {
          "name": "stdout",
          "output_type": "stream",
          "text": [
            "8.0\n"
          ]
        }
      ],
      "source": [
        "import math\n",
        "\n",
        "x = math.sqrt(64)\n",
        "\n",
        "print(x)"
      ]
    },
    {
      "cell_type": "markdown",
      "metadata": {
        "id": "quEbleq-ny9B"
      },
      "source": [
        "The math.ceil() method rounds a number upwards to its nearest integer, and the math.floor() method rounds a number downwards to its nearest integer, and returns the result:"
      ]
    },
    {
      "cell_type": "code",
      "execution_count": null,
      "metadata": {
        "id": "yGtbSODBny9B",
        "outputId": "cc5f5ccd-c57f-419e-935d-46f06b5de84d"
      },
      "outputs": [
        {
          "name": "stdout",
          "output_type": "stream",
          "text": [
            "2\n",
            "1\n"
          ]
        }
      ],
      "source": [
        "import math\n",
        "\n",
        "x = math.ceil(1.4)\n",
        "y = math.floor(1.4)\n",
        "\n",
        "print(x) # returns 2\n",
        "print(y) # returns 1"
      ]
    },
    {
      "cell_type": "markdown",
      "metadata": {
        "id": "OT8bmkwany9C"
      },
      "source": [
        "The math.pi constant, returns the value of PI (3.14...):"
      ]
    },
    {
      "cell_type": "code",
      "execution_count": null,
      "metadata": {
        "id": "8UQBIVnAny9C",
        "outputId": "e6615ddb-2c1d-490e-d6d2-a6be67588d43"
      },
      "outputs": [
        {
          "name": "stdout",
          "output_type": "stream",
          "text": [
            "3.141592653589793\n"
          ]
        }
      ],
      "source": [
        "import math\n",
        "\n",
        "x = math.pi\n",
        "\n",
        "print(x)"
      ]
    },
    {
      "cell_type": "markdown",
      "metadata": {
        "id": "gNM5Ekkkny9C"
      },
      "source": [
        "### What are other Math operations available in the Math module? who knows... \n",
        "CLUE: GOOGLE PYTHON MATH MODULE"
      ]
    },
    {
      "cell_type": "markdown",
      "metadata": {
        "id": "_A23wUjNny9D"
      },
      "source": [
        "# Dates\n",
        "A date in Python is not a data type of its own, but we can import a module named datetime to work with dates as date objects."
      ]
    },
    {
      "cell_type": "code",
      "execution_count": null,
      "metadata": {
        "id": "-5fU4dkiny9D",
        "outputId": "91f3104a-2f4a-4c55-f6f1-ce3ba94afc54"
      },
      "outputs": [
        {
          "name": "stdout",
          "output_type": "stream",
          "text": [
            "2020-09-26 01:12:05.059531\n"
          ]
        }
      ],
      "source": [
        "#Import the datetime module and display the current date:\n",
        "\n",
        "import datetime\n",
        "\n",
        "x = datetime.datetime.now()\n",
        "print(x)"
      ]
    },
    {
      "cell_type": "code",
      "execution_count": null,
      "metadata": {
        "id": "tEiMysmOny9D",
        "outputId": "39454234-8931-425f-dcf6-2a162f2b4490"
      },
      "outputs": [
        {
          "data": {
            "text/plain": [
              "2020"
            ]
          },
          "execution_count": 38,
          "metadata": {},
          "output_type": "execute_result"
        }
      ],
      "source": [
        "x.year"
      ]
    },
    {
      "cell_type": "code",
      "execution_count": null,
      "metadata": {
        "id": "x41dD_FIny9D",
        "outputId": "078726e1-3498-42b4-9d5c-4326549b9d5b"
      },
      "outputs": [
        {
          "data": {
            "text/plain": [
              "9"
            ]
          },
          "execution_count": 39,
          "metadata": {},
          "output_type": "execute_result"
        }
      ],
      "source": [
        "x.month"
      ]
    },
    {
      "cell_type": "code",
      "execution_count": null,
      "metadata": {
        "id": "EayrdQERny9E",
        "outputId": "ba78dc1d-81e8-4b7e-bb04-1930a5595988"
      },
      "outputs": [
        {
          "data": {
            "text/plain": [
              "26"
            ]
          },
          "execution_count": 40,
          "metadata": {},
          "output_type": "execute_result"
        }
      ],
      "source": [
        "x.day"
      ]
    },
    {
      "cell_type": "code",
      "execution_count": null,
      "metadata": {
        "id": "twP5EJBdny9E",
        "outputId": "139dd413-6769-4bb8-a9f6-ca5634b95e81"
      },
      "outputs": [
        {
          "data": {
            "text/plain": [
              "1"
            ]
          },
          "execution_count": 42,
          "metadata": {},
          "output_type": "execute_result"
        }
      ],
      "source": [
        "x.hour"
      ]
    },
    {
      "cell_type": "code",
      "execution_count": null,
      "metadata": {
        "id": "V4OlgIK_ny9E",
        "outputId": "45210102-d250-4081-b787-dc80fa96e3ee"
      },
      "outputs": [
        {
          "data": {
            "text/plain": [
              "12"
            ]
          },
          "execution_count": 43,
          "metadata": {},
          "output_type": "execute_result"
        }
      ],
      "source": [
        "x.minute"
      ]
    },
    {
      "cell_type": "code",
      "execution_count": null,
      "metadata": {
        "id": "Vz6uReZ0ny9E",
        "outputId": "e507d2ec-63f3-4d89-bc7f-3a698621e756"
      },
      "outputs": [
        {
          "data": {
            "text/plain": [
              "5"
            ]
          },
          "execution_count": 44,
          "metadata": {},
          "output_type": "execute_result"
        }
      ],
      "source": [
        "x.second"
      ]
    },
    {
      "cell_type": "markdown",
      "metadata": {
        "id": "jb855eSsny9F"
      },
      "source": [
        "# Date Output\n",
        "When we execute the code from the example above the result will be:\n",
        "\n",
        "2020-09-19 20:24:29.012087\n",
        "The date contains year, month, day, hour, minute, second, and microsecond.\n",
        "\n",
        "The datetime module has many methods to return information about the date object.\n",
        "\n",
        "Here are a few examples, you will learn more about them later in this chapter:"
      ]
    },
    {
      "cell_type": "code",
      "execution_count": null,
      "metadata": {
        "id": "C0ho81VVny9F",
        "outputId": "a6f5fbf3-5361-4416-d262-ac1db6461ac5"
      },
      "outputs": [
        {
          "name": "stdout",
          "output_type": "stream",
          "text": [
            "2020\n",
            "Saturday\n"
          ]
        }
      ],
      "source": [
        "# Return the year and name of weekday:\n",
        "\n",
        "import datetime\n",
        "\n",
        "x = datetime.datetime.now()\n",
        "\n",
        "print(x.year)\n",
        "print(x.strftime(\"%A\"))"
      ]
    },
    {
      "cell_type": "markdown",
      "metadata": {
        "id": "OgW-hFDBny9F"
      },
      "source": [
        "# Creating Date Objects\n",
        "To create a date, we can use the datetime() class (constructor) of the datetime module.\n",
        "\n",
        "The datetime() class requires three parameters to create a date: year, month, day."
      ]
    },
    {
      "cell_type": "code",
      "execution_count": null,
      "metadata": {
        "id": "lLVwiqScny9F",
        "outputId": "c845b87a-aec6-4239-b6b2-2c5fd1bd5a72"
      },
      "outputs": [
        {
          "name": "stdout",
          "output_type": "stream",
          "text": [
            "2020-05-17 00:00:00\n"
          ]
        }
      ],
      "source": [
        "#Create a date object:\n",
        "\n",
        "import datetime\n",
        "\n",
        "x = datetime.datetime(2020, 5, 17)\n",
        "\n",
        "print(x)"
      ]
    },
    {
      "cell_type": "markdown",
      "metadata": {
        "id": "iqBgq2liny9G"
      },
      "source": [
        "The datetime() class also takes parameters for time and timezone (hour, minute, second, microsecond, tzone), but they are optional, and has a default value of 0, (None for timezone)."
      ]
    },
    {
      "cell_type": "markdown",
      "metadata": {
        "id": "U-rR6t5dny9G"
      },
      "source": [
        "# The strftime() Method\n",
        "The datetime object has a method for formatting date objects into readable strings.\n",
        "\n",
        "The method is called strftime(), and takes one parameter, format, to specify the format of the returned string:"
      ]
    },
    {
      "cell_type": "code",
      "execution_count": null,
      "metadata": {
        "id": "vSb7pjdany9G",
        "outputId": "f3077811-fa5b-4c76-d5b9-195fa30d568a"
      },
      "outputs": [
        {
          "name": "stdout",
          "output_type": "stream",
          "text": [
            "June\n"
          ]
        }
      ],
      "source": [
        "import datetime\n",
        "\n",
        "x = datetime.datetime(2018, 6, 1)\n",
        "\n",
        "print(x.strftime(\"%B\"))"
      ]
    },
    {
      "cell_type": "markdown",
      "metadata": {
        "id": "JQyFAyiwny9H"
      },
      "source": [
        "You can find out more formats you can try to generate for datetime in https://strftime.org/"
      ]
    },
    {
      "cell_type": "markdown",
      "metadata": {
        "id": "W5jg1akvny9H"
      },
      "source": [
        "# What if we want to extract date information from a string?"
      ]
    },
    {
      "cell_type": "code",
      "execution_count": null,
      "metadata": {
        "id": "wwk1jSpdny9H",
        "outputId": "63a49aca-938e-4b15-fde5-5a97e6698d71"
      },
      "outputs": [
        {
          "name": "stdout",
          "output_type": "stream",
          "text": [
            "Date: 2018-06-29\n",
            "Time: 08:15:27.243860\n",
            "Date-time: 2018-06-29 08:15:27.243860\n"
          ]
        }
      ],
      "source": [
        "# Using the same format syntax, you can setup a template to 'parse' the string to date object\n",
        "\n",
        "import datetime\n",
        "\n",
        "date_time_str = '2018-06-29 08:15:27.243860'\n",
        "date_time_obj = datetime.datetime.strptime(date_time_str, '%Y-%m-%d %H:%M:%S.%f')\n",
        "\n",
        "print('Date:', date_time_obj.date())\n",
        "print('Time:', date_time_obj.time())\n",
        "print('Date-time:', date_time_obj)"
      ]
    },
    {
      "cell_type": "markdown",
      "metadata": {
        "id": "uxshqRslny9H"
      },
      "source": [
        "# Lambda Functions"
      ]
    },
    {
      "cell_type": "markdown",
      "metadata": {
        "id": "1H19V0Z0ny9I"
      },
      "source": [
        "A lambda function is a small anonymous function.\n",
        "\n",
        "A lambda function can take any number of arguments, but can only have one expression.\n",
        "\n",
        "## Syntax\n",
        "    lambda arguments : expression"
      ]
    },
    {
      "cell_type": "code",
      "execution_count": null,
      "metadata": {
        "id": "JXjyS7AVny9J",
        "outputId": "542641d0-58b4-4491-c56b-0f978e84443f"
      },
      "outputs": [
        {
          "name": "stdout",
          "output_type": "stream",
          "text": [
            "15\n"
          ]
        }
      ],
      "source": [
        "# Example\n",
        "# A lambda function that adds 10 to the number passed in as an argument, and print the result:\n",
        "\n",
        "x = lambda a : a + 10\n",
        "\n",
        "print(x(5))"
      ]
    },
    {
      "cell_type": "code",
      "execution_count": null,
      "metadata": {
        "id": "kNehgkZ1ny9J",
        "outputId": "14a4c137-7241-4f8a-b84d-4d2d3171d55d"
      },
      "outputs": [
        {
          "name": "stdout",
          "output_type": "stream",
          "text": [
            "30\n"
          ]
        }
      ],
      "source": [
        "# A lambda function that multiplies argument a with argument b and print the result:\n",
        "\n",
        "x = lambda a, b : a * b\n",
        "print(x(5, 6))"
      ]
    },
    {
      "cell_type": "code",
      "execution_count": null,
      "metadata": {
        "id": "6pd9bgbJny9J",
        "outputId": "0bab1120-1e41-47a6-da52-b0e4bafd7a5d"
      },
      "outputs": [
        {
          "name": "stdout",
          "output_type": "stream",
          "text": [
            "13\n"
          ]
        }
      ],
      "source": [
        "# A lambda function that sums argument a, b, and c and print the result:\n",
        "\n",
        "x = lambda a, b, c : a + b + c\n",
        "print(x(5, 6, 2))"
      ]
    },
    {
      "cell_type": "markdown",
      "metadata": {
        "id": "gnQM8r2Dny9J"
      },
      "source": [
        "## Why Use Lambda Functions?\n",
        "The power of lambda is better shown when you use them as an anonymous function inside another function.\n",
        "\n",
        "Say you have a function definition that takes one argument, and that argument will be multiplied with an unknown number:"
      ]
    },
    {
      "cell_type": "code",
      "execution_count": null,
      "metadata": {
        "id": "7pagIe8_ny9K"
      },
      "outputs": [],
      "source": [
        "def myfunc(n):\n",
        "  return lambda a : a * n"
      ]
    },
    {
      "cell_type": "code",
      "execution_count": null,
      "metadata": {
        "id": "mrjIg5-ony9K",
        "outputId": "e8373375-e2c5-475c-ba07-1edddca8264f"
      },
      "outputs": [
        {
          "name": "stdout",
          "output_type": "stream",
          "text": [
            "22\n"
          ]
        }
      ],
      "source": [
        "# Use that function definition to make a function that always doubles the number you send in:\n",
        "    \n",
        "def myfunc(n):\n",
        "  return lambda a : a * n\n",
        "\n",
        "mydoubler = myfunc(2)\n",
        "\n",
        "print(mydoubler(11))"
      ]
    },
    {
      "cell_type": "code",
      "execution_count": null,
      "metadata": {
        "id": "Bml9kgysny9K",
        "outputId": "11294f91-834f-4172-83b6-1db5e72be33d"
      },
      "outputs": [
        {
          "name": "stdout",
          "output_type": "stream",
          "text": [
            "33\n"
          ]
        }
      ],
      "source": [
        "# Or, use the same function definition to make a function that always triples the number you send in:\n",
        "\n",
        "def myfunc(n):\n",
        "  return lambda a : a * n\n",
        "\n",
        "mytripler = myfunc(3)\n",
        "\n",
        "print(mytripler(11))"
      ]
    },
    {
      "cell_type": "code",
      "execution_count": null,
      "metadata": {
        "id": "KIe1uAyDny9K",
        "outputId": "da3e187c-6e37-4970-8364-b134256fea68"
      },
      "outputs": [
        {
          "name": "stdout",
          "output_type": "stream",
          "text": [
            "22\n",
            "33\n"
          ]
        }
      ],
      "source": [
        "# Or, use the same function definition to make both functions, in the same program:\n",
        "    \n",
        "def myfunc(n):\n",
        "  return lambda a : a * n\n",
        "\n",
        "mydoubler = myfunc(2)\n",
        "mytripler = myfunc(3)\n",
        "\n",
        "print(mydoubler(11))\n",
        "print(mytripler(11))"
      ]
    },
    {
      "cell_type": "markdown",
      "metadata": {
        "id": "SNgjUL2Zny9L"
      },
      "source": [
        "## What are other special applications of lambda functions?\n",
        "* Distributed Computing - no need to worry about algorithm changes being read from a single storage as all servers have their own copies of it and can adjust accordingly\n",
        "* Privacy and security - anonymously send algorithms in any machine, run it, not worry about the need to store a copy locally\n",
        "\n",
        "All in all don't stress over lambda functions as they are an advanced topic but it is good to have a good understanding in case you encounter them in the wild"
      ]
    },
    {
      "cell_type": "markdown",
      "metadata": {
        "id": "DCD5z2MFny9Q"
      },
      "source": [
        "---\n",
        "**CONGRATS FOR FINISHING!:** [Go back to index](00_index.ipynb)"
      ]
    },
    {
      "cell_type": "code",
      "execution_count": null,
      "metadata": {
        "id": "8xNn8ovlny9Q"
      },
      "outputs": [],
      "source": [
        ""
      ]
    }
  ],
  "metadata": {
    "kernelspec": {
      "display_name": "Python 3",
      "language": "python",
      "name": "python3"
    },
    "language_info": {
      "codemirror_mode": {
        "name": "ipython",
        "version": 3
      },
      "file_extension": ".py",
      "mimetype": "text/x-python",
      "name": "python",
      "nbconvert_exporter": "python",
      "pygments_lexer": "ipython3",
      "version": "3.8.3"
    },
    "colab": {
      "name": "Appendix_Sets_Math_Date.ipynb",
      "provenance": [],
      "include_colab_link": true
    }
  },
  "nbformat": 4,
  "nbformat_minor": 0
}